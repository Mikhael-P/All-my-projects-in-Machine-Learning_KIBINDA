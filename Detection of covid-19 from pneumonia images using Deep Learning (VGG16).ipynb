{
 "cells": [
  {
   "cell_type": "markdown",
   "metadata": {},
   "source": [
    "## Import required packages"
   ]
  },
  {
   "cell_type": "code",
   "execution_count": 1,
   "metadata": {},
   "outputs": [
    {
     "name": "stdout",
     "output_type": "stream",
     "text": [
      "Collecting imutils\n",
      "  Downloading imutils-0.5.3.tar.gz (17 kB)\n",
      "Building wheels for collected packages: imutils\n",
      "  Building wheel for imutils (setup.py) ... \u001b[?25ldone\n",
      "\u001b[?25h  Created wheel for imutils: filename=imutils-0.5.3-py3-none-any.whl size=25850 sha256=c7d5043037c1ce4d0cf2bb4616b1e3276ac9d4f00ce2ce1455b8fd83b260c0b5\n",
      "  Stored in directory: /root/.cache/pip/wheels/27/4d/3a/6dcdf7c3ebc87bf1ae013d96c9cf060ccfe334bb5ee769f377\n",
      "Successfully built imutils\n",
      "Installing collected packages: imutils\n",
      "Successfully installed imutils-0.5.3\n"
     ]
    }
   ],
   "source": [
    "!pip install imutils"
   ]
  },
  {
   "cell_type": "code",
   "execution_count": 2,
   "metadata": {
    "_cell_guid": "cd241d32-22ba-47b8-8703-2a87735b1cbb",
    "_uuid": "57bb749c-3b51-4cca-880e-fe06cb678334"
   },
   "outputs": [],
   "source": [
    "from tensorflow.keras.preprocessing.image import ImageDataGenerator\n",
    "import tensorflow as tf\n",
    "from tensorflow.keras.applications.densenet import DenseNet121\n",
    "from tensorflow.keras.layers import Flatten,MaxPooling2D,Dropout\n",
    "from tensorflow.keras.layers import Dense,GlobalAveragePooling2D,Convolution2D,BatchNormalization\n",
    "from tensorflow.keras.optimizers import Adam, RMSprop\n",
    "from tensorflow.keras import layers, metrics\n",
    "from tensorflow.keras.models import Model, load_model\n",
    "from tensorflow.keras import callbacks\n",
    "from sklearn.metrics import classification_report\n",
    "from sklearn.metrics import confusion_matrix\n",
    "from imutils import paths\n",
    "from tensorflow.keras.utils import to_categorical\n",
    "from sklearn.preprocessing import LabelBinarizer\n",
    "from sklearn.model_selection import train_test_split\n",
    "import seaborn as sns\n",
    "import matplotlib.pyplot as plt\n",
    "import pandas as pd\n",
    "import numpy as np\n",
    "import random\n",
    "import shutil\n",
    "import cv2\n",
    "import os"
   ]
  },
  {
   "cell_type": "code",
   "execution_count": 3,
   "metadata": {},
   "outputs": [
    {
     "name": "stdout",
     "output_type": "stream",
     "text": [
      "2.2.4-tf\n",
      "2.1.0\n"
     ]
    }
   ],
   "source": [
    "from tensorflow import keras\n",
    "print(keras.__version__)\n",
    "print(tf.__version__)"
   ]
  },
  {
   "cell_type": "code",
   "execution_count": 4,
   "metadata": {},
   "outputs": [],
   "source": [
    "dataset_path = './dataset'"
   ]
  },
  {
   "cell_type": "markdown",
   "metadata": {},
   "source": [
    "## Build Dataset"
   ]
  },
  {
   "cell_type": "code",
   "execution_count": 5,
   "metadata": {},
   "outputs": [],
   "source": [
    "%%bash\n",
    "rm -rf dataset\n",
    "mkdir -p dataset/train/covid\n",
    "mkdir -p dataset/test/covid\n",
    "mkdir -p dataset/train/normal\n",
    "mkdir -p dataset/test/normal\n",
    "mkdir -p dataset/train/pneumonia\n",
    "mkdir -p dataset/test/pneumonia"
   ]
  },
  {
   "cell_type": "markdown",
   "metadata": {},
   "source": [
    "### Covid xray dataset"
   ]
  },
  {
   "cell_type": "code",
   "execution_count": 6,
   "metadata": {},
   "outputs": [],
   "source": [
    "covid_dataset_path = '../input/covid-chest-xray/covid-chestxray-dataset-master'"
   ]
  },
  {
   "cell_type": "code",
   "execution_count": 7,
   "metadata": {},
   "outputs": [],
   "source": [
    "# construct the path to the metadata CSV file and load it\n",
    "csvPath = os.path.sep.join([covid_dataset_path, \"metadata.csv\"])\n",
    "df = pd.read_csv(csvPath)\n",
    "#df = df[(df['finding'] == 'COVID-19')]\n",
    "df = df[(df['finding'] == 'COVID-19') & (df['view'] == 'PA')]\n",
    "#df = df[df['view'] == 'PA']\n",
    "df_train, df_test, _, _ = train_test_split(df, df, test_size=0.20, random_state=42)\n"
   ]
  },
  {
   "cell_type": "code",
   "execution_count": 8,
   "metadata": {},
   "outputs": [
    {
     "name": "stdout",
     "output_type": "stream",
     "text": [
      "144\n",
      "36\n",
      "180\n"
     ]
    }
   ],
   "source": [
    "print(df_train.shape[0])\n",
    "print(df_test.shape[0])\n",
    "print(df.shape[0])"
   ]
  },
  {
   "cell_type": "code",
   "execution_count": 9,
   "metadata": {},
   "outputs": [],
   "source": [
    "covid_count = 0\n",
    "# loop over the rows of the COVID-19 data frame(train)\n",
    "for (i, row) in df_train.iterrows():\n",
    "    # build the path to the input image file\n",
    "    imagePath = os.path.sep.join([covid_dataset_path, \"images\", row[\"filename\"]])\n",
    "\n",
    "    # if the input image file does not exist (there are some errors in\n",
    "    # the COVID-19 metadeta file), ignore the row\n",
    "    if not os.path.exists(imagePath):\n",
    "        continue\n",
    "\n",
    "    # extract the filename from the image path and then construct the\n",
    "    # path to the copied image file\n",
    "    filename = row[\"filename\"].split(os.path.sep)[-1]\n",
    "    outputPath = os.path.sep.join([f\"{dataset_path}/train/covid\", filename])\n",
    "    covid_count = covid_count+1\n",
    "\n",
    "    # copy the image\n",
    "    shutil.copy2(imagePath, outputPath)\n",
    "    \n",
    "    \n",
    "# loop over the rows of the COVID-19 data frame(test)\n",
    "for (i, row) in df_test.iterrows():\n",
    "    \n",
    "    # build the path to the input image file\n",
    "    imagePath = os.path.sep.join([covid_dataset_path, \"images\", row[\"filename\"]])\n",
    "\n",
    "    # if the input image file does not exist (there are some errors in\n",
    "    # the COVID-19 metadeta file), ignore the row\n",
    "    if not os.path.exists(imagePath):\n",
    "        continue\n",
    "\n",
    "    # extract the filename from the image path and then construct the\n",
    "    # path to the copied image file\n",
    "    filename = row[\"filename\"].split(os.path.sep)[-1]\n",
    "    outputPath = os.path.sep.join([f\"{dataset_path}/test/covid\", filename])\n",
    "    covid_count = covid_count+1\n",
    "\n",
    "    # copy the image\n",
    "    shutil.copy2(imagePath, outputPath)"
   ]
  },
  {
   "cell_type": "code",
   "execution_count": 10,
   "metadata": {},
   "outputs": [
    {
     "data": {
      "text/plain": [
       "180"
      ]
     },
     "execution_count": 10,
     "metadata": {},
     "output_type": "execute_result"
    }
   ],
   "source": [
    "covid_count"
   ]
  },
  {
   "cell_type": "markdown",
   "metadata": {},
   "source": [
    "### Build normal xray dataset"
   ]
  },
  {
   "cell_type": "code",
   "execution_count": 11,
   "metadata": {},
   "outputs": [],
   "source": [
    "pneumonia_dataset_path ='../input/chest-xray-pneumonia/chest_xray'"
   ]
  },
  {
   "cell_type": "code",
   "execution_count": 12,
   "metadata": {},
   "outputs": [],
   "source": [
    "basePath = os.path.sep.join([pneumonia_dataset_path, \"train\", \"NORMAL\"])\n",
    "imagePaths = list(paths.list_images(basePath))\n",
    "\n",
    "from sklearn.model_selection import train_test_split\n",
    "\n",
    "image_paths_train, image_paths_test, _, _ = train_test_split(imagePaths, imagePaths, test_size=0.20, random_state=42)\n",
    "\n",
    "#print(image_paths_train)\n",
    "\n",
    "# randomly sample the image paths\n",
    "random.seed(42)\n",
    "\n",
    "# loop over the image paths(training)\n",
    "for (i, imagePath) in enumerate(image_paths_train):\n",
    "    # extract the filename from the image path and then construct the\n",
    "    # path to the copied image file\n",
    "    filename = imagePath.split(os.path.sep)[-1]\n",
    "    outputPath = os.path.sep.join([f\"{dataset_path}/train/normal\", filename])\n",
    "\n",
    "    # copy the image\n",
    "    shutil.copy2(imagePath, outputPath)\n",
    "    \n",
    "# loop over the image paths(test)\n",
    "for (i, imagePath) in enumerate(image_paths_test):\n",
    "    # extract the filename from the image path and then construct the\n",
    "    # path to the copied image file\n",
    "    filename = imagePath.split(os.path.sep)[-1]\n",
    "    outputPath = os.path.sep.join([f\"{dataset_path}/test/normal\", filename])\n",
    "\n",
    "    # copy the image\n",
    "    shutil.copy2(imagePath, outputPath)"
   ]
  },
  {
   "cell_type": "code",
   "execution_count": 13,
   "metadata": {},
   "outputs": [
    {
     "data": {
      "text/plain": [
       "1341"
      ]
     },
     "execution_count": 13,
     "metadata": {},
     "output_type": "execute_result"
    }
   ],
   "source": [
    "len(imagePaths)"
   ]
  },
  {
   "cell_type": "code",
   "execution_count": 14,
   "metadata": {},
   "outputs": [],
   "source": [
    "basePathx = os.path.sep.join([pneumonia_dataset_path, \"train\", \"PNEUMONIA\"])\n",
    "imagePathss = list(paths.list_images(basePathx))\n",
    "\n",
    "from sklearn.model_selection import train_test_split\n",
    "\n",
    "image_pathss_train, image_pathss_test, _, _ = train_test_split(imagePathss, imagePathss, test_size=0.20, random_state=42)\n",
    "\n",
    "#print(image_paths_train)\n",
    "\n",
    "# randomly sample the image paths\n",
    "random.seed(42)\n",
    "\n",
    "# loop over the image paths(training)\n",
    "for (i, imagePath) in enumerate(image_pathss_train):\n",
    "    # extract the filename from the image path and then construct the\n",
    "    # path to the copied image file\n",
    "    filename = imagePath.split(os.path.sep)[-1]\n",
    "    outputPath = os.path.sep.join([f\"{dataset_path}/train/pneumonia\", filename])\n",
    "\n",
    "    # copy the image\n",
    "    shutil.copy2(imagePath, outputPath)\n",
    "    \n",
    "# loop over the image paths(test)\n",
    "for (i, imagePath) in enumerate(image_pathss_test):\n",
    "    # extract the filename from the image path and then construct the\n",
    "    # path to the copied image file\n",
    "    filename = imagePath.split(os.path.sep)[-1]\n",
    "    outputPath = os.path.sep.join([f\"{dataset_path}/test/pneumonia\", filename])\n",
    "\n",
    "    # copy the image\n",
    "    shutil.copy2(imagePath, outputPath)"
   ]
  },
  {
   "cell_type": "code",
   "execution_count": 15,
   "metadata": {},
   "outputs": [
    {
     "data": {
      "text/plain": [
       "3875"
      ]
     },
     "execution_count": 15,
     "metadata": {},
     "output_type": "execute_result"
    }
   ],
   "source": [
    "len(imagePathss)"
   ]
  },
  {
   "cell_type": "markdown",
   "metadata": {
    "_cell_guid": "86339762-094b-401b-8b86-0c7e2edf4525",
    "_uuid": "ff72b2e4-a3f5-4ca2-8fa8-33d5ab4b3e2d"
   },
   "source": [
    "## Data Generators"
   ]
  },
  {
   "cell_type": "code",
   "execution_count": 16,
   "metadata": {},
   "outputs": [],
   "source": [
    "selectedClasses = ['normal','covid','pneumonia']"
   ]
  },
  {
   "cell_type": "code",
   "execution_count": 17,
   "metadata": {},
   "outputs": [
    {
     "name": "stdout",
     "output_type": "stream",
     "text": [
      "Found 3454 images belonging to 3 classes.\n",
      "Found 862 images belonging to 3 classes.\n",
      "Found 1080 images belonging to 3 classes.\n"
     ]
    }
   ],
   "source": [
    "train_data_dir = dataset_path + \"/train\"\n",
    "test_data_dir = dataset_path + \"/test\"\n",
    "img_height = 64\n",
    "img_width = 64\n",
    "batch_size = 16\n",
    "train_datagen = ImageDataGenerator(rescale=1. / 255,\n",
    "                                   #shear_range=0.2,\n",
    "                                   zoom_range=0.2,\n",
    "                                   validation_split=0.2,\n",
    "                                   rotation_range = 5,\n",
    "                                   width_shift_range=0.1,\n",
    "                                   height_shift_range=0.1,\n",
    "                                   horizontal_flip=True) # set validation split\n",
    "\n",
    "test_datagen = ImageDataGenerator(rescale=1. / 255)\n",
    "\n",
    "train_generator = train_datagen.flow_from_directory(\n",
    "    train_data_dir,\n",
    "    target_size=(img_height, img_width),\n",
    "    batch_size=batch_size,\n",
    "    class_mode='categorical',\n",
    "    classes = selectedClasses,\n",
    "    subset='training') # set as training data\n",
    "\n",
    "validation_generator = train_datagen.flow_from_directory(\n",
    "    train_data_dir, # same directory as training data\n",
    "    target_size=(img_height, img_width),\n",
    "    batch_size=batch_size,\n",
    "    class_mode='categorical',\n",
    "    classes = selectedClasses,\n",
    "    subset='validation')\n",
    "\n",
    "\n",
    "test_generator = test_datagen.flow_from_directory(\n",
    "    test_data_dir, # same directory as training data\n",
    "    target_size=(img_height, img_width),\n",
    "    batch_size=batch_size,\n",
    "    classes = selectedClasses,\n",
    "    shuffle=False,\n",
    "    class_mode='categorical')\n",
    "\n"
   ]
  },
  {
   "cell_type": "code",
   "execution_count": 18,
   "metadata": {},
   "outputs": [
    {
     "name": "stdout",
     "output_type": "stream",
     "text": [
      "In train_generator \n",
      "normal :\t 858\n",
      "covid :\t 116\n",
      "pneumonia :\t 2480\n",
      "\n",
      "In validation_generator \n",
      "normal :\t 214\n",
      "covid :\t 28\n",
      "pneumonia :\t 620\n",
      "\n",
      "In test_generator \n",
      "normal :\t 269\n",
      "covid :\t 36\n",
      "pneumonia :\t 775\n"
     ]
    }
   ],
   "source": [
    "print (\"In train_generator \")\n",
    "for cls in range(len (train_generator.class_indices)):\n",
    "    print(selectedClasses[cls],\":\\t\",list(train_generator.classes).count(cls))\n",
    "print (\"\") \n",
    "\n",
    "print (\"In validation_generator \")\n",
    "for cls in range(len (validation_generator.class_indices)):\n",
    "    print(selectedClasses[cls],\":\\t\",list(validation_generator.classes).count(cls))\n",
    "print (\"\") \n",
    "\n",
    "print (\"In test_generator \")\n",
    "for cls in range(len (test_generator.class_indices)):\n",
    "    print(selectedClasses[cls],\":\\t\",list(test_generator.classes).count(cls))"
   ]
  },
  {
   "cell_type": "code",
   "execution_count": 19,
   "metadata": {},
   "outputs": [
    {
     "data": {
      "image/png": "[encoded data removed]",
      "text/plain": [
       "<Figure size 432x288 with 1 Axes>"
      ]
     },
     "metadata": {},
     "output_type": "display_data"
    }
   ],
   "source": [
    "label_s = ['Train data', 'Test data','Validation data']\n",
    "values = [len(train_generator), len(test_generator), len(validation_generator)]\n",
    "colors = ['green','blue','orange']\n",
    "plt.pie(values, labels=label_s, colors=colors)\n",
    "plt.axis('equal')\n",
    "plt.show()"
   ]
  },
  {
   "cell_type": "code",
   "execution_count": 20,
   "metadata": {},
   "outputs": [
    {
     "name": "stdout",
     "output_type": "stream",
     "text": [
      "{0: 'normal', 1: 'covid', 2: 'pneumonia'}\n"
     ]
    },
    {
     "data": {
      "text/plain": [
       "Text(0.5, 1.0, 'Statistic of train set, \\n {0: normal, 1: covid, 2: pneumonia}')"
      ]
     },
     "execution_count": 20,
     "metadata": {},
     "output_type": "execute_result"
    },
    {
     "data": {
      "image/png": "[encoded data removed]",
      "text/plain": [
       "<Figure size 432x288 with 1 Axes>"
      ]
     },
     "metadata": {
      "needs_background": "light"
     },
     "output_type": "display_data"
    }
   ],
   "source": [
    "map_characters = {0: 'normal', 1: 'covid', 2: 'pneumonia'}\n",
    "dict_characters=map_characters\n",
    "import seaborn as sns\n",
    "df = pd.DataFrame()\n",
    "df[\"labels\"]=train_generator.classes\n",
    "lab = df['labels']\n",
    "dist = lab.value_counts()\n",
    "sns.countplot(lab)\n",
    "print(dict_characters)\n",
    "plt.title('Statistic of train set, \\n {0: normal, 1: covid, 2: pneumonia}')"
   ]
  },
  {
   "cell_type": "code",
   "execution_count": 21,
   "metadata": {},
   "outputs": [
    {
     "name": "stdout",
     "output_type": "stream",
     "text": [
      "{0: 'normal', 1: 'covid', 2: 'pneumonia'}\n"
     ]
    },
    {
     "data": {
      "text/plain": [
       "Text(0.5, 1.0, 'Statistic of test set, \\n {0: normal, 1: covid, 2: pneumonia}')"
      ]
     },
     "execution_count": 21,
     "metadata": {},
     "output_type": "execute_result"
    },
    {
     "data": {
      "image/png": "[encoded data removed]",
      "text/plain": [
       "<Figure size 432x288 with 1 Axes>"
      ]
     },
     "metadata": {
      "needs_background": "light"
     },
     "output_type": "display_data"
    }
   ],
   "source": [
    "map_characters = {0: 'normal', 1: 'covid', 2: 'pneumonia'}\n",
    "dict_characters=map_characters\n",
    "import seaborn as sns\n",
    "df = pd.DataFrame()\n",
    "df[\"labels\"]=test_generator.classes\n",
    "lab = df['labels']\n",
    "dist = lab.value_counts()\n",
    "sns.countplot(lab)\n",
    "print(dict_characters)\n",
    "plt.title('Statistic of test set, \\n {0: normal, 1: covid, 2: pneumonia}')"
   ]
  },
  {
   "cell_type": "code",
   "execution_count": 22,
   "metadata": {},
   "outputs": [
    {
     "name": "stdout",
     "output_type": "stream",
     "text": [
      "{0: 'normal', 1: 'covid', 2: 'pneumonia'}\n"
     ]
    },
    {
     "data": {
      "text/plain": [
       "Text(0.5, 1.0, 'Statistic of validation set, \\n {0: normal, 1: covid, 2: pneumonia}')"
      ]
     },
     "execution_count": 22,
     "metadata": {},
     "output_type": "execute_result"
    },
    {
     "data": {
      "image/png": "[encoded data removed]",
      "text/plain": [
       "<Figure size 432x288 with 1 Axes>"
      ]
     },
     "metadata": {
      "needs_background": "light"
     },
     "output_type": "display_data"
    }
   ],
   "source": [
    "map_characters = {0: 'normal', 1: 'covid', 2: 'pneumonia'}\n",
    "dict_characters=map_characters\n",
    "import seaborn as sns\n",
    "df = pd.DataFrame()\n",
    "df[\"labels\"]=validation_generator.classes\n",
    "lab = df['labels']\n",
    "dist = lab.value_counts()\n",
    "sns.countplot(lab)\n",
    "print(dict_characters)\n",
    "plt.title('Statistic of validation set, \\n {0: normal, 1: covid, 2: pneumonia}')"
   ]
  },
  {
   "cell_type": "code",
   "execution_count": 23,
   "metadata": {},
   "outputs": [
    {
     "data": {
      "text/plain": [
       "{'normal': 0, 'covid': 1, 'pneumonia': 2}"
      ]
     },
     "execution_count": 23,
     "metadata": {},
     "output_type": "execute_result"
    }
   ],
   "source": [
    "validation_generator.class_indices"
   ]
  },
  {
   "cell_type": "code",
   "execution_count": null,
   "metadata": {},
   "outputs": [],
   "source": []
  },
  {
   "cell_type": "markdown",
   "metadata": {},
   "source": [
    "### Create Model"
   ]
  },
  {
   "cell_type": "code",
   "execution_count": 53,
   "metadata": {},
   "outputs": [
    {
     "name": "stdout",
     "output_type": "stream",
     "text": [
      "Model: \"model_2\"\n",
      "_________________________________________________________________\n",
      "Layer (type)                 Output Shape              Param #   \n",
      "=================================================================\n",
      "input_2 (InputLayer)         (None, 64, 64, 3)         0         \n",
      "_________________________________________________________________\n",
      "block1_conv1 (Conv2D)        (None, 64, 64, 64)        1792      \n",
      "_________________________________________________________________\n",
      "block1_conv2 (Conv2D)        (None, 64, 64, 64)        36928     \n",
      "_________________________________________________________________\n",
      "block1_pool (MaxPooling2D)   (None, 32, 32, 64)        0         \n",
      "_________________________________________________________________\n",
      "block2_conv1 (Conv2D)        (None, 32, 32, 128)       73856     \n",
      "_________________________________________________________________\n",
      "block2_conv2 (Conv2D)        (None, 32, 32, 128)       147584    \n",
      "_________________________________________________________________\n",
      "block2_pool (MaxPooling2D)   (None, 16, 16, 128)       0         \n",
      "_________________________________________________________________\n",
      "block3_conv1 (Conv2D)        (None, 16, 16, 256)       295168    \n",
      "_________________________________________________________________\n",
      "block3_conv2 (Conv2D)        (None, 16, 16, 256)       590080    \n",
      "_________________________________________________________________\n",
      "block3_conv3 (Conv2D)        (None, 16, 16, 256)       590080    \n",
      "_________________________________________________________________\n",
      "block3_pool (MaxPooling2D)   (None, 8, 8, 256)         0         \n",
      "_________________________________________________________________\n",
      "block4_conv1 (Conv2D)        (None, 8, 8, 512)         1180160   \n",
      "_________________________________________________________________\n",
      "block4_conv2 (Conv2D)        (None, 8, 8, 512)         2359808   \n",
      "_________________________________________________________________\n",
      "block4_conv3 (Conv2D)        (None, 8, 8, 512)         2359808   \n",
      "_________________________________________________________________\n",
      "block4_pool (MaxPooling2D)   (None, 4, 4, 512)         0         \n",
      "_________________________________________________________________\n",
      "block5_conv1 (Conv2D)        (None, 4, 4, 512)         2359808   \n",
      "_________________________________________________________________\n",
      "block5_conv2 (Conv2D)        (None, 4, 4, 512)         2359808   \n",
      "_________________________________________________________________\n",
      "block5_conv3 (Conv2D)        (None, 4, 4, 512)         2359808   \n",
      "_________________________________________________________________\n",
      "block5_pool (MaxPooling2D)   (None, 2, 2, 512)         0         \n",
      "_________________________________________________________________\n",
      "flatten_2 (Flatten)          (None, 2048)              0         \n",
      "_________________________________________________________________\n",
      "dense_3 (Dense)              (None, 1024)              2098176   \n",
      "_________________________________________________________________\n",
      "dense_4 (Dense)              (None, 3)                 3075      \n",
      "=================================================================\n",
      "Total params: 16,815,939\n",
      "Trainable params: 16,815,939\n",
      "Non-trainable params: 0\n",
      "_________________________________________________________________\n"
     ]
    }
   ],
   "source": [
    "# example of tending the vgg16 model\n",
    "from keras.applications.vgg16 import VGG16\n",
    "from keras.models import Model\n",
    "from keras.layers import Dense\n",
    "from keras.layers import Flatten\n",
    "# load model without classifier layers\n",
    "model = VGG16(include_top=False, input_shape=(64, 64, 3), weights='imagenet')\n",
    "# add new classifier layers\n",
    "flat1 = Flatten()(model.layers[-1].output)\n",
    "class1 = Dense(1024, activation='relu')(flat1)\n",
    "output = Dense(3, activation='softmax')(class1)\n",
    "# define new model\n",
    "model = Model(inputs=model.inputs, outputs=output)\n",
    "# summarize\n",
    "model.summary()\n",
    "# ..."
   ]
  },
  {
   "cell_type": "code",
   "execution_count": 54,
   "metadata": {},
   "outputs": [],
   "source": [
    "model.compile(optimizer=tf.keras.optimizers.Adam(lr=0.0001), #Adam(), \n",
    "              loss='categorical_crossentropy', \n",
    "              metrics=['accuracy'])"
   ]
  },
  {
   "cell_type": "markdown",
   "metadata": {},
   "source": [
    "### Compute Class Weights"
   ]
  },
  {
   "cell_type": "code",
   "execution_count": 29,
   "metadata": {},
   "outputs": [],
   "source": [
    "import collections\n",
    "from collections import Counter"
   ]
  },
  {
   "cell_type": "code",
   "execution_count": 30,
   "metadata": {},
   "outputs": [
    {
     "name": "stdout",
     "output_type": "stream",
     "text": [
      "class_weights {0: 2.8904428904428903, 1: 21.379310344827587, 2: 1.0}\n"
     ]
    }
   ],
   "source": [
    "counter = Counter(train_generator.classes)                          \n",
    "max_val = float(max(counter.values()))       \n",
    "class_weights = {class_id : max_val/num_images for class_id, num_images in counter.items()}           \n",
    "print(f'class_weights {class_weights}')"
   ]
  },
  {
   "cell_type": "markdown",
   "metadata": {},
   "source": [
    "### Train Model"
   ]
  },
  {
   "cell_type": "code",
   "execution_count": 55,
   "metadata": {},
   "outputs": [],
   "source": [
    "numepochs = 25"
   ]
  },
  {
   "cell_type": "code",
   "execution_count": 31,
   "metadata": {},
   "outputs": [],
   "source": [
    "from keras.callbacks import Callback, EarlyStopping, ReduceLROnPlateau, ModelCheckpoint\n",
    "\n",
    "class MetricsCheckpoint(Callback):\n",
    "    \"\"\"Callback that saves metrics after each epoch\"\"\"\n",
    "    def __init__(self, savepath):\n",
    "        super(MetricsCheckpoint, self).__init__()\n",
    "        self.savepath = savepath\n",
    "        self.history = {}\n",
    "    def on_epoch_end(self, epoch, logs=None):\n",
    "        for k, v in logs.items():\n",
    "            self.history.setdefault(k, []).append(v)\n",
    "        np.save(self.savepath, self.history)"
   ]
  },
  {
   "cell_type": "code",
   "execution_count": 56,
   "metadata": {
    "scrolled": true
   },
   "outputs": [
    {
     "name": "stdout",
     "output_type": "stream",
     "text": [
      "Epoch 1/25\n",
      "216/216 [==============================] - 54s 252ms/step - loss: 1.4025 - accuracy: 0.7371 - val_loss: 0.4172 - val_accuracy: 0.6230\n",
      "Epoch 2/25\n",
      "216/216 [==============================] - 53s 244ms/step - loss: 0.7164 - accuracy: 0.8529 - val_loss: 0.5515 - val_accuracy: 0.8968\n",
      "Epoch 3/25\n",
      "216/216 [==============================] - 52s 242ms/step - loss: 0.5005 - accuracy: 0.8917 - val_loss: 0.7417 - val_accuracy: 0.8271\n",
      "Epoch 4/25\n",
      "216/216 [==============================] - 52s 242ms/step - loss: 0.5637 - accuracy: 0.8732 - val_loss: 0.1596 - val_accuracy: 0.8329\n",
      "Epoch 5/25\n",
      "216/216 [==============================] - 52s 241ms/step - loss: 0.4946 - accuracy: 0.9010 - val_loss: 0.2125 - val_accuracy: 0.8747\n",
      "Epoch 6/25\n",
      "216/216 [==============================] - 52s 242ms/step - loss: 0.5249 - accuracy: 0.8816 - val_loss: 0.3274 - val_accuracy: 0.9211\n",
      "Epoch 7/25\n",
      "216/216 [==============================] - 52s 243ms/step - loss: 0.6028 - accuracy: 0.8856 - val_loss: 0.1696 - val_accuracy: 0.8701\n",
      "Epoch 8/25\n",
      "216/216 [==============================] - 53s 244ms/step - loss: 0.4735 - accuracy: 0.8969 - val_loss: 0.0241 - val_accuracy: 0.9130\n",
      "Epoch 9/25\n",
      "216/216 [==============================] - 52s 240ms/step - loss: 0.5159 - accuracy: 0.9013 - val_loss: 0.0581 - val_accuracy: 0.9234\n",
      "Epoch 10/25\n",
      "216/216 [==============================] - 52s 241ms/step - loss: 0.3272 - accuracy: 0.9314 - val_loss: 0.1925 - val_accuracy: 0.9014\n",
      "Epoch 11/25\n",
      "216/216 [==============================] - 52s 243ms/step - loss: 0.5167 - accuracy: 0.9056 - val_loss: 0.7154 - val_accuracy: 0.9385\n",
      "Epoch 12/25\n",
      "216/216 [==============================] - 52s 242ms/step - loss: 0.3506 - accuracy: 0.9230 - val_loss: 0.3412 - val_accuracy: 0.7262\n",
      "Epoch 13/25\n",
      "216/216 [==============================] - 52s 242ms/step - loss: 0.3342 - accuracy: 0.9213 - val_loss: 0.3649 - val_accuracy: 0.9153\n",
      "Epoch 14/25\n",
      "216/216 [==============================] - 53s 245ms/step - loss: 0.2885 - accuracy: 0.9392 - val_loss: 0.1954 - val_accuracy: 0.9292\n",
      "Epoch 15/25\n",
      "216/216 [==============================] - 53s 245ms/step - loss: 0.2916 - accuracy: 0.9328 - val_loss: 0.1308 - val_accuracy: 0.9292\n",
      "Epoch 16/25\n",
      "216/216 [==============================] - 53s 246ms/step - loss: 0.3722 - accuracy: 0.9192 - val_loss: 0.0934 - val_accuracy: 0.9432\n",
      "Epoch 17/25\n",
      "216/216 [==============================] - 52s 242ms/step - loss: 0.3026 - accuracy: 0.9320 - val_loss: 0.5604 - val_accuracy: 0.7401\n",
      "Epoch 18/25\n",
      "216/216 [==============================] - 53s 246ms/step - loss: 0.2401 - accuracy: 0.9467 - val_loss: 0.0482 - val_accuracy: 0.9629\n",
      "Epoch 19/25\n",
      "216/216 [==============================] - 53s 245ms/step - loss: 0.2957 - accuracy: 0.9479 - val_loss: 0.1206 - val_accuracy: 0.9200\n",
      "Epoch 20/25\n",
      "216/216 [==============================] - 53s 245ms/step - loss: 0.2328 - accuracy: 0.9404 - val_loss: 0.0057 - val_accuracy: 0.9513\n",
      "Epoch 21/25\n",
      "216/216 [==============================] - 53s 245ms/step - loss: 0.2658 - accuracy: 0.9441 - val_loss: 0.0389 - val_accuracy: 0.9269\n",
      "Epoch 22/25\n",
      "216/216 [==============================] - 53s 245ms/step - loss: 0.2150 - accuracy: 0.9517 - val_loss: 0.3334 - val_accuracy: 0.9327\n",
      "Epoch 23/25\n",
      "216/216 [==============================] - 53s 246ms/step - loss: 0.4584 - accuracy: 0.9062 - val_loss: 0.0325 - val_accuracy: 0.9385\n",
      "Epoch 24/25\n",
      "216/216 [==============================] - 53s 247ms/step - loss: 0.1966 - accuracy: 0.9557 - val_loss: 0.0474 - val_accuracy: 0.8213\n",
      "Epoch 25/25\n",
      "216/216 [==============================] - 54s 249ms/step - loss: 0.2232 - accuracy: 0.9456 - val_loss: 0.0082 - val_accuracy: 0.9455\n"
     ]
    }
   ],
   "source": [
    "# Fit model\n",
    "history = model.fit(train_generator, epochs=numepochs, class_weight=class_weights, validation_data=validation_generator, verbose=1,callbacks = [MetricsCheckpoint('logs')]) #,callbacks = [MetricsCheckpoint('logs')]\n",
    "    #[MetricsCheckpoint('logs')]"
   ]
  },
  {
   "cell_type": "code",
   "execution_count": 57,
   "metadata": {},
   "outputs": [],
   "source": [
    "def plot_learning_curve(history):\n",
    "    plt.figure(figsize=(8,8))\n",
    "    plt.subplot(1,2,1)\n",
    "    plt.plot(history.history['accuracy'])\n",
    "    plt.plot(history.history['val_accuracy'])\n",
    "    plt.title('model accuracy')\n",
    "    plt.ylabel('accuracy')\n",
    "    plt.xlabel('epoch')\n",
    "    plt.legend(['train', 'test'], loc='upper left')\n",
    "    plt.savefig('./accuracy_curve.png')\n",
    "    plt.subplot(1,2,2)\n",
    "    plt.plot(history.history['loss'])\n",
    "    plt.plot(history.history['val_loss'])\n",
    "    plt.title('model loss')\n",
    "    plt.ylabel('loss')\n",
    "    plt.xlabel('epoch')\n",
    "    plt.legend(['train', 'test'], loc='upper left')\n",
    "    plt.savefig('./loss_curve.png')"
   ]
  },
  {
   "cell_type": "code",
   "execution_count": 58,
   "metadata": {},
   "outputs": [
    {
     "data": {
      "image/png": "[encoded data removed]",
      "text/plain": [
       "<Figure size 576x576 with 2 Axes>"
      ]
     },
     "metadata": {
      "needs_background": "light"
     },
     "output_type": "display_data"
    }
   ],
   "source": [
    "plot_learning_curve(history)"
   ]
  },
  {
   "cell_type": "code",
   "execution_count": 59,
   "metadata": {},
   "outputs": [],
   "source": [
    "batchSize = 16"
   ]
  },
  {
   "cell_type": "code",
   "execution_count": 60,
   "metadata": {},
   "outputs": [
    {
     "name": "stdout",
     "output_type": "stream",
     "text": [
      "For train data set; Loss:  0.2526872754096985  Accuracy:  0.9704689979553223\n"
     ]
    }
   ],
   "source": [
    "train_generator.reset()\n",
    "score = model.evaluate_generator(train_generator, (train_generator.samples + (batchSize-1)) //batchSize)\n",
    "print(\"For train data set; Loss: \",score[0],\" Accuracy: \", score[1])"
   ]
  },
  {
   "cell_type": "code",
   "execution_count": 61,
   "metadata": {},
   "outputs": [
    {
     "name": "stdout",
     "output_type": "stream",
     "text": [
      "For validation data set; Loss:  0.01096152514219284  Accuracy:  0.9396751523017883\n"
     ]
    }
   ],
   "source": [
    "validation_generator.reset()\n",
    "score = model.evaluate_generator(validation_generator, (validation_generator.samples + (batchSize-1)) //batchSize)\n",
    "print(\"For validation data set; Loss: \",score[0],\" Accuracy: \", score[1])"
   ]
  },
  {
   "cell_type": "code",
   "execution_count": 62,
   "metadata": {},
   "outputs": [
    {
     "name": "stdout",
     "output_type": "stream",
     "text": [
      "For test data set; Loss:  0.019514333456754684  Accuracy:  0.914814829826355\n"
     ]
    }
   ],
   "source": [
    "test_generator.reset()\n",
    "score = model.evaluate_generator(test_generator, (test_generator.samples + (batchSize-1)) // batchSize)\n",
    "print(\"For test data set; Loss: \",score[0],\" Accuracy: \", score[1])"
   ]
  },
  {
   "cell_type": "code",
   "execution_count": 63,
   "metadata": {},
   "outputs": [
    {
     "name": "stdout",
     "output_type": "stream",
     "text": [
      "testStep:  68\n",
      "68/68 [==============================] - 13s 191ms/step\n"
     ]
    },
    {
     "data": {
      "text/plain": [
       "1080"
      ]
     },
     "execution_count": 63,
     "metadata": {},
     "output_type": "execute_result"
    }
   ],
   "source": [
    "test_generator.reset()\n",
    "testStep = (test_generator.samples + (batchSize-1)) // batchSize\n",
    "print(\"testStep: \", testStep)\n",
    "predictions = model.predict_generator(test_generator, steps = testStep ,  verbose = 1)\n",
    "len(predictions)"
   ]
  },
  {
   "cell_type": "code",
   "execution_count": 64,
   "metadata": {},
   "outputs": [],
   "source": [
    "predicted_class_indices=np.argmax(predictions,axis=1)"
   ]
  },
  {
   "cell_type": "code",
   "execution_count": 65,
   "metadata": {},
   "outputs": [
    {
     "name": "stdout",
     "output_type": "stream",
     "text": [
      "{'normal': 0, 'covid': 1, 'pneumonia': 2}\n"
     ]
    }
   ],
   "source": [
    "predicted_class_indices=np.argmax(predictions,axis=1)\n",
    "labels = (test_generator.class_indices)\n",
    "print(labels)"
   ]
  },
  {
   "cell_type": "code",
   "execution_count": 66,
   "metadata": {},
   "outputs": [
    {
     "name": "stdout",
     "output_type": "stream",
     "text": [
      "{0: 'normal', 1: 'covid', 2: 'pneumonia'}\n"
     ]
    }
   ],
   "source": [
    "labels = dict((v,k) for k,v in labels.items())\n",
    "print(labels)"
   ]
  },
  {
   "cell_type": "code",
   "execution_count": 67,
   "metadata": {},
   "outputs": [],
   "source": [
    "predictedLables= [labels[k] for k in predicted_class_indices]\n",
    "#print(predictedLables)"
   ]
  },
  {
   "cell_type": "code",
   "execution_count": 68,
   "metadata": {},
   "outputs": [],
   "source": [
    "actualLables= [labels[k] for k in test_generator.classes]\n",
    "#print(actualLables)"
   ]
  },
  {
   "cell_type": "code",
   "execution_count": 69,
   "metadata": {},
   "outputs": [],
   "source": [
    "from sklearn.metrics import confusion_matrix\n",
    "from sklearn.metrics import average_precision_score\n",
    "from sklearn.metrics import recall_score\n",
    "from sklearn.metrics import precision_score\n",
    "from sklearn.metrics import accuracy_score\n",
    "from sklearn.metrics import classification_report"
   ]
  },
  {
   "cell_type": "code",
   "execution_count": 70,
   "metadata": {},
   "outputs": [
    {
     "data": {
      "text/plain": [
       "0.9148148148148149"
      ]
     },
     "execution_count": 70,
     "metadata": {},
     "output_type": "execute_result"
    }
   ],
   "source": [
    "actualLables= [labels[k] for k in test_generator.classes]\n",
    "#print(actualLables)\n",
    "accuracy_score(actualLables, predictedLables)"
   ]
  },
  {
   "cell_type": "code",
   "execution_count": 71,
   "metadata": {},
   "outputs": [
    {
     "name": "stdout",
     "output_type": "stream",
     "text": [
      "{0: 'normal', 1: 'covid', 2: 'pneumonia'}\n"
     ]
    },
    {
     "data": {
      "text/plain": [
       "array([[ 34,   1,   1],\n",
       "       [  0, 265,   4],\n",
       "       [  2,  84, 689]])"
      ]
     },
     "execution_count": 71,
     "metadata": {},
     "output_type": "execute_result"
    }
   ],
   "source": [
    "matrix = confusion_matrix(actualLables, predictedLables)\n",
    "print(labels)\n",
    "matrix"
   ]
  },
  {
   "cell_type": "code",
   "execution_count": 72,
   "metadata": {},
   "outputs": [
    {
     "name": "stdout",
     "output_type": "stream",
     "text": [
      "              precision    recall  f1-score   support\n",
      "\n",
      "       covid       0.94      0.94      0.94        36\n",
      "      normal       0.76      0.99      0.86       269\n",
      "   pneumonia       0.99      0.89      0.94       775\n",
      "\n",
      "    accuracy                           0.91      1080\n",
      "   macro avg       0.90      0.94      0.91      1080\n",
      "weighted avg       0.93      0.91      0.92      1080\n",
      "\n"
     ]
    }
   ],
   "source": [
    "print(classification_report(actualLables, predictedLables))"
   ]
  },
  {
   "cell_type": "code",
   "execution_count": 73,
   "metadata": {},
   "outputs": [],
   "source": [
    "#Prepared code that is taken from SKLearn Website, Creates Confusion Matrix\n",
    "import itertools \n",
    "def plot_confusion_matrix(cm, classes,\n",
    "                          normalize=False,\n",
    "                          title='Confusion matrix',\n",
    "                          cmap=plt.cm.Blues):\n",
    "    \"\"\"\n",
    "    This function prints and plots the confusion matrix.\n",
    "    Normalization can be applied by setting `normalize=True`.\n",
    "    \"\"\"\n",
    "    if normalize:\n",
    "        cm = cm.astype('float') / cm.sum(axis=1)[:, np.newaxis]\n",
    "        print(\"Normalized confusion matrix\")\n",
    "    else:\n",
    "        print('Confusion matrix, without normalization')\n",
    "\n",
    "    print(cm)\n",
    "\n",
    "    plt.imshow(cm, interpolation='nearest', cmap=cmap)\n",
    "    plt.title(title)\n",
    "    plt.colorbar()\n",
    "    tick_marks = np.arange(len(classes))\n",
    "    plt.xticks(tick_marks, classes, rotation=45)\n",
    "    plt.yticks(tick_marks, classes)\n",
    "\n",
    "    fmt = '.2f' if normalize else 'd'\n",
    "    thresh = cm.max() / 2.\n",
    "    for i, j in itertools.product(range(cm.shape[0]), range(cm.shape[1])):\n",
    "        plt.text(j, i, format(cm[i, j], fmt),\n",
    "                 horizontalalignment=\"center\",\n",
    "                 color=\"white\" if cm[i, j] > thresh else \"black\")\n",
    "\n",
    "    plt.tight_layout()\n",
    "    plt.ylabel('True label')\n",
    "    plt.xlabel('Predicted label')"
   ]
  },
  {
   "cell_type": "code",
   "execution_count": 74,
   "metadata": {},
   "outputs": [
    {
     "name": "stdout",
     "output_type": "stream",
     "text": [
      "Confusion matrix, without normalization\n",
      "[[ 34   1   1]\n",
      " [  0 265   4]\n",
      " [  2  84 689]]\n"
     ]
    },
    {
     "data": {
      "image/png": "[encoded data removed]",
      "text/plain": [
       "<Figure size 432x288 with 2 Axes>"
      ]
     },
     "metadata": {
      "needs_background": "light"
     },
     "output_type": "display_data"
    }
   ],
   "source": [
    "from sklearn.metrics import confusion_matrix\n",
    "cm_plot_labels = ['Covid-19','Normal','Pneumonia']\n",
    "plot_confusion_matrix(matrix,cm_plot_labels, normalize=False\n",
    "                      , title = 'Confusion Matrix')"
   ]
  },
  {
   "cell_type": "code",
   "execution_count": 1,
   "metadata": {},
   "outputs": [],
   "source": [
    "#recall_score( actualLables, predictedLables,average='weighted'), precision_score( actualLables, predictedLables,average='weighted') "
   ]
  },
  {
   "cell_type": "markdown",
   "metadata": {},
   "source": [
    "## Save Model"
   ]
  },
  {
   "cell_type": "code",
   "execution_count": 51,
   "metadata": {},
   "outputs": [],
   "source": [
    "model.save(dataset_path + \"/COVID_Detection\")"
   ]
  }
 ],
 "metadata": {
  "kernelspec": {
   "display_name": "Python 3",
   "language": "python",
   "name": "python3"
  },
  "language_info": {
   "codemirror_mode": {
    "name": "ipython",
    "version": 3
   },
   "file_extension": ".py",
   "mimetype": "text/x-python",
   "name": "python",
   "nbconvert_exporter": "python",
   "pygments_lexer": "ipython3",
   "version": "3.8.3"
  }
 },
 "nbformat": 4,
 "nbformat_minor": 4
}
