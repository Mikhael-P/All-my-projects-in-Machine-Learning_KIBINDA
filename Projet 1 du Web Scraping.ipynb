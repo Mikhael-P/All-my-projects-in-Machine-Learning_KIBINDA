{
 "cells": [
  {
   "cell_type": "markdown",
   "metadata": {},
   "source": [
    "# Group n° 2  :\n",
    " ### Arnaud WATUSADISI MAVAKALA  \n",
    " ### Mikhaël Presley KIBINDA-MOUKENGUE  \n",
    " ### Rigobert TSOUAPI "
   ]
  },
  {
   "cell_type": "markdown",
   "metadata": {},
   "source": [
    "# Scraping"
   ]
  },
  {
   "cell_type": "code",
   "execution_count": 1,
   "metadata": {},
   "outputs": [],
   "source": [
    "from requests import get\n",
    "from bs4 import BeautifulSoup\n",
    "\n",
    "import pandas as pd"
   ]
  },
  {
   "cell_type": "code",
   "execution_count": 2,
   "metadata": {},
   "outputs": [],
   "source": [
    "url = ' https://www.expat-dakar.com/offres-demploi '\n",
    "response = get(url)\n"
   ]
  },
  {
   "cell_type": "code",
   "execution_count": 3,
   "metadata": {},
   "outputs": [
    {
     "data": {
      "text/plain": [
       "<Response [200]>"
      ]
     },
     "execution_count": 3,
     "metadata": {},
     "output_type": "execute_result"
    }
   ],
   "source": [
    "response"
   ]
  },
  {
   "cell_type": "code",
   "execution_count": 39,
   "metadata": {},
   "outputs": [],
   "source": [
    "print(response.text,'html.parser')"
   ]
  },
  {
   "cell_type": "code",
   "execution_count": 5,
   "metadata": {},
   "outputs": [
    {
     "data": {
      "text/plain": [
       "bs4.BeautifulSoup"
      ]
     },
     "execution_count": 5,
     "metadata": {},
     "output_type": "execute_result"
    }
   ],
   "source": [
    "html_soup = BeautifulSoup(response.text, 'html.parser')\n",
    "type(html_soup)"
   ]
  },
  {
   "cell_type": "code",
   "execution_count": 6,
   "metadata": {},
   "outputs": [
    {
     "name": "stdout",
     "output_type": "stream",
     "text": [
      "<class 'bs4.element.ResultSet'>\n",
      "15\n"
     ]
    }
   ],
   "source": [
    "movie_containers = html_soup.find_all('div', class_=\"listing-details-row\")\n",
    "print(type(movie_containers))\n",
    "print(len(movie_containers))"
   ]
  },
  {
   "cell_type": "code",
   "execution_count": 40,
   "metadata": {},
   "outputs": [],
   "source": [
    "movie_containers"
   ]
  },
  {
   "cell_type": "code",
   "execution_count": 8,
   "metadata": {},
   "outputs": [],
   "source": [
    "oov = movie_containers[0]"
   ]
  },
  {
   "cell_type": "code",
   "execution_count": 42,
   "metadata": {},
   "outputs": [],
   "source": [
    "name = oov.find('h2', class_=\"align-self-start\").a.text.strip('\\VIP,\\t,\\n')\n",
    "location = oov.find('div', class_=\"picto-block\").find('span', class_=\"picto picto-place ed-icon-before icon-location\").text\n",
    "price = oov.find('div', class_=\"bottom-content-left text-left\").find('span', class_=\"prix\")\n",
    "reference = oov.find('div', class_=\"bottom-content-left text-left\").find('span', class_=\"reference hidden-xs\").text\n",
    "publish = oov.find('div', class_=\"bottom-content-inner\").find('div', class_=\"bottom-content-left text-left\").find('span', class_=\"picto picto-clock\").text\n",
    "Enterprise = oov.find('div', class_=\"listing-user-badge\").find('div', class_=\"user-names text-center hidden-xs\").find('span', class_=\"user-names\").b.text \n",
    "aff_date = oov.find('div', class_=\"other-infos text-center\").find('span', class_=\"engagement-date hidden-xs\").text \n",
    "#Description= oov.find('div', class_=\"description-block\").p.p.text\n",
    "\n",
    "\n",
    "\n",
    "\n",
    "obj = {\n",
    "     'name': name.strip(),\n",
    "     'location': location.strip(),\n",
    "     'price': int(price.strip('\\xa0FCFA,\\t,\\n').replace(\" \",\"\")),\n",
    "     'reference':int(reference.strip('\\:,\\Ref,\\t,\\n').strip()),\n",
    "     'publish':publish.strip(),\n",
    "     'Enterprise':Enterprise.strip(),\n",
    "     'aff_date':aff_date.strip(),\n",
    "    #'Description':Description,\n",
    "     \n",
    "    \n",
    "\n",
    " }\n",
    "\n",
    "obj"
   ]
  },
  {
   "cell_type": "code",
   "execution_count": 12,
   "metadata": {},
   "outputs": [],
   "source": [
    "data = list()\n",
    "\n",
    "for oov in movie_containers:\n",
    "    try:\n",
    "        name = oov.find('h2', class_=\"align-self-start\").a.text.strip('\\VIP,\\t,\\n')\n",
    "        location = oov.find('div', class_=\"picto-block\").find('span', class_=\"picto picto-place ed-icon-before icon-location\").text\n",
    "        price = oov.find('div', class_=\"bottom-content-left text-left\").find('span', class_=\"prix\").text.strip('\\xa0FCFA')\n",
    "        reference = oov.find('div', class_=\"bottom-content-left text-left\").find('span', class_=\"reference hidden-xs\").text\n",
    "        publish = oov.find('div', class_=\"bottom-content-inner\").find('div', class_=\"bottom-content-left text-left\").find('span', class_=\"picto picto-clock\").text\n",
    "        Enterprise = oov.find('div', class_=\"listing-user-badge\").find('div', class_=\"user-names text-center hidden-xs\").find('span', class_=\"user-names\").b.text \n",
    "        aff_date = oov.find('div', class_=\"other-infos text-center\").find('span', class_=\"engagement-date hidden-xs\").text \n",
    "\n",
    "        \n",
    "#         name = oov.find('h2', class_=\"align-self-start\").a.text\n",
    "#         prix = oov.find('div', class_=\"bottom-content-left text-left\").find('span', class_=\"prix\").text\n",
    "#         reference = oov.find('div', class_=\"bottom-content-left text-left\").find('span', class_=\"reference hidden-xs\").text\n",
    "#         posté = oov.find('div', class_=\"bottom-content-inner\").find('div', class_=\"bottom-content-left text-left\").find('span', class_=\"picto picto-clock\").text\n",
    "#         Lieu = oov.find('div', class_=\"t8-toggle\").find('div', class_=\"picto-block\").find('span', class_=\"picto picto-place ed-icon-before icon-location\").text.strip('\\t,\\n')\n",
    "# #       rate_metastore = oov.find('div', class_=\"inline-block ratings-metascore\").find('span', class_=\"metascore favorable\").text\n",
    "#       rate_metastore.strip()\n",
    "#       votes = oov.find('p', class_=\"sort-num_votes-visible\").find_all('span')#.attrs['data-value']\n",
    "#       res = ''.join([vote.text for vote in votes]).split('|')\n",
    "#       vote = res[0].split(':')[1]\n",
    "#       gross = res[1].split(':')[1]\n",
    "\n",
    "        obj = {\n",
    "             'name': name.strip(),\n",
    "             'location': location.strip(),\n",
    "             'price': int(price.strip('\\xa0FCFA,\\t,\\n').replace(\" \",\"\")),\n",
    "             'reference':int(reference.strip('\\:,\\Ref,\\t,\\n').strip()),\n",
    "             'publish':publish.strip(),\n",
    "             'Enterprise':Enterprise.strip(),\n",
    "             'aff_date':aff_date.strip(),\n",
    "            \n",
    "              }\n",
    "\n",
    "\n",
    "        data.append(obj)\n",
    "    except:\n",
    "            pass"
   ]
  },
  {
   "cell_type": "code",
   "execution_count": 13,
   "metadata": {},
   "outputs": [
    {
     "data": {
      "text/plain": [
       "26.666666666666668"
      ]
     },
     "execution_count": 13,
     "metadata": {},
     "output_type": "execute_result"
    }
   ],
   "source": [
    "len(data)\n",
    "len(data)/len(movie_containers)*100\n"
   ]
  },
  {
   "cell_type": "code",
   "execution_count": 14,
   "metadata": {},
   "outputs": [
    {
     "data": {
      "text/html": [
       "<div>\n",
       "<style scoped>\n",
       "    .dataframe tbody tr th:only-of-type {\n",
       "        vertical-align: middle;\n",
       "    }\n",
       "\n",
       "    .dataframe tbody tr th {\n",
       "        vertical-align: top;\n",
       "    }\n",
       "\n",
       "    .dataframe thead th {\n",
       "        text-align: right;\n",
       "    }\n",
       "</style>\n",
       "<table border=\"1\" class=\"dataframe\">\n",
       "  <thead>\n",
       "    <tr style=\"text-align: right;\">\n",
       "      <th></th>\n",
       "      <th>name</th>\n",
       "      <th>location</th>\n",
       "      <th>price</th>\n",
       "      <th>reference</th>\n",
       "      <th>publish</th>\n",
       "      <th>Enterprise</th>\n",
       "      <th>aff_date</th>\n",
       "    </tr>\n",
       "  </thead>\n",
       "  <tbody>\n",
       "    <tr>\n",
       "      <td>0</td>\n",
       "      <td>Agent commercial sur le terrain</td>\n",
       "      <td>Plateau</td>\n",
       "      <td>50000</td>\n",
       "      <td>1410003</td>\n",
       "      <td>Mise à jour aujourd’hui</td>\n",
       "      <td>Yagamar NDIAYE</td>\n",
       "      <td>Membre depuis Nov 2019</td>\n",
       "    </tr>\n",
       "    <tr>\n",
       "      <td>1</td>\n",
       "      <td>Besoin d'un assistant traducteur français-anglais</td>\n",
       "      <td>Dakar</td>\n",
       "      <td>80000</td>\n",
       "      <td>1414083</td>\n",
       "      <td>Postée hier</td>\n",
       "      <td>Fatou G Fall</td>\n",
       "      <td>Membre depuis Jan 2020</td>\n",
       "    </tr>\n",
       "    <tr>\n",
       "      <td>2</td>\n",
       "      <td>Charge(e) de recherche / recrutement</td>\n",
       "      <td>VDN</td>\n",
       "      <td>150000</td>\n",
       "      <td>1414070</td>\n",
       "      <td>Postée hier</td>\n",
       "      <td>Line DIAITE</td>\n",
       "      <td>Membre depuis Avril 2019</td>\n",
       "    </tr>\n",
       "    <tr>\n",
       "      <td>3</td>\n",
       "      <td>Charge(e) de recherche / recrutement</td>\n",
       "      <td>VDN</td>\n",
       "      <td>150000</td>\n",
       "      <td>1414066</td>\n",
       "      <td>Postée hier</td>\n",
       "      <td>Line DIAITE</td>\n",
       "      <td>Membre depuis Avril 2019</td>\n",
       "    </tr>\n",
       "  </tbody>\n",
       "</table>\n",
       "</div>"
      ],
      "text/plain": [
       "                                                name location   price  \\\n",
       "0                    Agent commercial sur le terrain  Plateau   50000   \n",
       "1  Besoin d'un assistant traducteur français-anglais    Dakar   80000   \n",
       "2               Charge(e) de recherche / recrutement      VDN  150000   \n",
       "3               Charge(e) de recherche / recrutement      VDN  150000   \n",
       "\n",
       "   reference                  publish      Enterprise  \\\n",
       "0    1410003  Mise à jour aujourd’hui  Yagamar NDIAYE   \n",
       "1    1414083              Postée hier    Fatou G Fall   \n",
       "2    1414070              Postée hier     Line DIAITE   \n",
       "3    1414066              Postée hier     Line DIAITE   \n",
       "\n",
       "                   aff_date  \n",
       "0    Membre depuis Nov 2019  \n",
       "1    Membre depuis Jan 2020  \n",
       "2  Membre depuis Avril 2019  \n",
       "3  Membre depuis Avril 2019  "
      ]
     },
     "execution_count": 14,
     "metadata": {},
     "output_type": "execute_result"
    }
   ],
   "source": [
    "data = pd.DataFrame(data)\n",
    "data"
   ]
  },
  {
   "cell_type": "code",
   "execution_count": 15,
   "metadata": {},
   "outputs": [],
   "source": [
    "data = list()\n",
    "for i in range(1,30):\n",
    "    url = ' https://www.expat-dakar.com/offres-demploi?page= ' + str(i)\n",
    "    response = get(url)\n",
    "    html_soup = BeautifulSoup(response.text, 'html.parser')\n",
    "    movie_containers = html_soup.find_all('div', class_=\"listing-details-row\")\n",
    "    for oov in movie_containers:\n",
    "        try:\n",
    "            name = oov.find('h2', class_=\"align-self-start\").a.text.strip('\\VIP,\\t,\\n')\n",
    "            location = oov.find('div', class_=\"picto-block\").find('span', class_=\"picto picto-place ed-icon-before icon-location\").text\n",
    "            price = oov.find('div', class_=\"bottom-content-left text-left\").find('span', class_=\"prix\").text.strip('\\xa0FCFA')\n",
    "            reference = oov.find('div', class_=\"bottom-content-left text-left\").find('span', class_=\"reference hidden-xs\").text\n",
    "            publish = oov.find('div', class_=\"bottom-content-inner\").find('div', class_=\"bottom-content-left text-left\").find('span', class_=\"picto picto-clock\").text\n",
    "            Enterprise = oov.find('div', class_=\"listing-user-badge\").find('div', class_=\"user-names text-center hidden-xs\").find('span', class_=\"user-names\").b.text \n",
    "            aff_date = oov.find('div', class_=\"other-infos text-center\").find('span', class_=\"engagement-date hidden-xs\").text \n",
    "\n",
    "            obj = {\n",
    "                  'name': name.strip(),\n",
    "                  'location': location.strip(),\n",
    "                  'price': int(price.strip('\\xa0FCFA,\\t,\\n').replace(\" \",\"\")),\n",
    "                  'reference':int(reference.strip('\\:,\\Ref,\\t,\\n').strip()),\n",
    "                  'publish':publish.strip(),\n",
    "                  'Enterprise':Enterprise.strip(),\n",
    "                  'aff_date':aff_date.strip(),\n",
    "              }\n",
    "\n",
    "\n",
    "            data.append(obj)\n",
    "        except:\n",
    "            pass"
   ]
  },
  {
   "cell_type": "code",
   "execution_count": 16,
   "metadata": {},
   "outputs": [
    {
     "data": {
      "text/plain": [
       "(182, 7)"
      ]
     },
     "execution_count": 16,
     "metadata": {},
     "output_type": "execute_result"
    }
   ],
   "source": [
    "data = pd.DataFrame(data)\n",
    "data.shape"
   ]
  },
  {
   "cell_type": "code",
   "execution_count": null,
   "metadata": {},
   "outputs": [],
   "source": []
  },
  {
   "cell_type": "code",
   "execution_count": 17,
   "metadata": {},
   "outputs": [],
   "source": [
    "from elasticsearch import Elasticsearch\n",
    "from elasticsearch import helpers\n",
    "import pandas as pd"
   ]
  },
  {
   "cell_type": "code",
   "execution_count": 18,
   "metadata": {},
   "outputs": [],
   "source": [
    "es_client = Elasticsearch([{'host':'localhost', 'port':9200}], http_compress=True)"
   ]
  },
  {
   "cell_type": "code",
   "execution_count": 19,
   "metadata": {},
   "outputs": [
    {
     "name": "stdout",
     "output_type": "stream",
     "text": [
      "connection failed :\n"
     ]
    }
   ],
   "source": [
    "if es_client.ping():\n",
    "    print(\"connection established :)\")\n",
    "else:\n",
    "    print(\"connection failed :\")"
   ]
  },
  {
   "cell_type": "code",
   "execution_count": 20,
   "metadata": {},
   "outputs": [
    {
     "data": {
      "text/plain": [
       "<Elasticsearch([{'host': 'localhost', 'port': 9200}])>"
      ]
     },
     "execution_count": 20,
     "metadata": {},
     "output_type": "execute_result"
    }
   ],
   "source": [
    "es_client"
   ]
  },
  {
   "cell_type": "code",
   "execution_count": 21,
   "metadata": {},
   "outputs": [],
   "source": [
    "data['id'] = data.index"
   ]
  },
  {
   "cell_type": "code",
   "execution_count": 22,
   "metadata": {},
   "outputs": [
    {
     "data": {
      "text/html": [
       "<div>\n",
       "<style scoped>\n",
       "    .dataframe tbody tr th:only-of-type {\n",
       "        vertical-align: middle;\n",
       "    }\n",
       "\n",
       "    .dataframe tbody tr th {\n",
       "        vertical-align: top;\n",
       "    }\n",
       "\n",
       "    .dataframe thead th {\n",
       "        text-align: right;\n",
       "    }\n",
       "</style>\n",
       "<table border=\"1\" class=\"dataframe\">\n",
       "  <thead>\n",
       "    <tr style=\"text-align: right;\">\n",
       "      <th></th>\n",
       "      <th>name</th>\n",
       "      <th>location</th>\n",
       "      <th>price</th>\n",
       "      <th>reference</th>\n",
       "      <th>publish</th>\n",
       "      <th>Enterprise</th>\n",
       "      <th>aff_date</th>\n",
       "      <th>id</th>\n",
       "    </tr>\n",
       "  </thead>\n",
       "  <tbody>\n",
       "    <tr>\n",
       "      <td>0</td>\n",
       "      <td>Agent commercial sur le terrain</td>\n",
       "      <td>Plateau</td>\n",
       "      <td>50000</td>\n",
       "      <td>1410003</td>\n",
       "      <td>Mise à jour aujourd’hui</td>\n",
       "      <td>Yagamar NDIAYE</td>\n",
       "      <td>Membre depuis Nov 2019</td>\n",
       "      <td>0</td>\n",
       "    </tr>\n",
       "    <tr>\n",
       "      <td>1</td>\n",
       "      <td>Besoin d'un assistant traducteur français-anglais</td>\n",
       "      <td>Dakar</td>\n",
       "      <td>80000</td>\n",
       "      <td>1414083</td>\n",
       "      <td>Postée hier</td>\n",
       "      <td>Fatou G Fall</td>\n",
       "      <td>Membre depuis Jan 2020</td>\n",
       "      <td>1</td>\n",
       "    </tr>\n",
       "    <tr>\n",
       "      <td>2</td>\n",
       "      <td>Charge(e) de recherche / recrutement</td>\n",
       "      <td>VDN</td>\n",
       "      <td>150000</td>\n",
       "      <td>1414070</td>\n",
       "      <td>Postée hier</td>\n",
       "      <td>Line DIAITE</td>\n",
       "      <td>Membre depuis Avril 2019</td>\n",
       "      <td>2</td>\n",
       "    </tr>\n",
       "    <tr>\n",
       "      <td>3</td>\n",
       "      <td>Charge(e) de recherche / recrutement</td>\n",
       "      <td>VDN</td>\n",
       "      <td>150000</td>\n",
       "      <td>1414066</td>\n",
       "      <td>Postée hier</td>\n",
       "      <td>Line DIAITE</td>\n",
       "      <td>Membre depuis Avril 2019</td>\n",
       "      <td>3</td>\n",
       "    </tr>\n",
       "    <tr>\n",
       "      <td>4</td>\n",
       "      <td>Femme de ménage/cuisinière à temps partiel</td>\n",
       "      <td>Fann</td>\n",
       "      <td>43000</td>\n",
       "      <td>1413821</td>\n",
       "      <td>Postée hier</td>\n",
       "      <td>Maelle DIOUF</td>\n",
       "      <td>Membre depuis Août 2012</td>\n",
       "      <td>4</td>\n",
       "    </tr>\n",
       "    <tr>\n",
       "      <td>...</td>\n",
       "      <td>...</td>\n",
       "      <td>...</td>\n",
       "      <td>...</td>\n",
       "      <td>...</td>\n",
       "      <td>...</td>\n",
       "      <td>...</td>\n",
       "      <td>...</td>\n",
       "      <td>...</td>\n",
       "    </tr>\n",
       "    <tr>\n",
       "      <td>177</td>\n",
       "      <td>Livreur à moto</td>\n",
       "      <td>Liberté 6</td>\n",
       "      <td>80000</td>\n",
       "      <td>1394143</td>\n",
       "      <td>Postée il y a 57 jours</td>\n",
       "      <td>dakar emploi s.</td>\n",
       "      <td>Membre depuis Août 2016</td>\n",
       "      <td>177</td>\n",
       "    </tr>\n",
       "    <tr>\n",
       "      <td>178</td>\n",
       "      <td>Maîtresse éducatrice</td>\n",
       "      <td>Hlm</td>\n",
       "      <td>65000</td>\n",
       "      <td>1393868</td>\n",
       "      <td>Postée il y a 58 jours</td>\n",
       "      <td>Maty Ndiaye</td>\n",
       "      <td>Membre depuis Juin 2016</td>\n",
       "      <td>178</td>\n",
       "    </tr>\n",
       "    <tr>\n",
       "      <td>179</td>\n",
       "      <td>Chauffeur poids lourd</td>\n",
       "      <td>Grand-Dakar</td>\n",
       "      <td>65000</td>\n",
       "      <td>1393889</td>\n",
       "      <td>Postée il y a 58 jours</td>\n",
       "      <td>Maty Ndiaye</td>\n",
       "      <td>Membre depuis Juin 2016</td>\n",
       "      <td>179</td>\n",
       "    </tr>\n",
       "    <tr>\n",
       "      <td>180</td>\n",
       "      <td>endeuse</td>\n",
       "      <td>Cité Avion</td>\n",
       "      <td>60000</td>\n",
       "      <td>1393893</td>\n",
       "      <td>Postée il y a 58 jours</td>\n",
       "      <td>khady diouf</td>\n",
       "      <td>Membre depuis Feb 2015</td>\n",
       "      <td>180</td>\n",
       "    </tr>\n",
       "    <tr>\n",
       "      <td>181</td>\n",
       "      <td>Commercial</td>\n",
       "      <td>Point-E</td>\n",
       "      <td>150000</td>\n",
       "      <td>1393715</td>\n",
       "      <td>Postée il y a 58 jours</td>\n",
       "      <td>FATIMA NDAO</td>\n",
       "      <td>Membre depuis Nov 2019</td>\n",
       "      <td>181</td>\n",
       "    </tr>\n",
       "  </tbody>\n",
       "</table>\n",
       "<p>182 rows × 8 columns</p>\n",
       "</div>"
      ],
      "text/plain": [
       "                                                  name     location   price  \\\n",
       "0                      Agent commercial sur le terrain      Plateau   50000   \n",
       "1    Besoin d'un assistant traducteur français-anglais        Dakar   80000   \n",
       "2                 Charge(e) de recherche / recrutement          VDN  150000   \n",
       "3                 Charge(e) de recherche / recrutement          VDN  150000   \n",
       "4           Femme de ménage/cuisinière à temps partiel         Fann   43000   \n",
       "..                                                 ...          ...     ...   \n",
       "177                                     Livreur à moto    Liberté 6   80000   \n",
       "178                               Maîtresse éducatrice          Hlm   65000   \n",
       "179                              Chauffeur poids lourd  Grand-Dakar   65000   \n",
       "180                                            endeuse   Cité Avion   60000   \n",
       "181                                         Commercial      Point-E  150000   \n",
       "\n",
       "     reference                  publish       Enterprise  \\\n",
       "0      1410003  Mise à jour aujourd’hui   Yagamar NDIAYE   \n",
       "1      1414083              Postée hier     Fatou G Fall   \n",
       "2      1414070              Postée hier      Line DIAITE   \n",
       "3      1414066              Postée hier      Line DIAITE   \n",
       "4      1413821              Postée hier     Maelle DIOUF   \n",
       "..         ...                      ...              ...   \n",
       "177    1394143   Postée il y a 57 jours  dakar emploi s.   \n",
       "178    1393868   Postée il y a 58 jours      Maty Ndiaye   \n",
       "179    1393889   Postée il y a 58 jours      Maty Ndiaye   \n",
       "180    1393893   Postée il y a 58 jours      khady diouf   \n",
       "181    1393715   Postée il y a 58 jours      FATIMA NDAO   \n",
       "\n",
       "                     aff_date   id  \n",
       "0      Membre depuis Nov 2019    0  \n",
       "1      Membre depuis Jan 2020    1  \n",
       "2    Membre depuis Avril 2019    2  \n",
       "3    Membre depuis Avril 2019    3  \n",
       "4     Membre depuis Août 2012    4  \n",
       "..                        ...  ...  \n",
       "177   Membre depuis Août 2016  177  \n",
       "178   Membre depuis Juin 2016  178  \n",
       "179   Membre depuis Juin 2016  179  \n",
       "180    Membre depuis Feb 2015  180  \n",
       "181    Membre depuis Nov 2019  181  \n",
       "\n",
       "[182 rows x 8 columns]"
      ]
     },
     "execution_count": 22,
     "metadata": {},
     "output_type": "execute_result"
    }
   ],
   "source": [
    "data"
   ]
  },
  {
   "cell_type": "code",
   "execution_count": 23,
   "metadata": {},
   "outputs": [],
   "source": [
    "def filterKeys(document):\n",
    "    return {key: document[key] for key in data.columns }"
   ]
  },
  {
   "cell_type": "code",
   "execution_count": 24,
   "metadata": {},
   "outputs": [],
   "source": [
    "def doc_generator(df):\n",
    "    df_iter = df.iterrows()\n",
    "    for index, document in df_iter:\n",
    "        yield{\n",
    "            \"_index\": \"emploi_groupe2\",\n",
    "            #\"_type\": \"films\",\n",
    "            \"_id\": f\"{document['id']}\",\n",
    "            \"_source\": filterKeys(document)\n",
    "        }\n",
    "        "
   ]
  },
  {
   "cell_type": "code",
   "execution_count": 25,
   "metadata": {},
   "outputs": [],
   "source": [
    "documents = doc_generator(data)"
   ]
  },
  {
   "cell_type": "code",
   "execution_count": 26,
   "metadata": {},
   "outputs": [
    {
     "name": "stdout",
     "output_type": "stream",
     "text": [
      "{'_index': 'emploi_groupe2', '_id': '0', '_source': {'name': 'Agent commercial sur le terrain', 'location': 'Plateau', 'price': 50000, 'reference': 1410003, 'publish': 'Mise à jour aujourd’hui', 'Enterprise': 'Yagamar NDIAYE', 'aff_date': 'Membre depuis Nov 2019', 'id': 0}}\n",
      "{'_index': 'emploi_groupe2', '_id': '1', '_source': {'name': \"Besoin d'un assistant traducteur français-anglais\", 'location': 'Dakar', 'price': 80000, 'reference': 1414083, 'publish': 'Postée hier', 'Enterprise': 'Fatou G Fall', 'aff_date': 'Membre depuis Jan 2020', 'id': 1}}\n",
      "{'_index': 'emploi_groupe2', '_id': '2', '_source': {'name': 'Charge(e) de recherche / recrutement', 'location': 'VDN', 'price': 150000, 'reference': 1414070, 'publish': 'Postée hier', 'Enterprise': 'Line DIAITE', 'aff_date': 'Membre depuis Avril 2019', 'id': 2}}\n",
      "{'_index': 'emploi_groupe2', '_id': '3', '_source': {'name': 'Charge(e) de recherche / recrutement', 'location': 'VDN', 'price': 150000, 'reference': 1414066, 'publish': 'Postée hier', 'Enterprise': 'Line DIAITE', 'aff_date': 'Membre depuis Avril 2019', 'id': 3}}\n",
      "{'_index': 'emploi_groupe2', '_id': '4', '_source': {'name': 'Femme de ménage/cuisinière à temps partiel', 'location': 'Fann', 'price': 43000, 'reference': 1413821, 'publish': 'Postée hier', 'Enterprise': 'Maelle DIOUF', 'aff_date': 'Membre depuis Août 2012', 'id': 4}}\n",
      "{'_index': 'emploi_groupe2', '_id': '5', '_source': {'name': 'nterprète anglais / espagnol', 'location': 'Mermoz Sacré-Coeur', 'price': 200000, 'reference': 1413722, 'publish': 'Postée il y a 2 jours', 'Enterprise': 'Ndèye Khoudia Ndiaye', 'aff_date': 'Membre depuis Mars 2018', 'id': 5}}\n",
      "{'_index': 'emploi_groupe2', '_id': '6', '_source': {'name': 'Télé opératrice', 'location': 'Sicap Foire', 'price': 145000, 'reference': 1413745, 'publish': 'Postée il y a 2 jours', 'Enterprise': 'Ndeye licka kane', 'aff_date': 'Membre depuis Avril 2019', 'id': 6}}\n",
      "{'_index': 'emploi_groupe2', '_id': '7', '_source': {'name': 'Stage en secrétariat administratif', 'location': 'Liberté 6 extension', 'price': 100000, 'reference': 1413672, 'publish': 'Postée il y a 2 jours', 'Enterprise': 'Sarata Holding', 'aff_date': 'Membre depuis Feb 2019', 'id': 7}}\n",
      "{'_index': 'emploi_groupe2', '_id': '8', '_source': {'name': 'Commerciaux terrain', 'location': 'VDN', 'price': 110000, 'reference': 1413629, 'publish': 'Postée il y a 2 jours', 'Enterprise': 'Afrika Leyri', 'aff_date': 'Membre depuis Mai 2019', 'id': 8}}\n",
      "{'_index': 'emploi_groupe2', '_id': '9', '_source': {'name': 'Cuisine 3 fois par semaine', 'location': 'Ouakam', 'price': 40000, 'reference': 1413503, 'publish': 'Postée il y a 2 jours', 'Enterprise': 'Ella Diedhiou', 'aff_date': 'Membre depuis Nov 2017', 'id': 9}}\n",
      "{'_index': 'emploi_groupe2', '_id': '10', '_source': {'name': 'Femme de ménage', 'location': 'Dakar', 'price': 50000, 'reference': 1413394, 'publish': 'Postée il y a 3 jours', 'Enterprise': 'Afroloks', 'aff_date': 'Membre depuis Sept 2018', 'id': 10}}\n",
      "{'_index': 'emploi_groupe2', '_id': '11', '_source': {'name': 'Chargé(e) de prospection expérimenté(e)', 'location': 'Dakar', 'price': 250000, 'reference': 1413402, 'publish': 'Postée il y a 3 jours', 'Enterprise': 'Khady Gueye', 'aff_date': 'Membre depuis Oct 2019', 'id': 11}}\n",
      "{'_index': 'emploi_groupe2', '_id': '12', '_source': {'name': 'Chargé(e) de prospection b to b freelance', 'location': 'VDN', 'price': 250000, 'reference': 1387053, 'publish': 'Mise à jour il y a 3 jours', 'Enterprise': 'Khady Gueye', 'aff_date': 'Membre depuis Oct 2019', 'id': 12}}\n",
      "{'_index': 'emploi_groupe2', '_id': '13', '_source': {'name': 'ersonnel de maison', 'location': 'Ngor', 'price': 40000, 'reference': 1413298, 'publish': 'Postée il y a 3 jours', 'Enterprise': 'moustapha fall', 'aff_date': 'Membre depuis Nov 2019', 'id': 13}}\n",
      "{'_index': 'emploi_groupe2', '_id': '14', '_source': {'name': 'Gérant tangana', 'location': 'Parcelles Assainies', 'price': 40000, 'reference': 1413152, 'publish': 'Postée il y a 3 jours', 'Enterprise': 'Fatou Sow', 'aff_date': 'Membre depuis Avril 2017', 'id': 14}}\n",
      "{'_index': 'emploi_groupe2', '_id': '15', '_source': {'name': 'Emploi', 'location': 'Virage', 'price': 9, 'reference': 1413150, 'publish': 'Postée il y a 3 jours', 'Enterprise': 'Clemeson', 'aff_date': 'Membre depuis Jan 2020', 'id': 15}}\n",
      "{'_index': 'emploi_groupe2', '_id': '16', '_source': {'name': 'Secrétaire', 'location': 'Bel Air', 'price': 200000, 'reference': 1413146, 'publish': 'Postée il y a 3 jours', 'Enterprise': 'ndeye bi', 'aff_date': 'Membre depuis Jan 2020', 'id': 16}}\n",
      "{'_index': 'emploi_groupe2', '_id': '17', '_source': {'name': 'Opération télémarketing', 'location': 'Liberté 6', 'price': 60000, 'reference': 1401424, 'publish': 'Mise à jour il y a 3 jours', 'Enterprise': 'Amt221 Sarl', 'aff_date': 'Membre depuis Juillet 2017', 'id': 17}}\n",
      "{'_index': 'emploi_groupe2', '_id': '18', '_source': {'name': 'Femme de ménage', 'location': 'Cité Keur gorgui', 'price': 40000, 'reference': 1413093, 'publish': 'Postée il y a 3 jours', 'Enterprise': 'Fatima', 'aff_date': 'Membre depuis Nov 2019', 'id': 18}}\n",
      "{'_index': 'emploi_groupe2', '_id': '19', '_source': {'name': 'Coiffeuse', 'location': 'Dakar', 'price': 50000, 'reference': 1413026, 'publish': 'Postée il y a 4 jours', 'Enterprise': 'aissatou mbengue', 'aff_date': 'Membre depuis Jan 2015', 'id': 19}}\n",
      "{'_index': 'emploi_groupe2', '_id': '20', '_source': {'name': 'Ags placement', 'location': 'Ngor', 'price': 55000, 'reference': 1413247, 'publish': 'Postée il y a 4 jours', 'Enterprise': 'moustapha fall', 'aff_date': 'Membre depuis Nov 2019', 'id': 20}}\n",
      "{'_index': 'emploi_groupe2', '_id': '21', '_source': {'name': 'Cuisinière/nounou', 'location': 'Mermoz Sacré-Coeur', 'price': 60000, 'reference': 1412580, 'publish': 'Postée il y a 4 jours', 'Enterprise': 'Stan Beuleu', 'aff_date': 'Membre depuis Jan 2019', 'id': 21}}\n",
      "{'_index': 'emploi_groupe2', '_id': '22', '_source': {'name': 'Avis de recrutement', 'location': 'Parcelles Assainies', 'price': 50000, 'reference': 1412583, 'publish': 'Postée il y a 5 jours', 'Enterprise': 'Mamico', 'aff_date': 'Membre depuis Déc 2019', 'id': 22}}\n",
      "{'_index': 'emploi_groupe2', '_id': '23', '_source': {'name': 'Commerciaux', 'location': 'Hann Maristes', 'price': 150000, 'reference': 1412590, 'publish': 'Postée il y a 5 jours', 'Enterprise': 'Ibrahima Coly', 'aff_date': 'Membre depuis Déc 2019', 'id': 23}}\n",
      "{'_index': 'emploi_groupe2', '_id': '24', '_source': {'name': 'Nounou', 'location': 'Liberté 6', 'price': 50000, 'reference': 1412589, 'publish': 'Postée il y a 5 jours', 'Enterprise': 'Khadyja Faye', 'aff_date': 'Membre depuis Jan 2018', 'id': 24}}\n",
      "{'_index': 'emploi_groupe2', '_id': '25', '_source': {'name': 'Nounou /ménage', 'location': 'Dakar', 'price': 50000, 'reference': 1412477, 'publish': 'Postée il y a 5 jours', 'Enterprise': 'Freddy', 'aff_date': 'Membre depuis Jan 2020', 'id': 25}}\n",
      "{'_index': 'emploi_groupe2', '_id': '26', '_source': {'name': 'endeurs en ligne', 'location': 'Patte d’oie', 'price': 200000, 'reference': 1390509, 'publish': 'Mise à jour il y a 5 jours', 'Enterprise': 'Han Fan', 'aff_date': 'Membre depuis Août 2019', 'id': 26}}\n",
      "{'_index': 'emploi_groupe2', '_id': '27', '_source': {'name': 'Femme de ménage', 'location': 'Ouakam', 'price': 50000, 'reference': 1412919, 'publish': 'Postée il y a 5 jours', 'Enterprise': 'Wafi wafi', 'aff_date': 'Membre depuis Avril 2017', 'id': 27}}\n",
      "{'_index': 'emploi_groupe2', '_id': '28', '_source': {'name': 'Assistance téléphonique', 'location': 'VDN', 'price': 150000, 'reference': 1412152, 'publish': 'Postée il y a 6 jours', 'Enterprise': 'Henry Sarr', 'aff_date': 'Membre depuis Jan 2020', 'id': 28}}\n",
      "{'_index': 'emploi_groupe2', '_id': '29', '_source': {'name': 'Coiffeurs et coiffeuses professionnels', 'location': 'Saint-Louis', 'price': 70000, 'reference': 1412153, 'publish': 'Postée il y a 6 jours', 'Enterprise': 'Hyacinthe DAH', 'aff_date': 'Membre depuis Jan 2020', 'id': 29}}\n",
      "{'_index': 'emploi_groupe2', '_id': '30', '_source': {'name': 'Cuisinier', 'location': 'Ouest Foire', 'price': 75000, 'reference': 1412154, 'publish': 'Postée il y a 6 jours', 'Enterprise': 'MOHAMADOU DIAWARA', 'aff_date': 'Membre depuis Jan 2019', 'id': 30}}\n",
      "{'_index': 'emploi_groupe2', '_id': '31', '_source': {'name': 'Technico-commercial terrain', 'location': 'Almadies', 'price': 100000, 'reference': 1412109, 'publish': 'Postée il y a 6 jours', 'Enterprise': 'Moudacir CHITOU', 'aff_date': 'Membre depuis Jan 2020', 'id': 31}}\n",
      "{'_index': 'emploi_groupe2', '_id': '32', '_source': {'name': 'Assistance de direction', 'location': 'Almadies', 'price': 150000, 'reference': 1412116, 'publish': 'Postée il y a 6 jours', 'Enterprise': 'Moudacir CHITOU', 'aff_date': 'Membre depuis Jan 2020', 'id': 32}}\n",
      "{'_index': 'emploi_groupe2', '_id': '33', '_source': {'name': 'Nounou', 'location': 'Parcelles Assainies', 'price': 40000, 'reference': 1412049, 'publish': 'Postée il y a 7 jours', 'Enterprise': 'Perle Amy', 'aff_date': 'Membre depuis Jan 2018', 'id': 33}}\n",
      "{'_index': 'emploi_groupe2', '_id': '34', '_source': {'name': 'Onglerie-esthétique-coiffure', 'location': 'VDN', 'price': 100000, 'reference': 1411984, 'publish': 'Postée il y a 7 jours', 'Enterprise': 'dakar emploi s.', 'aff_date': 'Membre depuis Août 2016', 'id': 34}}\n",
      "{'_index': 'emploi_groupe2', '_id': '35', '_source': {'name': 'Menuisier professionnel', 'location': 'Ouest Foire', 'price': 150000, 'reference': 1411959, 'publish': 'Postée il y a 7 jours', 'Enterprise': 'Marième NDIAYE', 'aff_date': 'Membre depuis Jan 2020', 'id': 35}}\n",
      "{'_index': 'emploi_groupe2', '_id': '36', '_source': {'name': 'Nounou', 'location': 'Grand-Dakar', 'price': 40000, 'reference': 1411909, 'publish': 'Postée il y a 7 jours', 'Enterprise': 'Daisy', 'aff_date': 'Membre depuis Jan 2020', 'id': 36}}\n",
      "{'_index': 'emploi_groupe2', '_id': '37', '_source': {'name': 'Avis de recrutement', 'location': 'Parcelles Assainies', 'price': 50000, 'reference': 1411896, 'publish': 'Postée il y a 8 jours', 'Enterprise': 'Bintou', 'aff_date': 'Membre depuis Déc 2019', 'id': 37}}\n",
      "{'_index': 'emploi_groupe2', '_id': '38', '_source': {'name': 'Femme de ménage', 'location': 'Dakar', 'price': 60000, 'reference': 1411893, 'publish': 'Postée il y a 8 jours', 'Enterprise': 'S&C Services', 'aff_date': 'Membre depuis Nov 2018', 'id': 38}}\n",
      "{'_index': 'emploi_groupe2', '_id': '39', '_source': {'name': 'Aide cuisine /vendeuse', 'location': 'Keur Massar', 'price': 30000, 'reference': 1411844, 'publish': 'Postée il y a 8 jours', 'Enterprise': 'Ramatoulaye MANGA', 'aff_date': 'Membre depuis Mai 2018', 'id': 39}}\n",
      "{'_index': 'emploi_groupe2', '_id': '40', '_source': {'name': 'Couturier/couturière spécialiée enfants', 'location': 'Mamelles', 'price': 70000, 'reference': 1411791, 'publish': 'Postée il y a 8 jours', 'Enterprise': 'Stella Diop', 'aff_date': 'Membre depuis Sept 2019', 'id': 40}}\n",
      "{'_index': 'emploi_groupe2', '_id': '41', '_source': {'name': 'Commercial terrain', 'location': 'VDN', 'price': 150000, 'reference': 1406828, 'publish': 'Mise à jour il y a 8 jours', 'Enterprise': 'Aimée Selo', 'aff_date': 'Membre depuis Déc 2019', 'id': 41}}\n",
      "{'_index': 'emploi_groupe2', '_id': '42', '_source': {'name': 'Aide-ménagère', 'location': 'Hann Maristes', 'price': 80000, 'reference': 1411717, 'publish': 'Postée il y a 8 jours', 'Enterprise': 'Maelle DIOUF', 'aff_date': 'Membre depuis Août 2012', 'id': 42}}\n",
      "{'_index': 'emploi_groupe2', '_id': '43', '_source': {'name': 'Commercial', 'location': 'Hlm', 'price': 50000, 'reference': 1411594, 'publish': 'Postée il y a 8 jours', 'Enterprise': 'RECRUTEMENT', 'aff_date': 'Membre depuis Jan 2020', 'id': 43}}\n",
      "{'_index': 'emploi_groupe2', '_id': '44', '_source': {'name': 'roductrice arraw thiakry thiere', 'location': 'Parcelles Assainies', 'price': 2250, 'reference': 1411588, 'publish': 'Postée il y a 8 jours', 'Enterprise': 'ID DIOP', 'aff_date': 'Membre depuis Mars 2013', 'id': 44}}\n",
      "{'_index': 'emploi_groupe2', '_id': '45', '_source': {'name': 'Stagiaire community management / infographe', 'location': 'Plateau', 'price': 50000, 'reference': 1411442, 'publish': 'Postée il y a 9 jours', 'Enterprise': 'aicha bop', 'aff_date': 'Membre depuis Mai 2013', 'id': 45}}\n",
      "{'_index': 'emploi_groupe2', '_id': '46', '_source': {'name': 'Ags placement', 'location': 'Parcelles Assainies', 'price': 50000, 'reference': 1411458, 'publish': 'Postée il y a 9 jours', 'Enterprise': 'moustapha fall', 'aff_date': 'Membre depuis Nov 2019', 'id': 46}}\n",
      "{'_index': 'emploi_groupe2', '_id': '47', '_source': {'name': 'Femme de ménage', 'location': 'Liberté 6 extension', 'price': 60000, 'reference': 1411379, 'publish': 'Postée il y a 9 jours', 'Enterprise': 'QUALISERVICES', 'aff_date': 'Membre depuis Déc 2018', 'id': 47}}\n",
      "{'_index': 'emploi_groupe2', '_id': '48', '_source': {'name': 'Chargée du développement commercial', 'location': 'Bel Air', 'price': 125000, 'reference': 1411290, 'publish': 'Postée il y a 9 jours', 'Enterprise': 'WELLNESS', 'aff_date': 'Membre depuis Jan 2020', 'id': 48}}\n",
      "{'_index': 'emploi_groupe2', '_id': '49', '_source': {'name': 'Mannequin homme', 'location': 'Liberté 6 extension', 'price': 10000, 'reference': 1411118, 'publish': 'Postée il y a 10 jours', 'Enterprise': 'Bamba', 'aff_date': 'Membre depuis Mars 2016', 'id': 49}}\n",
      "{'_index': 'emploi_groupe2', '_id': '50', '_source': {'name': 'Abonnement chauffeur particulier ou taxi', 'location': 'Hann Maristes', 'price': 75000, 'reference': 1410862, 'publish': 'Postée il y a 11 jours', 'Enterprise': 'marie ndiaye', 'aff_date': 'Membre depuis Avril 2015', 'id': 50}}\n",
      "{'_index': 'emploi_groupe2', '_id': '51', '_source': {'name': 'Téléconseillers/ téléconseillers', 'location': 'Point-E', 'price': 600000, 'reference': 1408270, 'publish': 'Mise à jour il y a 11 jours', 'Enterprise': 'Atlantice Center', 'aff_date': 'Membre depuis Juin 2018', 'id': 51}}\n",
      "{'_index': 'emploi_groupe2', '_id': '52', '_source': {'name': 'Gérante mutiservice', 'location': 'Parcelles Assainies', 'price': 40000, 'reference': 1410715, 'publish': 'Postée il y a 12 jours', 'Enterprise': 'Jacques BIAGUI', 'aff_date': 'Membre depuis Déc 2019', 'id': 52}}\n",
      "{'_index': 'emploi_groupe2', '_id': '53', '_source': {'name': 'Assistante', 'location': 'Hann Bel-Air', 'price': 50000, 'reference': 1410421, 'publish': 'Postée il y a 12 jours', 'Enterprise': 'Mamadou wone', 'aff_date': 'Membre depuis Oct 2019', 'id': 53}}\n",
      "{'_index': 'emploi_groupe2', '_id': '54', '_source': {'name': 'Chauffeur particulier ou taxi', 'location': 'Hann Maristes', 'price': 75000, 'reference': 1410402, 'publish': 'Postée il y a 12 jours', 'Enterprise': 'marie ndiaye', 'aff_date': 'Membre depuis Avril 2015', 'id': 54}}\n",
      "{'_index': 'emploi_groupe2', '_id': '55', '_source': {'name': 'Commerciaux terrains', 'location': 'Grand-Dakar', 'price': 45000, 'reference': 1410323, 'publish': 'Postée il y a 12 jours', 'Enterprise': 'Amadou Oury Dieng', 'aff_date': 'Membre depuis Avril 2019', 'id': 55}}\n",
      "{'_index': 'emploi_groupe2', '_id': '56', '_source': {'name': 'endeurs (ses)', 'location': 'Sicap Dieuppeul', 'price': 50000, 'reference': 1410243, 'publish': 'Postée il y a 12 jours', 'Enterprise': 'Mme Kane', 'aff_date': 'Membre depuis Avril 2019', 'id': 56}}\n",
      "{'_index': 'emploi_groupe2', '_id': '57', '_source': {'name': 'Ménagère polyvalente', 'location': 'Sicap Liberté', 'price': 45000, 'reference': 1410365, 'publish': 'Postée il y a 13 jours', 'Enterprise': 'huguette E.', 'aff_date': 'Membre depuis Nov 2011', 'id': 57}}\n",
      "{'_index': 'emploi_groupe2', '_id': '58', '_source': {'name': 'Cuisinier(e) affirmé', 'location': 'Ngor', 'price': 70000, 'reference': 1410044, 'publish': 'Postée il y a 13 jours', 'Enterprise': 'Yahya ly', 'aff_date': 'Membre depuis Déc 2019', 'id': 58}}\n",
      "{'_index': 'emploi_groupe2', '_id': '59', '_source': {'name': 'Femme de ménage', 'location': 'Almadies', 'price': 50000, 'reference': 1410368, 'publish': 'Postée il y a 13 jours', 'Enterprise': 'Mounir Lagaairi', 'aff_date': 'Membre depuis Juillet 2019', 'id': 59}}\n",
      "{'_index': 'emploi_groupe2', '_id': '60', '_source': {'name': 'Gestionnaire de stock', 'location': 'Médina', 'price': 200000, 'reference': 1408386, 'publish': 'Mise à jour il y a 13 jours', 'Enterprise': 'bakiss sané', 'aff_date': 'Membre depuis Feb 2017', 'id': 60}}\n",
      "{'_index': 'emploi_groupe2', '_id': '61', '_source': {'name': 'Technicien en énergie solaire photovoltaïque', 'location': 'VDN', 'price': 250000, 'reference': 1410001, 'publish': 'Postée il y a 14 jours', 'Enterprise': 'Nehemie Solutions', 'aff_date': 'Membre depuis Août 2018', 'id': 61}}\n",
      "{'_index': 'emploi_groupe2', '_id': '62', '_source': {'name': 'endeur/vendeuse mini fast-food', 'location': 'Kaolack', 'price': 25000, 'reference': 1410002, 'publish': 'Postée il y a 14 jours', 'Enterprise': 'SEYDOU OUSMANE BA', 'aff_date': 'Membre depuis Nov 2019', 'id': 62}}\n",
      "{'_index': 'emploi_groupe2', '_id': '63', '_source': {'name': 'Gérant multiservice', 'location': 'Rufisque', 'price': 60000, 'reference': 1410647, 'publish': 'Postée il y a 14 jours', 'Enterprise': 'Baba sarr', 'aff_date': 'Membre depuis Jan 2019', 'id': 63}}\n",
      "{'_index': 'emploi_groupe2', '_id': '64', '_source': {'name': 'Avis de recrutement', 'location': 'Parcelles Assainies', 'price': 50000, 'reference': 1409864, 'publish': 'Postée il y a 14 jours', 'Enterprise': 'Bintou', 'aff_date': 'Membre depuis Déc 2019', 'id': 64}}\n",
      "{'_index': 'emploi_groupe2', '_id': '65', '_source': {'name': 'Femme de ménage', 'location': 'Mbao', 'price': 30000, 'reference': 1409862, 'publish': 'Postée il y a 15 jours', 'Enterprise': 'Maty Dieng', 'aff_date': 'Membre depuis Déc 2019', 'id': 65}}\n",
      "{'_index': 'emploi_groupe2', '_id': '66', '_source': {'name': 'Cuisinier', 'location': 'Dakar', 'price': 150000, 'reference': 1409704, 'publish': 'Postée il y a 15 jours', 'Enterprise': 'Marie-Ange RIGAS', 'aff_date': 'Membre depuis Juin 2018', 'id': 66}}\n",
      "{'_index': 'emploi_groupe2', '_id': '67', '_source': {'name': 'Commercial', 'location': 'Dakar', 'price': 105000, 'reference': 1409583, 'publish': 'Postée il y a 15 jours', 'Enterprise': 'Diaz Laye', 'aff_date': 'Membre depuis Déc 2019', 'id': 67}}\n",
      "{'_index': 'emploi_groupe2', '_id': '68', '_source': {'name': 'Femme de ménage', 'location': 'Almadies', 'price': 55000, 'reference': 1409564, 'publish': 'Postée il y a 15 jours', 'Enterprise': 'Esperanza', 'aff_date': 'Membre depuis Déc 2018', 'id': 68}}\n",
      "{'_index': 'emploi_groupe2', '_id': '69', '_source': {'name': 'Aide pâtissière / caissière', 'location': 'Ouest Foire', 'price': 60000, 'reference': 1409569, 'publish': 'Postée il y a 15 jours', 'Enterprise': 'Bamby Mbaye', 'aff_date': 'Membre depuis Mai 2017', 'id': 69}}\n",
      "{'_index': 'emploi_groupe2', '_id': '70', '_source': {'name': \"Demande d'emploie\", 'location': 'Parcelles Assainies', 'price': 70000, 'reference': 1410891, 'publish': 'Postée il y a 15 jours', 'Enterprise': 'koffi agna', 'aff_date': 'Membre depuis Mai 2019', 'id': 70}}\n",
      "{'_index': 'emploi_groupe2', '_id': '71', '_source': {'name': 'Aide-ménagère', 'location': 'Hann Maristes', 'price': 80000, 'reference': 1409433, 'publish': 'Postée il y a 15 jours', 'Enterprise': 'Maelle DIOUF', 'aff_date': 'Membre depuis Août 2012', 'id': 71}}\n",
      "{'_index': 'emploi_groupe2', '_id': '72', '_source': {'name': 'Nounous expérimentées', 'location': 'Ngor', 'price': 70000, 'reference': 1409413, 'publish': 'Postée il y a 15 jours', 'Enterprise': 'Maelle DIOUF', 'aff_date': 'Membre depuis Août 2012', 'id': 72}}\n",
      "{'_index': 'emploi_groupe2', '_id': '73', '_source': {'name': 'Boys de maison/gardien', 'location': 'Ouest Foire', 'price': 50000, 'reference': 1409409, 'publish': 'Postée il y a 16 jours', 'Enterprise': 'Dakha Welle', 'aff_date': 'Membre depuis Mai 2018', 'id': 73}}\n",
      "{'_index': 'emploi_groupe2', '_id': '74', '_source': {'name': 'endeuse', 'location': 'Keur Massar', 'price': 25000, 'reference': 1409185, 'publish': 'Postée il y a 16 jours', 'Enterprise': 'Amadou Abdoulaye Fall', 'aff_date': 'Membre depuis Mai 2017', 'id': 74}}\n",
      "{'_index': 'emploi_groupe2', '_id': '75', '_source': {'name': 'Femme de ménage', 'location': 'Liberté 6 extension', 'price': 60000, 'reference': 1409132, 'publish': 'Postée il y a 16 jours', 'Enterprise': 'Maya coppenolle', 'aff_date': 'Membre depuis Juin 2018', 'id': 75}}\n",
      "{'_index': 'emploi_groupe2', '_id': '76', '_source': {'name': 'Nounou/baby sitter', 'location': 'Mermoz Sacré-Cœur', 'price': 45000, 'reference': 1409236, 'publish': 'Postée il y a 16 jours', 'Enterprise': 'Armand Mouko', 'aff_date': 'Membre depuis Juillet 2019', 'id': 76}}\n",
      "{'_index': 'emploi_groupe2', '_id': '77', '_source': {'name': 'Conseillers commerciaux indépendants', 'location': 'Ouest Foire', 'price': 100000, 'reference': 1409196, 'publish': 'Postée il y a 16 jours', 'Enterprise': 'Beugenel', 'aff_date': 'Membre depuis Déc 2019', 'id': 77}}\n",
      "{'_index': 'emploi_groupe2', '_id': '78', '_source': {'name': 'Repasseur professionnel', 'location': 'Plateau', 'price': 100000, 'reference': 1409227, 'publish': 'Postée il y a 17 jours', 'Enterprise': 'Ababacar Dieng', 'aff_date': 'Membre depuis Juin 2019', 'id': 78}}\n",
      "{'_index': 'emploi_groupe2', '_id': '79', '_source': {'name': 'Cuisinière', 'location': 'Liberté 6 extension', 'price': 100000, 'reference': 1408716, 'publish': 'Postée il y a 17 jours', 'Enterprise': 'QUALISERVICES', 'aff_date': 'Membre depuis Déc 2018', 'id': 79}}\n",
      "{'_index': 'emploi_groupe2', '_id': '80', '_source': {'name': 'Téléconseillers', 'location': 'Sicap Sacré Coeur', 'price': 120000, 'reference': 1408597, 'publish': 'Postée il y a 18 jours', 'Enterprise': 'Meissa MBOUP', 'aff_date': 'Membre depuis Oct 2019', 'id': 80}}\n",
      "{'_index': 'emploi_groupe2', '_id': '81', '_source': {'name': 'Maître d’hôtel', 'location': 'Médina', 'price': 350000, 'reference': 1408384, 'publish': 'Postée il y a 18 jours', 'Enterprise': 'bakiss sané', 'aff_date': 'Membre depuis Feb 2017', 'id': 81}}\n",
      "{'_index': 'emploi_groupe2', '_id': '82', '_source': {'name': 'Recrutement téléconseiller', 'location': 'Hann Maristes', 'price': 150000, 'reference': 1408322, 'publish': 'Postée il y a 19 jours', 'Enterprise': 'Nafissa Diop', 'aff_date': 'Membre depuis Jan 2018', 'id': 82}}\n",
      "{'_index': 'emploi_groupe2', '_id': '83', '_source': {'name': 'Femme infographe', 'location': 'Liberté 2', 'price': 80000, 'reference': 1408344, 'publish': 'Postée il y a 19 jours', 'Enterprise': 'cnam multiservices', 'aff_date': 'Membre depuis Août 2014', 'id': 83}}\n",
      "{'_index': 'emploi_groupe2', '_id': '84', '_source': {'name': 'Femme de ménage', 'location': 'Parcelles Assainies', 'price': 60000, 'reference': 1408593, 'publish': 'Postée il y a 19 jours', 'Enterprise': 'Bintou', 'aff_date': 'Membre depuis Déc 2019', 'id': 84}}\n",
      "{'_index': 'emploi_groupe2', '_id': '85', '_source': {'name': 'Secrétaire et assistant administratif', 'location': 'Mermoz Sacré-Coeur', 'price': 150000, 'reference': 1408080, 'publish': 'Postée il y a 19 jours', 'Enterprise': 'Cabiocci Ames', 'aff_date': 'Membre depuis Avril 2019', 'id': 85}}\n",
      "{'_index': 'emploi_groupe2', '_id': '86', '_source': {'name': 'Coiffeuse', 'location': 'Liberté 6 extension', 'price': 50000, 'reference': 1407979, 'publish': 'Postée il y a 20 jours', 'Enterprise': 'Gnilane', 'aff_date': 'Membre depuis Déc 2019', 'id': 86}}\n",
      "{'_index': 'emploi_groupe2', '_id': '87', '_source': {'name': 'Gestionnaire ressources humaines', 'location': 'Mermoz Sacré-Coeur', 'price': 250000, 'reference': 1407787, 'publish': 'Postée il y a 20 jours', 'Enterprise': 'Cabiocci Ames', 'aff_date': 'Membre depuis Avril 2019', 'id': 87}}\n",
      "{'_index': 'emploi_groupe2', '_id': '88', '_source': {'name': 'Stagiaire comptable', 'location': 'Dieuppeul Derklé', 'price': 75000, 'reference': 1407789, 'publish': 'Postée il y a 20 jours', 'Enterprise': 'Malick DIOP', 'aff_date': 'Membre depuis Feb 2015', 'id': 88}}\n",
      "{'_index': 'emploi_groupe2', '_id': '89', '_source': {'name': 'Commerciaux', 'location': 'Dakar', 'price': 100000, 'reference': 1407834, 'publish': 'Postée il y a 21 jours', 'Enterprise': 'Mariétou Dieng', 'aff_date': 'Membre depuis Mai 2019', 'id': 89}}\n",
      "{'_index': 'emploi_groupe2', '_id': '90', '_source': {'name': 'Commerciaux vendeuses produits alimentaire', 'location': 'Tivaouane Peulh', 'price': 60000, 'reference': 1408061, 'publish': 'Postée il y a 21 jours', 'Enterprise': 'Isiaka Omo Ibilę', 'aff_date': 'Membre depuis Juin 2018', 'id': 90}}\n",
      "{'_index': 'emploi_groupe2', '_id': '91', '_source': {'name': 'Repasseur-laveur', 'location': 'Nord Foire', 'price': 75000, 'reference': 1407655, 'publish': 'Postée il y a 21 jours', 'Enterprise': 'Abdoul', 'aff_date': 'Membre depuis Mars 2019', 'id': 91}}\n",
      "{'_index': 'emploi_groupe2', '_id': '92', '_source': {'name': 'Gérante pressing', 'location': 'Nord Foire', 'price': 75000, 'reference': 1407654, 'publish': 'Postée il y a 21 jours', 'Enterprise': 'Abdoul', 'aff_date': 'Membre depuis Mars 2019', 'id': 92}}\n",
      "{'_index': 'emploi_groupe2', '_id': '93', '_source': {'name': 'endeuses de café', 'location': 'Plateau', 'price': 90000, 'reference': 1407735, 'publish': 'Postée il y a 21 jours', 'Enterprise': 'Mamadou sene', 'aff_date': 'Membre depuis Jan 2017', 'id': 93}}\n",
      "{'_index': 'emploi_groupe2', '_id': '94', '_source': {'name': 'Recrutement personnel placement', 'location': 'Parcelles Assainies', 'price': 50000, 'reference': 1407734, 'publish': 'Postée il y a 22 jours', 'Enterprise': 'Bintou', 'aff_date': 'Membre depuis Déc 2019', 'id': 94}}\n",
      "{'_index': 'emploi_groupe2', '_id': '95', '_source': {'name': 'Avis de recrutement', 'location': 'Ouakam', 'price': 50000, 'reference': 1407520, 'publish': 'Postée il y a 22 jours', 'Enterprise': 'Na-Bâsse NappyBoy', 'aff_date': 'Membre depuis Sept 2018', 'id': 95}}\n",
      "{'_index': 'emploi_groupe2', '_id': '96', '_source': {'name': 'Surveillants lors des examens', 'location': 'Point-E', 'price': 2498, 'reference': 1407733, 'publish': 'Postée il y a 22 jours', 'Enterprise': 'Institut de Management', 'aff_date': 'Membre depuis Nov 2018', 'id': 96}}\n",
      "{'_index': 'emploi_groupe2', '_id': '97', '_source': {'name': 'Téléspectateurs prise de rendez-vous', 'location': 'Dakar', 'price': 100000, 'reference': 1407732, 'publish': 'Postée il y a 22 jours', 'Enterprise': 'Antoine', 'aff_date': 'Membre depuis Déc 2019', 'id': 97}}\n",
      "{'_index': 'emploi_groupe2', '_id': '98', '_source': {'name': 'Tailleur haute couture', 'location': 'Dakar', 'price': 50000, 'reference': 1407368, 'publish': 'Postée il y a 22 jours', 'Enterprise': 'Facha Ba', 'aff_date': 'Membre depuis Juin 2016', 'id': 98}}\n",
      "{'_index': 'emploi_groupe2', '_id': '99', '_source': {'name': 'Tailleur de confection', 'location': 'Grand-Yoff', 'price': 50000, 'reference': 1407272, 'publish': 'Postée il y a 23 jours', 'Enterprise': 'BOCAR SOW', 'aff_date': 'Membre depuis Juin 2018', 'id': 99}}\n",
      "{'_index': 'emploi_groupe2', '_id': '100', '_source': {'name': 'Comptable et tatoueur', 'location': 'Ouest Foire', 'price': 70000, 'reference': 1407130, 'publish': 'Postée il y a 23 jours', 'Enterprise': 'DiallobouTIC', 'aff_date': 'Membre depuis Déc 2019', 'id': 100}}\n",
      "{'_index': 'emploi_groupe2', '_id': '101', '_source': {'name': 'Femme de ménage expérimentée', 'location': 'Fann', 'price': 65000, 'reference': 1406913, 'publish': 'Postée il y a 23 jours', 'Enterprise': 'Technique Service', 'aff_date': 'Membre depuis Nov 2016', 'id': 101}}\n",
      "{'_index': 'emploi_groupe2', '_id': '102', '_source': {'name': 'English representatives needed /  téléconseillers', 'location': 'VDN', 'price': 120000, 'reference': 1406728, 'publish': 'Postée il y a 24 jours', 'Enterprise': 'Aida cisse', 'aff_date': 'Membre depuis Oct 2019', 'id': 102}}\n",
      "{'_index': 'emploi_groupe2', '_id': '103', '_source': {'name': 'Agent de sécurité', 'location': 'Sicap Liberté', 'price': 60000, 'reference': 1406579, 'publish': 'Postée il y a 24 jours', 'Enterprise': 'maman ndiaye', 'aff_date': 'Membre depuis Jan 2017', 'id': 103}}\n",
      "{'_index': 'emploi_groupe2', '_id': '104', '_source': {'name': 'Agents de transformation manioc', 'location': 'Médina', 'price': 150000, 'reference': 1406562, 'publish': 'Postée il y a 24 jours', 'Enterprise': 'La vanille', 'aff_date': 'Membre depuis Oct 2019', 'id': 104}}\n",
      "{'_index': 'emploi_groupe2', '_id': '105', '_source': {'name': 'Cuisinière', 'location': 'Fann', 'price': 75000, 'reference': 1406355, 'publish': 'Postée il y a 24 jours', 'Enterprise': 'Technique Service', 'aff_date': 'Membre depuis Nov 2016', 'id': 105}}\n",
      "{'_index': 'emploi_groupe2', '_id': '106', '_source': {'name': 'Femme de ménage', 'location': 'Sipres', 'price': 65000, 'reference': 1406490, 'publish': 'Postée il y a 25 jours', 'Enterprise': 'LEONIE T. M', 'aff_date': 'Membre depuis Sept 2016', 'id': 106}}\n",
      "{'_index': 'emploi_groupe2', '_id': '107', '_source': {'name': 'Coiffeuses- esthéticiennes', 'location': 'Nord Foire', 'price': 75000, 'reference': 1406181, 'publish': 'Postée il y a 25 jours', 'Enterprise': 'Tbs Corporation', 'aff_date': 'Membre depuis Août 2015', 'id': 107}}\n",
      "{'_index': 'emploi_groupe2', '_id': '108', '_source': {'name': 'Avis de recrutement', 'location': 'Almadies', 'price': 450000, 'reference': 1406348, 'publish': 'Postée il y a 25 jours', 'Enterprise': 'Ermich communication', 'aff_date': 'Membre depuis Déc 2019', 'id': 108}}\n",
      "{'_index': 'emploi_groupe2', '_id': '109', '_source': {'name': 'Femme de ménage', 'location': 'Fann', 'price': 55000, 'reference': 1405968, 'publish': 'Postée il y a 25 jours', 'Enterprise': 'TAIF SERVICES', 'aff_date': 'Membre depuis Avril 2019', 'id': 109}}\n",
      "{'_index': 'emploi_groupe2', '_id': '110', '_source': {'name': 'Femme de ménage', 'location': 'Dakar', 'price': 70000, 'reference': 1406015, 'publish': 'Postée il y a 25 jours', 'Enterprise': 'Mbakhane FALL', 'aff_date': 'Membre depuis Juin 2018', 'id': 110}}\n",
      "{'_index': 'emploi_groupe2', '_id': '111', '_source': {'name': 'Sécurité/animateur', 'location': 'Plateau', 'price': 150000, 'reference': 1405666, 'publish': 'Postée il y a 26 jours', 'Enterprise': 'BET 221', 'aff_date': 'Membre depuis Oct 2019', 'id': 111}}\n",
      "{'_index': 'emploi_groupe2', '_id': '112', '_source': {'name': 'Recrutements personnel de maison', 'location': 'Liberté 4', 'price': 75000, 'reference': 1405396, 'publish': 'Postée il y a 26 jours', 'Enterprise': 'Cabinet E - RH Consulting', 'aff_date': 'Membre depuis Juillet 2017', 'id': 112}}\n",
      "{'_index': 'emploi_groupe2', '_id': '113', '_source': {'name': 'Cuisinière expérimentée', 'location': 'Cambérène', 'price': 50000, 'reference': 1405979, 'publish': 'Postée il y a 27 jours', 'Enterprise': 'Bintou', 'aff_date': 'Membre depuis Déc 2019', 'id': 113}}\n",
      "{'_index': 'emploi_groupe2', '_id': '114', '_source': {'name': 'Ménage + cuisine', 'location': 'Mermoz Sacré-Coeur', 'price': 30000, 'reference': 1405245, 'publish': 'Postée il y a 28 jours', 'Enterprise': 'Марина Диа', 'aff_date': 'Membre depuis Déc 2019', 'id': 114}}\n",
      "{'_index': 'emploi_groupe2', '_id': '115', '_source': {'name': 'Femme de ménage', 'location': 'Hann Bel-Air', 'price': 100000, 'reference': 1405248, 'publish': 'Postée il y a 28 jours', 'Enterprise': 'ONG environnement Ong Dakar', 'aff_date': 'Membre depuis Feb 2017', 'id': 115}}\n",
      "{'_index': 'emploi_groupe2', '_id': '116', '_source': {'name': 'Livreurs', 'location': 'Hann Maristes', 'price': 90000, 'reference': 1405311, 'publish': 'Postée il y a 29 jours', 'Enterprise': 'mamadou dou', 'aff_date': 'Membre depuis Juin 2016', 'id': 116}}\n",
      "{'_index': 'emploi_groupe2', '_id': '117', '_source': {'name': 'Tailleur professionnelle confection', 'location': 'Sicap Foire', 'price': 100000, 'reference': 1405230, 'publish': 'Postée il y a 29 jours', 'Enterprise': 'Amina cisse', 'aff_date': 'Membre depuis Déc 2019', 'id': 117}}\n",
      "{'_index': 'emploi_groupe2', '_id': '118', '_source': {'name': 'Superviseur agent de sécurité', 'location': 'Grand-Yoff', 'price': 130000, 'reference': 1405231, 'publish': 'Postée il y a 29 jours', 'Enterprise': 'mouhamed niang', 'aff_date': 'Membre depuis Déc 2019', 'id': 118}}\n",
      "{'_index': 'emploi_groupe2', '_id': '119', '_source': {'name': 'Agent commercial', 'location': 'Cité Keur gorgui', 'price': 250000, 'reference': 1404829, 'publish': 'Postée il y a 29 jours', 'Enterprise': 'Wave', 'aff_date': 'Membre depuis Déc 2019', 'id': 119}}\n",
      "{'_index': 'emploi_groupe2', '_id': '120', '_source': {'name': 'Agent commercial', 'location': 'Nord Foire', 'price': 125000, 'reference': 1404823, 'publish': 'Postée il y a 29 jours', 'Enterprise': 'Toctoc Serv', 'aff_date': 'Membre depuis Août 2019', 'id': 120}}\n",
      "{'_index': 'emploi_groupe2', '_id': '121', '_source': {'name': 'Téléopératrices expérimentées', 'location': 'Nord Foire', 'price': 300000, 'reference': 1404739, 'publish': 'Postée il y a 30 jours', 'Enterprise': 'Freetelecom', 'aff_date': 'Membre depuis Nov 2018', 'id': 121}}\n",
      "{'_index': 'emploi_groupe2', '_id': '122', '_source': {'name': 'Femme de ménage', 'location': 'Ouest Foire', 'price': 20000, 'reference': 1404641, 'publish': 'Postée il y a 30 jours', 'Enterprise': 'osnelle vikey', 'aff_date': 'Membre depuis Sept 2014', 'id': 122}}\n",
      "{'_index': 'emploi_groupe2', '_id': '123', '_source': {'name': 'Ouvriers ferrailleurs et coffreurs bâtiment', 'location': 'Mamelles', 'price': 158000, 'reference': 1404287, 'publish': 'Postée il y a 31 jours', 'Enterprise': 'amadou ndir', 'aff_date': 'Membre depuis Avril 2018', 'id': 123}}\n",
      "{'_index': 'emploi_groupe2', '_id': '124', '_source': {'name': 'ersonnel de maison', 'location': 'Plateau', 'price': 80000, 'reference': 1400847, 'publish': 'Mise à jour il y a 31 jours', 'Enterprise': 'CHARLES placement', 'aff_date': 'Membre depuis Juin 2017', 'id': 124}}\n",
      "{'_index': 'emploi_groupe2', '_id': '125', '_source': {'name': 'Agent de saisie informatique', 'location': 'Sicap Sacré Coeur', 'price': 100000, 'reference': 1403760, 'publish': 'Postée il y a 32 jours', 'Enterprise': 'Madame Gueye', 'aff_date': 'Membre depuis Déc 2019', 'id': 125}}\n",
      "{'_index': 'emploi_groupe2', '_id': '126', '_source': {'name': 'Nounou', 'location': 'Dakar', 'price': 40000, 'reference': 1403337, 'publish': 'Postée il y a 33 jours', 'Enterprise': 'Cecilia roberto', 'aff_date': 'Membre depuis Déc 2019', 'id': 126}}\n",
      "{'_index': 'emploi_groupe2', '_id': '127', '_source': {'name': 'Formation agent de sécurité privée', 'location': 'Ngor', 'price': 35000, 'reference': 1402948, 'publish': 'Mise à jour il y a 33 jours', 'Enterprise': 'ExcellenceForAll Africa S.A.U', 'aff_date': 'Membre depuis Avril 2019', 'id': 127}}\n",
      "{'_index': 'emploi_groupe2', '_id': '128', '_source': {'name': 'Agents de sécurité', 'location': 'Dakar', 'price': 70000, 'reference': 1402695, 'publish': 'Postée il y a 35 jours', 'Enterprise': 'MR. SARR', 'aff_date': 'Membre depuis Nov 2011', 'id': 128}}\n",
      "{'_index': 'emploi_groupe2', '_id': '129', '_source': {'name': 'Réceptionniste', 'location': 'Nord Foire', 'price': 50000, 'reference': 1402709, 'publish': 'Postée il y a 35 jours', 'Enterprise': 'Résidence  La Mariame', 'aff_date': 'Membre depuis Nov 2010', 'id': 129}}\n",
      "{'_index': 'emploi_groupe2', '_id': '130', '_source': {'name': 'Commerciaux', 'location': 'Liberté 6', 'price': 200000, 'reference': 1402657, 'publish': 'Postée il y a 35 jours', 'Enterprise': 'QUALISERVICES', 'aff_date': 'Membre depuis Déc 2018', 'id': 130}}\n",
      "{'_index': 'emploi_groupe2', '_id': '131', '_source': {'name': 'Femme de ménage - cuisinière', 'location': 'Dakar', 'price': 40000, 'reference': 1402568, 'publish': 'Postée il y a 35 jours', 'Enterprise': 'Mamico', 'aff_date': 'Membre depuis Déc 2019', 'id': 131}}\n",
      "{'_index': 'emploi_groupe2', '_id': '132', '_source': {'name': 'Serveuses et cuisinières', 'location': 'Ouakam', 'price': 50000, 'reference': 1402469, 'publish': 'Postée il y a 36 jours', 'Enterprise': 'Na-Bâsse NappyBoy', 'aff_date': 'Membre depuis Sept 2018', 'id': 132}}\n",
      "{'_index': 'emploi_groupe2', '_id': '133', '_source': {'name': 'Traductrice-traducteur', 'location': 'Point-E', 'price': 200000, 'reference': 1401892, 'publish': 'Postée il y a 37 jours', 'Enterprise': 'awa diane', 'aff_date': 'Membre depuis Déc 2019', 'id': 133}}\n",
      "{'_index': 'emploi_groupe2', '_id': '134', '_source': {'name': 'Coursier', 'location': 'Malika', 'price': 60000, 'reference': 1401633, 'publish': 'Postée il y a 37 jours', 'Enterprise': 'mme ndiaye', 'aff_date': 'Membre depuis Déc 2014', 'id': 134}}\n",
      "{'_index': 'emploi_groupe2', '_id': '135', '_source': {'name': 'Recrutement journée sympathique et gratifiant', 'location': 'Hann Maristes', 'price': 10000, 'reference': 1349039, 'publish': 'Mise à jour il y a 38 jours', 'Enterprise': 'marie ndiaye', 'aff_date': 'Membre depuis Avril 2015', 'id': 135}}\n",
      "{'_index': 'emploi_groupe2', '_id': '136', '_source': {'name': 'rofesseur', 'location': 'Médina', 'price': 70000, 'reference': 1401039, 'publish': 'Postée il y a 38 jours', 'Enterprise': 'MBENGUE AIDA', 'aff_date': 'Membre depuis Sept 2018', 'id': 136}}\n",
      "{'_index': 'emploi_groupe2', '_id': '137', '_source': {'name': 'Assistant(e) de direction', 'location': 'Pikine Ouest', 'price': 40000, 'reference': 1401005, 'publish': 'Postée il y a 38 jours', 'Enterprise': 'Ahmed Weis', 'aff_date': 'Membre depuis Avril 2017', 'id': 137}}\n",
      "{'_index': 'emploi_groupe2', '_id': '138', '_source': {'name': 'Avis de recrutement', 'location': 'Ouakam', 'price': 70000, 'reference': 1401530, 'publish': 'Postée il y a 39 jours', 'Enterprise': 'remy santos', 'aff_date': 'Membre depuis Mars 2016', 'id': 138}}\n",
      "{'_index': 'emploi_groupe2', '_id': '139', '_source': {'name': 'Commerciaux', 'location': 'Patte d’oie', 'price': 150000, 'reference': 1400922, 'publish': 'Postée il y a 39 jours', 'Enterprise': 'Sonde diouf', 'aff_date': 'Membre depuis Déc 2018', 'id': 139}}\n",
      "{'_index': 'emploi_groupe2', '_id': '140', '_source': {'name': 'Ménage et gardiennage', 'location': 'Ouakam', 'price': 80000, 'reference': 1400772, 'publish': 'Postée il y a 40 jours', 'Enterprise': 'Mouhamed Bangoura', 'aff_date': 'Membre depuis Déc 2019', 'id': 140}}\n",
      "{'_index': 'emploi_groupe2', '_id': '141', '_source': {'name': 'Chef cuisinier à domicile', 'location': 'Hann Maristes', 'price': 100000, 'reference': 1399645, 'publish': 'Postée il y a 42 jours', 'Enterprise': 'Khoudia Faye', 'aff_date': 'Membre depuis Nov 2019', 'id': 141}}\n",
      "{'_index': 'emploi_groupe2', '_id': '142', '_source': {'name': 'Femme de ménage', 'location': 'Dakar', 'price': 20000, 'reference': 1399644, 'publish': 'Postée il y a 42 jours', 'Enterprise': 'Marthe diedhiou', 'aff_date': 'Membre depuis Jan 2010', 'id': 142}}\n",
      "{'_index': 'emploi_groupe2', '_id': '143', '_source': {'name': 'Assistante de direction', 'location': 'Dakar', 'price': 75000, 'reference': 1399643, 'publish': 'Postée il y a 42 jours', 'Enterprise': 'Salikh Fall', 'aff_date': 'Membre depuis Oct 2017', 'id': 143}}\n",
      "{'_index': 'emploi_groupe2', '_id': '144', '_source': {'name': 'Service de ménage', 'location': 'Parcelles Assainies', 'price': 60000, 'reference': 1400671, 'publish': 'Postée il y a 42 jours', 'Enterprise': 'AGS', 'aff_date': 'Membre depuis Nov 2019', 'id': 144}}\n",
      "{'_index': 'emploi_groupe2', '_id': '145', '_source': {'name': 'Secrétaire - assistante', 'location': 'Almadies', 'price': 120000, 'reference': 1399637, 'publish': 'Postée il y a 42 jours', 'Enterprise': 'Souleymane NDIAYE', 'aff_date': 'Membre depuis Nov 2019', 'id': 145}}\n",
      "{'_index': 'emploi_groupe2', '_id': '146', '_source': {'name': 'Commerciaux', 'location': 'Almadies', 'price': 150000, 'reference': 1399639, 'publish': 'Postée il y a 42 jours', 'Enterprise': 'Souleymane NDIAYE', 'aff_date': 'Membre depuis Nov 2019', 'id': 146}}\n",
      "{'_index': 'emploi_groupe2', '_id': '147', '_source': {'name': 'Femme de ménage', 'location': 'Jaxaay, Parcelle, Niakoul, Rap', 'price': 40000, 'reference': 1399649, 'publish': 'Postée il y a 42 jours', 'Enterprise': 'Sokhna sene', 'aff_date': 'Membre depuis Juin 2019', 'id': 147}}\n",
      "{'_index': 'emploi_groupe2', '_id': '148', '_source': {'name': 'Femmes  de mènage', 'location': 'Ngor', 'price': 50000, 'reference': 1399616, 'publish': 'Postée il y a 43 jours', 'Enterprise': 'Esperanza', 'aff_date': 'Membre depuis Déc 2018', 'id': 148}}\n",
      "{'_index': 'emploi_groupe2', '_id': '149', '_source': {'name': 'Techniciens', 'location': 'Almadies', 'price': 200000, 'reference': 1399638, 'publish': 'Postée il y a 43 jours', 'Enterprise': 'Souleymane NDIAYE', 'aff_date': 'Membre depuis Nov 2019', 'id': 149}}\n",
      "{'_index': 'emploi_groupe2', '_id': '150', '_source': {'name': 'Femme de ménage', 'location': 'Liberté 6 extension', 'price': 60000, 'reference': 1398947, 'publish': 'Postée il y a 44 jours', 'Enterprise': 'Mme Thiam', 'aff_date': 'Membre depuis Avril 2012', 'id': 150}}\n",
      "{'_index': 'emploi_groupe2', '_id': '151', '_source': {'name': 'Femme de cuisine', 'location': 'Dakar', 'price': 30000, 'reference': 1400417, 'publish': 'Postée il y a 44 jours', 'Enterprise': 'deborah k', 'aff_date': 'Membre depuis Déc 2014', 'id': 151}}\n",
      "{'_index': 'emploi_groupe2', '_id': '152', '_source': {'name': 'Commerciaux', 'location': 'Liberté 6 extension', 'price': 56000, 'reference': 1398834, 'publish': 'Postée il y a 44 jours', 'Enterprise': 'Standing Immobilier', 'aff_date': 'Membre depuis Juillet 2011', 'id': 152}}\n",
      "{'_index': 'emploi_groupe2', '_id': '153', '_source': {'name': 'Recrutement', 'location': 'Sicap Liberté', 'price': 100000, 'reference': 1398707, 'publish': 'Postée il y a 45 jours', 'Enterprise': 'anaiis  naze', 'aff_date': 'Membre depuis Nov 2019', 'id': 153}}\n",
      "{'_index': 'emploi_groupe2', '_id': '154', '_source': {'name': 'Femme de ménage', 'location': 'Keur Massar', 'price': 40000, 'reference': 1398699, 'publish': 'Postée il y a 45 jours', 'Enterprise': 'Fatim B', 'aff_date': 'Membre depuis Nov 2019', 'id': 154}}\n",
      "{'_index': 'emploi_groupe2', '_id': '155', '_source': {'name': 'Commerciaux', 'location': 'Hann Maristes', 'price': 20000, 'reference': 1398304, 'publish': 'Postée il y a 45 jours', 'Enterprise': 'marie ndiaye', 'aff_date': 'Membre depuis Avril 2015', 'id': 155}}\n",
      "{'_index': 'emploi_groupe2', '_id': '156', '_source': {'name': 'Responsable magasin', 'location': 'Mbour', 'price': 80000, 'reference': 1398258, 'publish': 'Postée il y a 45 jours', 'Enterprise': 'omar thiam', 'aff_date': 'Membre depuis Déc 2014', 'id': 156}}\n",
      "{'_index': 'emploi_groupe2', '_id': '157', '_source': {'name': 'Gardien de nuit', 'location': 'Ngor', 'price': 70000, 'reference': 1398115, 'publish': 'Postée il y a 46 jours', 'Enterprise': 'CHARLES placement', 'aff_date': 'Membre depuis Juin 2017', 'id': 157}}\n",
      "{'_index': 'emploi_groupe2', '_id': '158', '_source': {'name': 'ersonnel de maison', 'location': 'Sud Foire', 'price': 50000, 'reference': 1397777, 'publish': 'Postée il y a 46 jours', 'Enterprise': 'Cabinet E - RH Consulting', 'aff_date': 'Membre depuis Juillet 2017', 'id': 158}}\n",
      "{'_index': 'emploi_groupe2', '_id': '159', '_source': {'name': 'Ménage-cuisine', 'location': 'Sicap Sacré Coeur', 'price': 75000, 'reference': 1397519, 'publish': 'Postée il y a 47 jours', 'Enterprise': 'Agence HYBRIDE', 'aff_date': 'Membre depuis Mai 2017', 'id': 159}}\n",
      "{'_index': 'emploi_groupe2', '_id': '160', '_source': {'name': 'Femme de menage', 'location': 'Scat Urbam', 'price': 40000, 'reference': 1397740, 'publish': 'Postée il y a 47 jours', 'Enterprise': 'Maimouna Diouck', 'aff_date': 'Membre depuis Juillet 2018', 'id': 160}}\n",
      "{'_index': 'emploi_groupe2', '_id': '161', '_source': {'name': 'Commercial et community manager', 'location': 'Mamelles', 'price': 80000, 'reference': 1397196, 'publish': 'Postée il y a 48 jours', 'Enterprise': 'Résidence les Mamelles', 'aff_date': 'Membre depuis Nov 2010', 'id': 161}}\n",
      "{'_index': 'emploi_groupe2', '_id': '162', '_source': {'name': 'Guide et assistant', 'location': 'Ngor', 'price': 100000, 'reference': 1396739, 'publish': 'Postée il y a 50 jours', 'Enterprise': 'Baba Chi', 'aff_date': 'Membre depuis Nov 2016', 'id': 162}}\n",
      "{'_index': 'emploi_groupe2', '_id': '163', '_source': {'name': 'Nounou', 'location': 'Almadies', 'price': 60000, 'reference': 1396649, 'publish': 'Postée il y a 51 jours', 'Enterprise': 'fis ob', 'aff_date': 'Membre depuis Avril 2017', 'id': 163}}\n",
      "{'_index': 'emploi_groupe2', '_id': '164', '_source': {'name': 'Chauffeur et assistant privé', 'location': 'Point-E', 'price': 100000, 'reference': 1396671, 'publish': 'Postée il y a 51 jours', 'Enterprise': 'LI LI', 'aff_date': 'Membre depuis Feb 2017', 'id': 164}}\n",
      "{'_index': 'emploi_groupe2', '_id': '165', '_source': {'name': 'Chauffeur', 'location': 'Hann Bel-Air', 'price': 100000, 'reference': 1395963, 'publish': 'Postée il y a 52 jours', 'Enterprise': 'ERIC', 'aff_date': 'Membre depuis Nov 2019', 'id': 165}}\n",
      "{'_index': 'emploi_groupe2', '_id': '166', '_source': {'name': 'nfirmier/ infirmière', 'location': 'Cité Avion', 'price': 40000, 'reference': 1395946, 'publish': 'Postée il y a 52 jours', 'Enterprise': 'céna CISSOKHO', 'aff_date': 'Membre depuis Jan 2018', 'id': 166}}\n",
      "{'_index': 'emploi_groupe2', '_id': '167', '_source': {'name': 'rofesseurs', 'location': 'Point-E', 'price': 5000, 'reference': 1395936, 'publish': 'Postée il y a 52 jours', 'Enterprise': 'Institut de Management', 'aff_date': 'Membre depuis Nov 2018', 'id': 167}}\n",
      "{'_index': 'emploi_groupe2', '_id': '168', '_source': {'name': 'Recrutement commerciale', 'location': 'Fatick', 'price': 80000, 'reference': 1395798, 'publish': 'Postée il y a 52 jours', 'Enterprise': 'TCS', 'aff_date': 'Membre depuis Nov 2019', 'id': 168}}\n",
      "{'_index': 'emploi_groupe2', '_id': '169', '_source': {'name': 'Commercial', 'location': 'Médina', 'price': 100000, 'reference': 1395791, 'publish': 'Postée il y a 53 jours', 'Enterprise': 'La vanille', 'aff_date': 'Membre depuis Oct 2019', 'id': 169}}\n",
      "{'_index': 'emploi_groupe2', '_id': '170', '_source': {'name': 'Rédacteurs web', 'location': 'Mbao', 'price': 150000, 'reference': 1395772, 'publish': 'Postée il y a 53 jours', 'Enterprise': 'Dakar Web Redaction', 'aff_date': 'Membre depuis Jan 2014', 'id': 170}}\n",
      "{'_index': 'emploi_groupe2', '_id': '171', '_source': {'name': 'Rédacteur', 'location': 'Sicap Sacré Coeur', 'price': 100000, 'reference': 1395649, 'publish': 'Postée il y a 53 jours', 'Enterprise': 'Destiny BOUSSI', 'aff_date': 'Membre depuis Août 2011', 'id': 171}}\n",
      "{'_index': 'emploi_groupe2', '_id': '172', '_source': {'name': 'Administrateur réseaux et systèmes', 'location': 'Yoff', 'price': 150000, 'reference': 1365235, 'publish': 'Mise à jour il y a 54 jours', 'Enterprise': 'WBCC Assistance', 'aff_date': 'Membre depuis Juillet 2019', 'id': 172}}\n",
      "{'_index': 'emploi_groupe2', '_id': '173', '_source': {'name': 'Agent commerciale', 'location': 'Sicap Sacré Coeur', 'price': 100000, 'reference': 1394707, 'publish': 'Postée il y a 55 jours', 'Enterprise': 'Vision Center', 'aff_date': 'Membre depuis Nov 2019', 'id': 173}}\n",
      "{'_index': 'emploi_groupe2', '_id': '174', '_source': {'name': 'ersonnel de maison', 'location': 'VDN', 'price': 50000, 'reference': 1394495, 'publish': 'Postée il y a 55 jours', 'Enterprise': 'Cabinet E - RH Consulting', 'aff_date': 'Membre depuis Juillet 2017', 'id': 174}}\n",
      "{'_index': 'emploi_groupe2', '_id': '175', '_source': {'name': 'Cuisinier expérimenté', 'location': 'Mermoz Sacré-Coeur', 'price': 200000, 'reference': 1394354, 'publish': 'Postée il y a 56 jours', 'Enterprise': 'dakar emploi s.', 'aff_date': 'Membre depuis Août 2016', 'id': 175}}\n",
      "{'_index': 'emploi_groupe2', '_id': '176', '_source': {'name': 'Esthéticienne - onglerie', 'location': 'Mermoz Sacré-Coeur', 'price': 80000, 'reference': 1394338, 'publish': 'Postée il y a 56 jours', 'Enterprise': 'dakar emploi s.', 'aff_date': 'Membre depuis Août 2016', 'id': 176}}\n",
      "{'_index': 'emploi_groupe2', '_id': '177', '_source': {'name': 'Livreur à moto', 'location': 'Liberté 6', 'price': 80000, 'reference': 1394143, 'publish': 'Postée il y a 57 jours', 'Enterprise': 'dakar emploi s.', 'aff_date': 'Membre depuis Août 2016', 'id': 177}}\n",
      "{'_index': 'emploi_groupe2', '_id': '178', '_source': {'name': 'Maîtresse éducatrice', 'location': 'Hlm', 'price': 65000, 'reference': 1393868, 'publish': 'Postée il y a 58 jours', 'Enterprise': 'Maty Ndiaye', 'aff_date': 'Membre depuis Juin 2016', 'id': 178}}\n",
      "{'_index': 'emploi_groupe2', '_id': '179', '_source': {'name': 'Chauffeur poids lourd', 'location': 'Grand-Dakar', 'price': 65000, 'reference': 1393889, 'publish': 'Postée il y a 58 jours', 'Enterprise': 'Maty Ndiaye', 'aff_date': 'Membre depuis Juin 2016', 'id': 179}}\n",
      "{'_index': 'emploi_groupe2', '_id': '180', '_source': {'name': 'endeuse', 'location': 'Cité Avion', 'price': 60000, 'reference': 1393893, 'publish': 'Postée il y a 58 jours', 'Enterprise': 'khady diouf', 'aff_date': 'Membre depuis Feb 2015', 'id': 180}}\n",
      "{'_index': 'emploi_groupe2', '_id': '181', '_source': {'name': 'Commercial', 'location': 'Point-E', 'price': 150000, 'reference': 1393715, 'publish': 'Postée il y a 58 jours', 'Enterprise': 'FATIMA NDAO', 'aff_date': 'Membre depuis Nov 2019', 'id': 181}}\n"
     ]
    }
   ],
   "source": [
    "for doc in documents:\n",
    "    print(doc)"
   ]
  },
  {
   "cell_type": "code",
   "execution_count": 27,
   "metadata": {},
   "outputs": [],
   "source": [
    "documents = doc_generator(data)"
   ]
  },
  {
   "cell_type": "code",
   "execution_count": 28,
   "metadata": {},
   "outputs": [
    {
     "data": {
      "text/plain": [
       "name          object\n",
       "location      object\n",
       "price          int64\n",
       "reference      int64\n",
       "publish       object\n",
       "Enterprise    object\n",
       "aff_date      object\n",
       "id             int64\n",
       "dtype: object"
      ]
     },
     "execution_count": 28,
     "metadata": {},
     "output_type": "execute_result"
    }
   ],
   "source": [
    "data.dtypes"
   ]
  },
  {
   "cell_type": "code",
   "execution_count": 31,
   "metadata": {},
   "outputs": [
    {
     "name": "stdout",
     "output_type": "stream",
     "text": [
      "creating 'example_index' index...\n"
     ]
    }
   ],
   "source": [
    "request_body = {\n",
    "    \"settings\" : {\n",
    "        \"number_of_shards\": 2,\n",
    "        \"number_of_replicas\": 0\n",
    "    },\n",
    "\n",
    "'mappings': {\n",
    "            'properties': {\n",
    "                \"name\": { \"type\": \"keyword\" }, \n",
    "                \"location\": { \"type\": \"keyword\"  },\n",
    "                \"price\": { \"type\": \"integer\"  },\n",
    "                \"reference\": { \"type\": \"integer\"  },\n",
    "                \"publish\": { \"type\": \"keyword\"  },\n",
    "                \"Enterprise\": { \"type\": \"keyword\"  },\n",
    "                \"aff_date\": { \"type\": \"keyword\"  }\n",
    "        }}\n",
    "}\n",
    "\n",
    "if es_client.indices.exists(\"emploi_groupe2\"):\n",
    "    print(\"This index already exists\")\n",
    "else:\n",
    "  \n",
    "\n",
    "    print(\"creating 'example_index' index...\")\n",
    "    es_client.indices.create(index = 'emploi_groupe2', body = request_body)"
   ]
  },
  {
   "cell_type": "code",
   "execution_count": 32,
   "metadata": {},
   "outputs": [
    {
     "data": {
      "text/plain": [
       "True"
      ]
     },
     "execution_count": 32,
     "metadata": {},
     "output_type": "execute_result"
    }
   ],
   "source": [
    "es_client.indices.exists(\"emploi_groupe2\")"
   ]
  },
  {
   "cell_type": "code",
   "execution_count": 33,
   "metadata": {},
   "outputs": [
    {
     "data": {
      "text/plain": [
       "(182, [])"
      ]
     },
     "execution_count": 33,
     "metadata": {},
     "output_type": "execute_result"
    }
   ],
   "source": [
    "helpers.bulk(es_client, documents)"
   ]
  },
  {
   "cell_type": "code",
   "execution_count": 34,
   "metadata": {},
   "outputs": [],
   "source": [
    "url = ' http://636cdde8.ngrok.io/hobbies '\n",
    "response = get(url)"
   ]
  },
  {
   "cell_type": "code",
   "execution_count": 35,
   "metadata": {},
   "outputs": [],
   "source": [
    "from requests import get"
   ]
  },
  {
   "cell_type": "code",
   "execution_count": 36,
   "metadata": {},
   "outputs": [],
   "source": [
    "data1 = get(\"http://636cdde8.ngrok.io/hobbies\")"
   ]
  },
  {
   "cell_type": "code",
   "execution_count": 38,
   "metadata": {},
   "outputs": [],
   "source": [
    "data1.json()"
   ]
  },
  {
   "cell_type": "code",
   "execution_count": 84,
   "metadata": {},
   "outputs": [
    {
     "data": {
      "text/plain": [
       "<Response [200]>"
      ]
     },
     "execution_count": 84,
     "metadata": {},
     "output_type": "execute_result"
    }
   ],
   "source": [
    "data1"
   ]
  },
  {
   "cell_type": "code",
   "execution_count": 3,
   "metadata": {},
   "outputs": [
    {
     "name": "stdout",
     "output_type": "stream",
     "text": [
      "creating index ....\n",
      "bulking data ...\n"
     ]
    },
    {
     "data": {
      "text/plain": [
       "'index group_12 created...'"
      ]
     },
     "execution_count": 3,
     "metadata": {},
     "output_type": "execute_result"
    }
   ],
   "source": [
    "                  \n",
    "from elasticsearch import Elasticsearch\n",
    "from elasticsearch import helpers\n",
    "from requests import get\n",
    "es_client = Elasticsearch([{'host':'localhost', 'port':9200}], http_compress=True)\n",
    "def send_data2elastic(url, new_index, es_client):\n",
    "    data = get(url)\n",
    "    database = list()\n",
    "    \n",
    "    request_body = {\n",
    "        \"settings\": {\n",
    "            \"number_of_shards\": 5,\n",
    "            \"number_of_replicas\": 0\n",
    "        }\n",
    "    }\n",
    "    \n",
    "    \n",
    "    for document in data.json()['hits']['hits']:\n",
    "        database.append({\n",
    "            \"_index\": new_index,\n",
    "            \"_type\": new_index,\n",
    "            \"_source\": document['_source']\n",
    "        })\n",
    "        \n",
    "    if es_client.indices.exists(new_index):\n",
    "        return \"This index already exists\"\n",
    "    else:\n",
    "        print(\"creating index ....\")\n",
    "        es_client.indices.create(index = new_index, body = request_body)\n",
    "        print(\"bulking data ...\")\n",
    "        _ = helpers.bulk(es_client, database)\n",
    "        return \"index {0} created...\".format(new_index)\n",
    "        \n",
    "        \n",
    "# Pour indexer la base de données du groupe 14 par exemple\n",
    "#send_data2elastic(\"http://636cdde8.ngrok.io/hobbies\", \"group_14\", es_client)\n",
    "#send_data2elastic(\"https://ee4e1856.ngrok.io/vehicule\", \"group_3\", es_client)\n",
    "# send_data2elastic(\"https://b378b274.ngrok.io/equipement_maison\", \"group_8\", es_client)\n",
    "# send_data2elastic(\"http://4b930953.ngrok.io/electromenager_database\", \"group_6\", es_client)\n",
    "# send_data2elastic(\"https://46b0cccd.ngrok.io/group_1_database\", \"group_1\", es_client)\n",
    "# send_data2elastic(\"https://c21d47a2.ngrok.io/terrain_database\", \"group_11\", es_client)\n",
    "# send_data2elastic(\"https://3f9e789c.ngrok.io/modedata\", \"group_7\", es_client)\n",
    "# send_data2elastic(\"http://64f70b94.ngrok.io/base\", \"group_9\", es_client)\n",
    "# send_data2elastic(\"https://56045e14.ngrok.io/maison_database\", \"group_10\", es_client)\n",
    "# send_data2elastic(\"http://74d8fff6.ngrok.io/electronique_database\", \"group_13\", es_client)\n",
    "# send_data2elastic(\"https://e3326ef2.ngrok.io/ordinateurs_database\", \"group_15\", es_client)\n",
    "send_data2elastic(\"https://c851904d.ngrok.io/animal_database\", \"group_12\", es_client)\n",
    "# send_data2elastic(\"http://46897957.ngrok.io/hobbies\", \"group_14\", es_client)\n",
    "# send_data2elastic(\"http://46897957.ngrok.io/hobbies\", \"group_14\", es_client)"
   ]
  },
  {
   "cell_type": "markdown",
   "metadata": {
    "collapsed": true
   },
   "source": [
    "# THANK YOU"
   ]
  }
 ],
 "metadata": {
  "kernelspec": {
   "display_name": "Python 3",
   "language": "python",
   "name": "python3"
  },
  "language_info": {
   "codemirror_mode": {
    "name": "ipython",
    "version": 3
   },
   "file_extension": ".py",
   "mimetype": "text/x-python",
   "name": "python",
   "nbconvert_exporter": "python",
   "pygments_lexer": "ipython3",
   "version": "3.7.3"
  }
 },
 "nbformat": 4,
 "nbformat_minor": 2
}
