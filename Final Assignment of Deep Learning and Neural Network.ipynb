{
 "cells": [
  {
   "cell_type": "markdown",
   "metadata": {},
   "source": [
    "$\\LARGE{African\\hspace{0.1cm}Institute\\hspace{0.1cm}For\\hspace{0.1cm}Mathematical\\hspace{0.1cm}Sciences,\\hspace{0.1cm}AIMS-Sénégal\\\\}$\n",
    "\n",
    "$\\Large{Cours\\hspace{0.1cm}de: Deep\\hspace{0.1cm}Learning\\hspace{0.1cm}and\\hspace{0.1cm}Neural\\hspace{0.1cm}Network\\\\}$"
   ]
  },
  {
   "cell_type": "markdown",
   "metadata": {},
   "source": [
    "Responsable du cours: $\\textbf{Prof. Stephane KOUAMO}$"
   ]
  },
  {
   "cell_type": "markdown",
   "metadata": {},
   "source": [
    "$\\large{\\textbf{Projet portant sur la prédiction de l'activité agricole au cameroon en appliquant  une structure de réseau de neurone.}}$"
   ]
  },
  {
   "cell_type": "markdown",
   "metadata": {},
   "source": [
    "Projet présenté par: $\\textbf{Mikhaël Presley KIBINDA-MOUKENGUE}$"
   ]
  },
  {
   "cell_type": "code",
   "execution_count": null,
   "metadata": {},
   "outputs": [],
   "source": []
  },
  {
   "cell_type": "code",
   "execution_count": 963,
   "metadata": {
    "colab": {},
    "colab_type": "code",
    "id": "G2Lfa9IX37oC"
   },
   "outputs": [],
   "source": [
    "import pandas as pd\n",
    "import numpy as np\n",
    "import time\n",
    "from keras.layers import Dropout, Dense, Activation\n",
    "from keras.models import Sequential"
   ]
  },
  {
   "cell_type": "code",
   "execution_count": 964,
   "metadata": {
    "colab": {},
    "colab_type": "code",
    "id": "T5XXiQr14Ahb"
   },
   "outputs": [],
   "source": [
    "from keras.utils import to_categorical"
   ]
  },
  {
   "cell_type": "markdown",
   "metadata": {
    "colab_type": "text",
    "id": "_VBFe8ms4B5W"
   },
   "source": []
  },
  {
   "cell_type": "markdown",
   "metadata": {},
   "source": [
    "## Affichage du dataset"
   ]
  },
  {
   "cell_type": "code",
   "execution_count": 965,
   "metadata": {
    "colab": {
     "base_uri": "https://localhost:8080/",
     "height": 400
    },
    "colab_type": "code",
    "id": "D8B8NnyB37ob",
    "outputId": "ea03eadf-925c-454e-db11-e3a349bbe44e"
   },
   "outputs": [],
   "source": [
    "df=pd.read_csv('don_RN.csv')"
   ]
  },
  {
   "cell_type": "code",
   "execution_count": 966,
   "metadata": {
    "colab": {},
    "colab_type": "code",
    "id": "KB6B7JS437oj"
   },
   "outputs": [
    {
     "data": {
      "text/html": [
       "<div>\n",
       "<style scoped>\n",
       "    .dataframe tbody tr th:only-of-type {\n",
       "        vertical-align: middle;\n",
       "    }\n",
       "\n",
       "    .dataframe tbody tr th {\n",
       "        vertical-align: top;\n",
       "    }\n",
       "\n",
       "    .dataframe thead th {\n",
       "        text-align: right;\n",
       "    }\n",
       "</style>\n",
       "<table border=\"1\" class=\"dataframe\">\n",
       "  <thead>\n",
       "    <tr style=\"text-align: right;\">\n",
       "      <th></th>\n",
       "      <th>Region</th>\n",
       "      <th>Depart</th>\n",
       "      <th>Arond</th>\n",
       "      <th>Ville</th>\n",
       "      <th>Village_quart</th>\n",
       "      <th>Longitude</th>\n",
       "      <th>Latitude</th>\n",
       "      <th>Result_collect</th>\n",
       "      <th>Milieu_Red</th>\n",
       "      <th>Code_spe</th>\n",
       "      <th>Prodution_pecul</th>\n",
       "      <th>Dest_principal</th>\n",
       "      <th>implicaion_femme</th>\n",
       "      <th>code_agent</th>\n",
       "    </tr>\n",
       "  </thead>\n",
       "  <tbody>\n",
       "    <tr>\n",
       "      <td>0</td>\n",
       "      <td>1.0</td>\n",
       "      <td>1.0</td>\n",
       "      <td>1.0</td>\n",
       "      <td>1.0</td>\n",
       "      <td>1.0</td>\n",
       "      <td>13.27014</td>\n",
       "      <td>6.46195</td>\n",
       "      <td>1.0</td>\n",
       "      <td>1.0</td>\n",
       "      <td>1.0</td>\n",
       "      <td>2.0</td>\n",
       "      <td>NaN</td>\n",
       "      <td>NaN</td>\n",
       "      <td>4.0</td>\n",
       "    </tr>\n",
       "    <tr>\n",
       "      <td>1</td>\n",
       "      <td>1.0</td>\n",
       "      <td>1.0</td>\n",
       "      <td>1.0</td>\n",
       "      <td>1.0</td>\n",
       "      <td>1.0</td>\n",
       "      <td>13.27014</td>\n",
       "      <td>6.46195</td>\n",
       "      <td>1.0</td>\n",
       "      <td>1.0</td>\n",
       "      <td>2.0</td>\n",
       "      <td>2.0</td>\n",
       "      <td>NaN</td>\n",
       "      <td>NaN</td>\n",
       "      <td>4.0</td>\n",
       "    </tr>\n",
       "    <tr>\n",
       "      <td>2</td>\n",
       "      <td>1.0</td>\n",
       "      <td>1.0</td>\n",
       "      <td>1.0</td>\n",
       "      <td>1.0</td>\n",
       "      <td>1.0</td>\n",
       "      <td>13.27014</td>\n",
       "      <td>6.46195</td>\n",
       "      <td>1.0</td>\n",
       "      <td>1.0</td>\n",
       "      <td>3.0</td>\n",
       "      <td>2.0</td>\n",
       "      <td>NaN</td>\n",
       "      <td>NaN</td>\n",
       "      <td>4.0</td>\n",
       "    </tr>\n",
       "    <tr>\n",
       "      <td>3</td>\n",
       "      <td>1.0</td>\n",
       "      <td>1.0</td>\n",
       "      <td>1.0</td>\n",
       "      <td>1.0</td>\n",
       "      <td>1.0</td>\n",
       "      <td>13.27014</td>\n",
       "      <td>6.46195</td>\n",
       "      <td>1.0</td>\n",
       "      <td>1.0</td>\n",
       "      <td>4.0</td>\n",
       "      <td>1.0</td>\n",
       "      <td>2.0</td>\n",
       "      <td>1.0</td>\n",
       "      <td>4.0</td>\n",
       "    </tr>\n",
       "    <tr>\n",
       "      <td>4</td>\n",
       "      <td>1.0</td>\n",
       "      <td>1.0</td>\n",
       "      <td>1.0</td>\n",
       "      <td>1.0</td>\n",
       "      <td>1.0</td>\n",
       "      <td>13.27014</td>\n",
       "      <td>6.46195</td>\n",
       "      <td>1.0</td>\n",
       "      <td>1.0</td>\n",
       "      <td>5.0</td>\n",
       "      <td>1.0</td>\n",
       "      <td>1.0</td>\n",
       "      <td>1.0</td>\n",
       "      <td>4.0</td>\n",
       "    </tr>\n",
       "  </tbody>\n",
       "</table>\n",
       "</div>"
      ],
      "text/plain": [
       "   Region  Depart  Arond  Ville  Village_quart  Longitude  Latitude  \\\n",
       "0     1.0     1.0    1.0    1.0            1.0   13.27014   6.46195   \n",
       "1     1.0     1.0    1.0    1.0            1.0   13.27014   6.46195   \n",
       "2     1.0     1.0    1.0    1.0            1.0   13.27014   6.46195   \n",
       "3     1.0     1.0    1.0    1.0            1.0   13.27014   6.46195   \n",
       "4     1.0     1.0    1.0    1.0            1.0   13.27014   6.46195   \n",
       "\n",
       "   Result_collect  Milieu_Red  Code_spe  Prodution_pecul  Dest_principal  \\\n",
       "0             1.0         1.0       1.0              2.0             NaN   \n",
       "1             1.0         1.0       2.0              2.0             NaN   \n",
       "2             1.0         1.0       3.0              2.0             NaN   \n",
       "3             1.0         1.0       4.0              1.0             2.0   \n",
       "4             1.0         1.0       5.0              1.0             1.0   \n",
       "\n",
       "   implicaion_femme  code_agent  \n",
       "0               NaN         4.0  \n",
       "1               NaN         4.0  \n",
       "2               NaN         4.0  \n",
       "3               1.0         4.0  \n",
       "4               1.0         4.0  "
      ]
     },
     "execution_count": 966,
     "metadata": {},
     "output_type": "execute_result"
    }
   ],
   "source": [
    "df.head()"
   ]
  },
  {
   "cell_type": "markdown",
   "metadata": {},
   "source": [
    "### Vérification des données manquantes"
   ]
  },
  {
   "cell_type": "code",
   "execution_count": 967,
   "metadata": {
    "colab": {},
    "colab_type": "code",
    "id": "BZTIAjzp37oz"
   },
   "outputs": [
    {
     "data": {
      "text/plain": [
       "Region                   0\n",
       "Depart                   0\n",
       "Arond                    0\n",
       "Ville                    0\n",
       "Village_quart            0\n",
       "Longitude                0\n",
       "Latitude                 0\n",
       "Result_collect         240\n",
       "Milieu_Red               0\n",
       "Code_spe                 0\n",
       "Prodution_pecul          1\n",
       "Dest_principal      201331\n",
       "implicaion_femme    201332\n",
       "code_agent               0\n",
       "dtype: int64"
      ]
     },
     "execution_count": 967,
     "metadata": {},
     "output_type": "execute_result"
    }
   ],
   "source": [
    "df.isna().sum()"
   ]
  },
  {
   "cell_type": "markdown",
   "metadata": {},
   "source": [
    "#### Vérification de la ligne de \"Prodution_pecul\" qui a une valeur manquante"
   ]
  },
  {
   "cell_type": "code",
   "execution_count": 968,
   "metadata": {
    "colab": {},
    "colab_type": "code",
    "id": "eoweLCQ137pF"
   },
   "outputs": [],
   "source": [
    "loc=df[df[['Prodution_pecul']].isnull().any(axis=1)]"
   ]
  },
  {
   "cell_type": "code",
   "execution_count": 969,
   "metadata": {
    "colab": {},
    "colab_type": "code",
    "id": "MzzUu2G737pM"
   },
   "outputs": [
    {
     "data": {
      "text/html": [
       "<div>\n",
       "<style scoped>\n",
       "    .dataframe tbody tr th:only-of-type {\n",
       "        vertical-align: middle;\n",
       "    }\n",
       "\n",
       "    .dataframe tbody tr th {\n",
       "        vertical-align: top;\n",
       "    }\n",
       "\n",
       "    .dataframe thead th {\n",
       "        text-align: right;\n",
       "    }\n",
       "</style>\n",
       "<table border=\"1\" class=\"dataframe\">\n",
       "  <thead>\n",
       "    <tr style=\"text-align: right;\">\n",
       "      <th></th>\n",
       "      <th>Region</th>\n",
       "      <th>Depart</th>\n",
       "      <th>Arond</th>\n",
       "      <th>Ville</th>\n",
       "      <th>Village_quart</th>\n",
       "      <th>Longitude</th>\n",
       "      <th>Latitude</th>\n",
       "      <th>Result_collect</th>\n",
       "      <th>Milieu_Red</th>\n",
       "      <th>Code_spe</th>\n",
       "      <th>Prodution_pecul</th>\n",
       "      <th>Dest_principal</th>\n",
       "      <th>implicaion_femme</th>\n",
       "      <th>code_agent</th>\n",
       "    </tr>\n",
       "  </thead>\n",
       "  <tbody>\n",
       "    <tr>\n",
       "      <td>97314</td>\n",
       "      <td>4.0</td>\n",
       "      <td>21.0</td>\n",
       "      <td>139.0</td>\n",
       "      <td>2.0</td>\n",
       "      <td>2.0</td>\n",
       "      <td>14.9396</td>\n",
       "      <td>12.09216</td>\n",
       "      <td>8.0</td>\n",
       "      <td>2.0</td>\n",
       "      <td>10.0</td>\n",
       "      <td>NaN</td>\n",
       "      <td>NaN</td>\n",
       "      <td>NaN</td>\n",
       "      <td>55.0</td>\n",
       "    </tr>\n",
       "  </tbody>\n",
       "</table>\n",
       "</div>"
      ],
      "text/plain": [
       "       Region  Depart  Arond  Ville  Village_quart  Longitude  Latitude  \\\n",
       "97314     4.0    21.0  139.0    2.0            2.0    14.9396  12.09216   \n",
       "\n",
       "       Result_collect  Milieu_Red  Code_spe  Prodution_pecul  Dest_principal  \\\n",
       "97314             8.0         2.0      10.0              NaN             NaN   \n",
       "\n",
       "       implicaion_femme  code_agent  \n",
       "97314               NaN        55.0  "
      ]
     },
     "execution_count": 969,
     "metadata": {},
     "output_type": "execute_result"
    }
   ],
   "source": [
    "loc"
   ]
  },
  {
   "cell_type": "markdown",
   "metadata": {},
   "source": [
    "#### Suppréssion de cette ligne"
   ]
  },
  {
   "cell_type": "code",
   "execution_count": 970,
   "metadata": {
    "colab": {},
    "colab_type": "code",
    "id": "9ZDrQ8zG37pZ"
   },
   "outputs": [],
   "source": [
    "df.drop(97314,0,inplace=True)"
   ]
  },
  {
   "cell_type": "code",
   "execution_count": 971,
   "metadata": {
    "colab": {},
    "colab_type": "code",
    "id": "LudUCT2N37pg"
   },
   "outputs": [
    {
     "data": {
      "text/html": [
       "<div>\n",
       "<style scoped>\n",
       "    .dataframe tbody tr th:only-of-type {\n",
       "        vertical-align: middle;\n",
       "    }\n",
       "\n",
       "    .dataframe tbody tr th {\n",
       "        vertical-align: top;\n",
       "    }\n",
       "\n",
       "    .dataframe thead th {\n",
       "        text-align: right;\n",
       "    }\n",
       "</style>\n",
       "<table border=\"1\" class=\"dataframe\">\n",
       "  <thead>\n",
       "    <tr style=\"text-align: right;\">\n",
       "      <th></th>\n",
       "      <th>Region</th>\n",
       "      <th>Depart</th>\n",
       "      <th>Arond</th>\n",
       "      <th>Ville</th>\n",
       "      <th>Village_quart</th>\n",
       "      <th>Longitude</th>\n",
       "      <th>Latitude</th>\n",
       "      <th>Result_collect</th>\n",
       "      <th>Milieu_Red</th>\n",
       "      <th>Code_spe</th>\n",
       "      <th>Prodution_pecul</th>\n",
       "      <th>Dest_principal</th>\n",
       "      <th>implicaion_femme</th>\n",
       "      <th>code_agent</th>\n",
       "    </tr>\n",
       "  </thead>\n",
       "  <tbody>\n",
       "    <tr>\n",
       "      <td>0</td>\n",
       "      <td>1.0</td>\n",
       "      <td>1.0</td>\n",
       "      <td>1.0</td>\n",
       "      <td>1.0</td>\n",
       "      <td>1.0</td>\n",
       "      <td>13.27014</td>\n",
       "      <td>6.46195</td>\n",
       "      <td>1.0</td>\n",
       "      <td>1.0</td>\n",
       "      <td>1.0</td>\n",
       "      <td>2.0</td>\n",
       "      <td>NaN</td>\n",
       "      <td>NaN</td>\n",
       "      <td>4.0</td>\n",
       "    </tr>\n",
       "    <tr>\n",
       "      <td>1</td>\n",
       "      <td>1.0</td>\n",
       "      <td>1.0</td>\n",
       "      <td>1.0</td>\n",
       "      <td>1.0</td>\n",
       "      <td>1.0</td>\n",
       "      <td>13.27014</td>\n",
       "      <td>6.46195</td>\n",
       "      <td>1.0</td>\n",
       "      <td>1.0</td>\n",
       "      <td>2.0</td>\n",
       "      <td>2.0</td>\n",
       "      <td>NaN</td>\n",
       "      <td>NaN</td>\n",
       "      <td>4.0</td>\n",
       "    </tr>\n",
       "    <tr>\n",
       "      <td>2</td>\n",
       "      <td>1.0</td>\n",
       "      <td>1.0</td>\n",
       "      <td>1.0</td>\n",
       "      <td>1.0</td>\n",
       "      <td>1.0</td>\n",
       "      <td>13.27014</td>\n",
       "      <td>6.46195</td>\n",
       "      <td>1.0</td>\n",
       "      <td>1.0</td>\n",
       "      <td>3.0</td>\n",
       "      <td>2.0</td>\n",
       "      <td>NaN</td>\n",
       "      <td>NaN</td>\n",
       "      <td>4.0</td>\n",
       "    </tr>\n",
       "    <tr>\n",
       "      <td>3</td>\n",
       "      <td>1.0</td>\n",
       "      <td>1.0</td>\n",
       "      <td>1.0</td>\n",
       "      <td>1.0</td>\n",
       "      <td>1.0</td>\n",
       "      <td>13.27014</td>\n",
       "      <td>6.46195</td>\n",
       "      <td>1.0</td>\n",
       "      <td>1.0</td>\n",
       "      <td>4.0</td>\n",
       "      <td>1.0</td>\n",
       "      <td>2.0</td>\n",
       "      <td>1.0</td>\n",
       "      <td>4.0</td>\n",
       "    </tr>\n",
       "    <tr>\n",
       "      <td>4</td>\n",
       "      <td>1.0</td>\n",
       "      <td>1.0</td>\n",
       "      <td>1.0</td>\n",
       "      <td>1.0</td>\n",
       "      <td>1.0</td>\n",
       "      <td>13.27014</td>\n",
       "      <td>6.46195</td>\n",
       "      <td>1.0</td>\n",
       "      <td>1.0</td>\n",
       "      <td>5.0</td>\n",
       "      <td>1.0</td>\n",
       "      <td>1.0</td>\n",
       "      <td>1.0</td>\n",
       "      <td>4.0</td>\n",
       "    </tr>\n",
       "  </tbody>\n",
       "</table>\n",
       "</div>"
      ],
      "text/plain": [
       "   Region  Depart  Arond  Ville  Village_quart  Longitude  Latitude  \\\n",
       "0     1.0     1.0    1.0    1.0            1.0   13.27014   6.46195   \n",
       "1     1.0     1.0    1.0    1.0            1.0   13.27014   6.46195   \n",
       "2     1.0     1.0    1.0    1.0            1.0   13.27014   6.46195   \n",
       "3     1.0     1.0    1.0    1.0            1.0   13.27014   6.46195   \n",
       "4     1.0     1.0    1.0    1.0            1.0   13.27014   6.46195   \n",
       "\n",
       "   Result_collect  Milieu_Red  Code_spe  Prodution_pecul  Dest_principal  \\\n",
       "0             1.0         1.0       1.0              2.0             NaN   \n",
       "1             1.0         1.0       2.0              2.0             NaN   \n",
       "2             1.0         1.0       3.0              2.0             NaN   \n",
       "3             1.0         1.0       4.0              1.0             2.0   \n",
       "4             1.0         1.0       5.0              1.0             1.0   \n",
       "\n",
       "   implicaion_femme  code_agent  \n",
       "0               NaN         4.0  \n",
       "1               NaN         4.0  \n",
       "2               NaN         4.0  \n",
       "3               1.0         4.0  \n",
       "4               1.0         4.0  "
      ]
     },
     "execution_count": 971,
     "metadata": {},
     "output_type": "execute_result"
    }
   ],
   "source": [
    "df.head()"
   ]
  },
  {
   "cell_type": "markdown",
   "metadata": {},
   "source": [
    "### Copie de notre dataset"
   ]
  },
  {
   "cell_type": "code",
   "execution_count": 972,
   "metadata": {},
   "outputs": [],
   "source": [
    "dff=df.copy"
   ]
  },
  {
   "cell_type": "markdown",
   "metadata": {},
   "source": [
    "## Statistique des données"
   ]
  },
  {
   "cell_type": "markdown",
   "metadata": {},
   "source": [
    "#### Taille ou dimension du dataset"
   ]
  },
  {
   "cell_type": "code",
   "execution_count": 973,
   "metadata": {},
   "outputs": [
    {
     "data": {
      "text/plain": [
       "(260019, 14)"
      ]
     },
     "execution_count": 973,
     "metadata": {},
     "output_type": "execute_result"
    }
   ],
   "source": [
    "df.shape"
   ]
  },
  {
   "cell_type": "code",
   "execution_count": 974,
   "metadata": {
    "colab": {},
    "colab_type": "code",
    "id": "tTK8YGaV37ps"
   },
   "outputs": [
    {
     "data": {
      "text/html": [
       "<div>\n",
       "<style scoped>\n",
       "    .dataframe tbody tr th:only-of-type {\n",
       "        vertical-align: middle;\n",
       "    }\n",
       "\n",
       "    .dataframe tbody tr th {\n",
       "        vertical-align: top;\n",
       "    }\n",
       "\n",
       "    .dataframe thead th {\n",
       "        text-align: right;\n",
       "    }\n",
       "</style>\n",
       "<table border=\"1\" class=\"dataframe\">\n",
       "  <thead>\n",
       "    <tr style=\"text-align: right;\">\n",
       "      <th></th>\n",
       "      <th>count</th>\n",
       "      <th>mean</th>\n",
       "      <th>std</th>\n",
       "      <th>min</th>\n",
       "      <th>25%</th>\n",
       "      <th>50%</th>\n",
       "      <th>75%</th>\n",
       "      <th>max</th>\n",
       "    </tr>\n",
       "  </thead>\n",
       "  <tbody>\n",
       "    <tr>\n",
       "      <td>Region</td>\n",
       "      <td>260019.0</td>\n",
       "      <td>4.988832</td>\n",
       "      <td>2.567918</td>\n",
       "      <td>1.0</td>\n",
       "      <td>3.00000</td>\n",
       "      <td>4.00000</td>\n",
       "      <td>7.00000</td>\n",
       "      <td>10.0</td>\n",
       "    </tr>\n",
       "    <tr>\n",
       "      <td>Depart</td>\n",
       "      <td>260019.0</td>\n",
       "      <td>27.062153</td>\n",
       "      <td>14.472168</td>\n",
       "      <td>1.0</td>\n",
       "      <td>18.00000</td>\n",
       "      <td>24.00000</td>\n",
       "      <td>38.00000</td>\n",
       "      <td>58.0</td>\n",
       "    </tr>\n",
       "    <tr>\n",
       "      <td>Arond</td>\n",
       "      <td>260019.0</td>\n",
       "      <td>173.994289</td>\n",
       "      <td>93.818561</td>\n",
       "      <td>1.0</td>\n",
       "      <td>110.00000</td>\n",
       "      <td>163.00000</td>\n",
       "      <td>246.00000</td>\n",
       "      <td>360.0</td>\n",
       "    </tr>\n",
       "    <tr>\n",
       "      <td>Ville</td>\n",
       "      <td>260019.0</td>\n",
       "      <td>3.443818</td>\n",
       "      <td>8.964635</td>\n",
       "      <td>0.0</td>\n",
       "      <td>2.00000</td>\n",
       "      <td>2.00000</td>\n",
       "      <td>4.00000</td>\n",
       "      <td>999.0</td>\n",
       "    </tr>\n",
       "    <tr>\n",
       "      <td>Village_quart</td>\n",
       "      <td>260019.0</td>\n",
       "      <td>23.640130</td>\n",
       "      <td>36.077804</td>\n",
       "      <td>0.0</td>\n",
       "      <td>5.00000</td>\n",
       "      <td>12.00000</td>\n",
       "      <td>27.00000</td>\n",
       "      <td>714.0</td>\n",
       "    </tr>\n",
       "    <tr>\n",
       "      <td>Longitude</td>\n",
       "      <td>260019.0</td>\n",
       "      <td>10.086845</td>\n",
       "      <td>6.992207</td>\n",
       "      <td>0.0</td>\n",
       "      <td>5.47731</td>\n",
       "      <td>10.53494</td>\n",
       "      <td>13.55092</td>\n",
       "      <td>522.0</td>\n",
       "    </tr>\n",
       "    <tr>\n",
       "      <td>Latitude</td>\n",
       "      <td>260019.0</td>\n",
       "      <td>9.582849</td>\n",
       "      <td>6.579964</td>\n",
       "      <td>0.0</td>\n",
       "      <td>5.60172</td>\n",
       "      <td>10.13752</td>\n",
       "      <td>12.01432</td>\n",
       "      <td>522.0</td>\n",
       "    </tr>\n",
       "    <tr>\n",
       "      <td>Result_collect</td>\n",
       "      <td>259779.0</td>\n",
       "      <td>1.002610</td>\n",
       "      <td>0.133851</td>\n",
       "      <td>1.0</td>\n",
       "      <td>1.00000</td>\n",
       "      <td>1.00000</td>\n",
       "      <td>1.00000</td>\n",
       "      <td>8.0</td>\n",
       "    </tr>\n",
       "    <tr>\n",
       "      <td>Milieu_Red</td>\n",
       "      <td>260019.0</td>\n",
       "      <td>1.828205</td>\n",
       "      <td>0.377203</td>\n",
       "      <td>1.0</td>\n",
       "      <td>2.00000</td>\n",
       "      <td>2.00000</td>\n",
       "      <td>2.00000</td>\n",
       "      <td>2.0</td>\n",
       "    </tr>\n",
       "    <tr>\n",
       "      <td>Code_spe</td>\n",
       "      <td>260019.0</td>\n",
       "      <td>7.999896</td>\n",
       "      <td>4.320490</td>\n",
       "      <td>1.0</td>\n",
       "      <td>4.00000</td>\n",
       "      <td>8.00000</td>\n",
       "      <td>12.00000</td>\n",
       "      <td>15.0</td>\n",
       "    </tr>\n",
       "    <tr>\n",
       "      <td>Prodution_pecul</td>\n",
       "      <td>260019.0</td>\n",
       "      <td>1.774290</td>\n",
       "      <td>0.418050</td>\n",
       "      <td>1.0</td>\n",
       "      <td>2.00000</td>\n",
       "      <td>2.00000</td>\n",
       "      <td>2.00000</td>\n",
       "      <td>2.0</td>\n",
       "    </tr>\n",
       "    <tr>\n",
       "      <td>Dest_principal</td>\n",
       "      <td>58689.0</td>\n",
       "      <td>2.156026</td>\n",
       "      <td>1.626589</td>\n",
       "      <td>1.0</td>\n",
       "      <td>1.00000</td>\n",
       "      <td>1.00000</td>\n",
       "      <td>4.00000</td>\n",
       "      <td>7.0</td>\n",
       "    </tr>\n",
       "    <tr>\n",
       "      <td>implicaion_femme</td>\n",
       "      <td>58688.0</td>\n",
       "      <td>1.136212</td>\n",
       "      <td>0.715129</td>\n",
       "      <td>0.0</td>\n",
       "      <td>1.00000</td>\n",
       "      <td>1.00000</td>\n",
       "      <td>2.00000</td>\n",
       "      <td>2.0</td>\n",
       "    </tr>\n",
       "    <tr>\n",
       "      <td>code_agent</td>\n",
       "      <td>260019.0</td>\n",
       "      <td>39.041858</td>\n",
       "      <td>21.786640</td>\n",
       "      <td>1.0</td>\n",
       "      <td>22.00000</td>\n",
       "      <td>35.00000</td>\n",
       "      <td>56.00000</td>\n",
       "      <td>89.0</td>\n",
       "    </tr>\n",
       "  </tbody>\n",
       "</table>\n",
       "</div>"
      ],
      "text/plain": [
       "                     count        mean        std  min        25%        50%  \\\n",
       "Region            260019.0    4.988832   2.567918  1.0    3.00000    4.00000   \n",
       "Depart            260019.0   27.062153  14.472168  1.0   18.00000   24.00000   \n",
       "Arond             260019.0  173.994289  93.818561  1.0  110.00000  163.00000   \n",
       "Ville             260019.0    3.443818   8.964635  0.0    2.00000    2.00000   \n",
       "Village_quart     260019.0   23.640130  36.077804  0.0    5.00000   12.00000   \n",
       "Longitude         260019.0   10.086845   6.992207  0.0    5.47731   10.53494   \n",
       "Latitude          260019.0    9.582849   6.579964  0.0    5.60172   10.13752   \n",
       "Result_collect    259779.0    1.002610   0.133851  1.0    1.00000    1.00000   \n",
       "Milieu_Red        260019.0    1.828205   0.377203  1.0    2.00000    2.00000   \n",
       "Code_spe          260019.0    7.999896   4.320490  1.0    4.00000    8.00000   \n",
       "Prodution_pecul   260019.0    1.774290   0.418050  1.0    2.00000    2.00000   \n",
       "Dest_principal     58689.0    2.156026   1.626589  1.0    1.00000    1.00000   \n",
       "implicaion_femme   58688.0    1.136212   0.715129  0.0    1.00000    1.00000   \n",
       "code_agent        260019.0   39.041858  21.786640  1.0   22.00000   35.00000   \n",
       "\n",
       "                        75%    max  \n",
       "Region              7.00000   10.0  \n",
       "Depart             38.00000   58.0  \n",
       "Arond             246.00000  360.0  \n",
       "Ville               4.00000  999.0  \n",
       "Village_quart      27.00000  714.0  \n",
       "Longitude          13.55092  522.0  \n",
       "Latitude           12.01432  522.0  \n",
       "Result_collect      1.00000    8.0  \n",
       "Milieu_Red          2.00000    2.0  \n",
       "Code_spe           12.00000   15.0  \n",
       "Prodution_pecul     2.00000    2.0  \n",
       "Dest_principal      4.00000    7.0  \n",
       "implicaion_femme    2.00000    2.0  \n",
       "code_agent         56.00000   89.0  "
      ]
     },
     "execution_count": 974,
     "metadata": {},
     "output_type": "execute_result"
    }
   ],
   "source": [
    "df.describe().T"
   ]
  },
  {
   "cell_type": "code",
   "execution_count": 975,
   "metadata": {
    "colab": {},
    "colab_type": "code",
    "id": "ggGq-pVR37p2"
   },
   "outputs": [
    {
     "data": {
      "text/plain": [
       "Region                   0\n",
       "Depart                   0\n",
       "Arond                    0\n",
       "Ville                    0\n",
       "Village_quart            0\n",
       "Longitude                0\n",
       "Latitude                 0\n",
       "Result_collect         240\n",
       "Milieu_Red               0\n",
       "Code_spe                 0\n",
       "Prodution_pecul          0\n",
       "Dest_principal      201330\n",
       "implicaion_femme    201331\n",
       "code_agent               0\n",
       "dtype: int64"
      ]
     },
     "execution_count": 975,
     "metadata": {},
     "output_type": "execute_result"
    }
   ],
   "source": [
    "df.isna().sum() #Vérification à nouveau, des valeurs manquantes"
   ]
  },
  {
   "cell_type": "markdown",
   "metadata": {},
   "source": [
    "## Suppréssion des colonnes ['Dest_principal','implicaion_femme']"
   ]
  },
  {
   "cell_type": "code",
   "execution_count": 976,
   "metadata": {
    "colab": {},
    "colab_type": "code",
    "id": "szW_TwdY37p8"
   },
   "outputs": [
    {
     "data": {
      "text/plain": [
       "Region               0\n",
       "Depart               0\n",
       "Arond                0\n",
       "Ville                0\n",
       "Village_quart        0\n",
       "Longitude            0\n",
       "Latitude             0\n",
       "Result_collect     240\n",
       "Milieu_Red           0\n",
       "Code_spe             0\n",
       "Prodution_pecul      0\n",
       "code_agent           0\n",
       "dtype: int64"
      ]
     },
     "execution_count": 976,
     "metadata": {},
     "output_type": "execute_result"
    }
   ],
   "source": [
    "data=df.drop(columns=['Dest_principal','implicaion_femme'])\n",
    "data.isna().sum()  # Vérification des valeurs manquantes"
   ]
  },
  {
   "cell_type": "markdown",
   "metadata": {},
   "source": [
    "## Affichage du dataset dont la colonne 'Result_collect' contient uniquement les valeurs manquantes"
   ]
  },
  {
   "cell_type": "code",
   "execution_count": 977,
   "metadata": {
    "colab": {},
    "colab_type": "code",
    "id": "G-gTyhL337qI"
   },
   "outputs": [],
   "source": [
    "X_1=data[data['Result_collect'].isnull()]"
   ]
  },
  {
   "cell_type": "code",
   "execution_count": 978,
   "metadata": {
    "colab": {},
    "colab_type": "code",
    "id": "zYrrtqLz37qV"
   },
   "outputs": [
    {
     "data": {
      "text/html": [
       "<div>\n",
       "<style scoped>\n",
       "    .dataframe tbody tr th:only-of-type {\n",
       "        vertical-align: middle;\n",
       "    }\n",
       "\n",
       "    .dataframe tbody tr th {\n",
       "        vertical-align: top;\n",
       "    }\n",
       "\n",
       "    .dataframe thead th {\n",
       "        text-align: right;\n",
       "    }\n",
       "</style>\n",
       "<table border=\"1\" class=\"dataframe\">\n",
       "  <thead>\n",
       "    <tr style=\"text-align: right;\">\n",
       "      <th></th>\n",
       "      <th>Region</th>\n",
       "      <th>Depart</th>\n",
       "      <th>Arond</th>\n",
       "      <th>Ville</th>\n",
       "      <th>Village_quart</th>\n",
       "      <th>Longitude</th>\n",
       "      <th>Latitude</th>\n",
       "      <th>Result_collect</th>\n",
       "      <th>Milieu_Red</th>\n",
       "      <th>Code_spe</th>\n",
       "      <th>Prodution_pecul</th>\n",
       "      <th>code_agent</th>\n",
       "    </tr>\n",
       "  </thead>\n",
       "  <tbody>\n",
       "    <tr>\n",
       "      <td>27525</td>\n",
       "      <td>2.0</td>\n",
       "      <td>8.0</td>\n",
       "      <td>41.0</td>\n",
       "      <td>2.0</td>\n",
       "      <td>1.0</td>\n",
       "      <td>11.06457</td>\n",
       "      <td>4.408060</td>\n",
       "      <td>NaN</td>\n",
       "      <td>2.0</td>\n",
       "      <td>1.0</td>\n",
       "      <td>2.0</td>\n",
       "      <td>11.0</td>\n",
       "    </tr>\n",
       "    <tr>\n",
       "      <td>27526</td>\n",
       "      <td>2.0</td>\n",
       "      <td>8.0</td>\n",
       "      <td>41.0</td>\n",
       "      <td>2.0</td>\n",
       "      <td>1.0</td>\n",
       "      <td>11.06457</td>\n",
       "      <td>4.408060</td>\n",
       "      <td>NaN</td>\n",
       "      <td>2.0</td>\n",
       "      <td>2.0</td>\n",
       "      <td>2.0</td>\n",
       "      <td>11.0</td>\n",
       "    </tr>\n",
       "    <tr>\n",
       "      <td>27527</td>\n",
       "      <td>2.0</td>\n",
       "      <td>8.0</td>\n",
       "      <td>41.0</td>\n",
       "      <td>2.0</td>\n",
       "      <td>1.0</td>\n",
       "      <td>11.06457</td>\n",
       "      <td>4.408060</td>\n",
       "      <td>NaN</td>\n",
       "      <td>2.0</td>\n",
       "      <td>3.0</td>\n",
       "      <td>2.0</td>\n",
       "      <td>11.0</td>\n",
       "    </tr>\n",
       "    <tr>\n",
       "      <td>27528</td>\n",
       "      <td>2.0</td>\n",
       "      <td>8.0</td>\n",
       "      <td>41.0</td>\n",
       "      <td>2.0</td>\n",
       "      <td>1.0</td>\n",
       "      <td>11.06457</td>\n",
       "      <td>4.408060</td>\n",
       "      <td>NaN</td>\n",
       "      <td>2.0</td>\n",
       "      <td>4.0</td>\n",
       "      <td>2.0</td>\n",
       "      <td>11.0</td>\n",
       "    </tr>\n",
       "    <tr>\n",
       "      <td>27529</td>\n",
       "      <td>2.0</td>\n",
       "      <td>8.0</td>\n",
       "      <td>41.0</td>\n",
       "      <td>2.0</td>\n",
       "      <td>1.0</td>\n",
       "      <td>11.06457</td>\n",
       "      <td>4.408060</td>\n",
       "      <td>NaN</td>\n",
       "      <td>2.0</td>\n",
       "      <td>5.0</td>\n",
       "      <td>1.0</td>\n",
       "      <td>11.0</td>\n",
       "    </tr>\n",
       "    <tr>\n",
       "      <td>...</td>\n",
       "      <td>...</td>\n",
       "      <td>...</td>\n",
       "      <td>...</td>\n",
       "      <td>...</td>\n",
       "      <td>...</td>\n",
       "      <td>...</td>\n",
       "      <td>...</td>\n",
       "      <td>...</td>\n",
       "      <td>...</td>\n",
       "      <td>...</td>\n",
       "      <td>...</td>\n",
       "      <td>...</td>\n",
       "    </tr>\n",
       "    <tr>\n",
       "      <td>257615</td>\n",
       "      <td>10.0</td>\n",
       "      <td>58.0</td>\n",
       "      <td>352.0</td>\n",
       "      <td>3.0</td>\n",
       "      <td>3.0</td>\n",
       "      <td>9.04432</td>\n",
       "      <td>4.290573</td>\n",
       "      <td>NaN</td>\n",
       "      <td>2.0</td>\n",
       "      <td>11.0</td>\n",
       "      <td>2.0</td>\n",
       "      <td>73.0</td>\n",
       "    </tr>\n",
       "    <tr>\n",
       "      <td>257616</td>\n",
       "      <td>10.0</td>\n",
       "      <td>58.0</td>\n",
       "      <td>352.0</td>\n",
       "      <td>3.0</td>\n",
       "      <td>3.0</td>\n",
       "      <td>9.04432</td>\n",
       "      <td>4.290573</td>\n",
       "      <td>NaN</td>\n",
       "      <td>2.0</td>\n",
       "      <td>12.0</td>\n",
       "      <td>2.0</td>\n",
       "      <td>73.0</td>\n",
       "    </tr>\n",
       "    <tr>\n",
       "      <td>257617</td>\n",
       "      <td>10.0</td>\n",
       "      <td>58.0</td>\n",
       "      <td>352.0</td>\n",
       "      <td>3.0</td>\n",
       "      <td>3.0</td>\n",
       "      <td>9.04432</td>\n",
       "      <td>4.290573</td>\n",
       "      <td>NaN</td>\n",
       "      <td>2.0</td>\n",
       "      <td>13.0</td>\n",
       "      <td>2.0</td>\n",
       "      <td>73.0</td>\n",
       "    </tr>\n",
       "    <tr>\n",
       "      <td>257618</td>\n",
       "      <td>10.0</td>\n",
       "      <td>58.0</td>\n",
       "      <td>352.0</td>\n",
       "      <td>3.0</td>\n",
       "      <td>3.0</td>\n",
       "      <td>9.04432</td>\n",
       "      <td>4.290573</td>\n",
       "      <td>NaN</td>\n",
       "      <td>2.0</td>\n",
       "      <td>14.0</td>\n",
       "      <td>2.0</td>\n",
       "      <td>73.0</td>\n",
       "    </tr>\n",
       "    <tr>\n",
       "      <td>257619</td>\n",
       "      <td>10.0</td>\n",
       "      <td>58.0</td>\n",
       "      <td>352.0</td>\n",
       "      <td>3.0</td>\n",
       "      <td>3.0</td>\n",
       "      <td>9.04432</td>\n",
       "      <td>4.290573</td>\n",
       "      <td>NaN</td>\n",
       "      <td>2.0</td>\n",
       "      <td>15.0</td>\n",
       "      <td>2.0</td>\n",
       "      <td>73.0</td>\n",
       "    </tr>\n",
       "  </tbody>\n",
       "</table>\n",
       "<p>240 rows × 12 columns</p>\n",
       "</div>"
      ],
      "text/plain": [
       "        Region  Depart  Arond  Ville  Village_quart  Longitude  Latitude  \\\n",
       "27525      2.0     8.0   41.0    2.0            1.0   11.06457  4.408060   \n",
       "27526      2.0     8.0   41.0    2.0            1.0   11.06457  4.408060   \n",
       "27527      2.0     8.0   41.0    2.0            1.0   11.06457  4.408060   \n",
       "27528      2.0     8.0   41.0    2.0            1.0   11.06457  4.408060   \n",
       "27529      2.0     8.0   41.0    2.0            1.0   11.06457  4.408060   \n",
       "...        ...     ...    ...    ...            ...        ...       ...   \n",
       "257615    10.0    58.0  352.0    3.0            3.0    9.04432  4.290573   \n",
       "257616    10.0    58.0  352.0    3.0            3.0    9.04432  4.290573   \n",
       "257617    10.0    58.0  352.0    3.0            3.0    9.04432  4.290573   \n",
       "257618    10.0    58.0  352.0    3.0            3.0    9.04432  4.290573   \n",
       "257619    10.0    58.0  352.0    3.0            3.0    9.04432  4.290573   \n",
       "\n",
       "        Result_collect  Milieu_Red  Code_spe  Prodution_pecul  code_agent  \n",
       "27525              NaN         2.0       1.0              2.0        11.0  \n",
       "27526              NaN         2.0       2.0              2.0        11.0  \n",
       "27527              NaN         2.0       3.0              2.0        11.0  \n",
       "27528              NaN         2.0       4.0              2.0        11.0  \n",
       "27529              NaN         2.0       5.0              1.0        11.0  \n",
       "...                ...         ...       ...              ...         ...  \n",
       "257615             NaN         2.0      11.0              2.0        73.0  \n",
       "257616             NaN         2.0      12.0              2.0        73.0  \n",
       "257617             NaN         2.0      13.0              2.0        73.0  \n",
       "257618             NaN         2.0      14.0              2.0        73.0  \n",
       "257619             NaN         2.0      15.0              2.0        73.0  \n",
       "\n",
       "[240 rows x 12 columns]"
      ]
     },
     "execution_count": 978,
     "metadata": {},
     "output_type": "execute_result"
    }
   ],
   "source": [
    "X_1"
   ]
  },
  {
   "cell_type": "markdown",
   "metadata": {},
   "source": [
    "# First model"
   ]
  },
  {
   "cell_type": "markdown",
   "metadata": {},
   "source": [
    "## Affichage du dataset ayant aucune valeur manquante"
   ]
  },
  {
   "cell_type": "code",
   "execution_count": 979,
   "metadata": {
    "colab": {},
    "colab_type": "code",
    "id": "Pjh9KRIX37qp"
   },
   "outputs": [],
   "source": [
    "data_1=data.dropna(subset=['Result_collect'])"
   ]
  },
  {
   "cell_type": "markdown",
   "metadata": {},
   "source": [
    "#### Dimension"
   ]
  },
  {
   "cell_type": "code",
   "execution_count": 980,
   "metadata": {
    "colab": {},
    "colab_type": "code",
    "id": "31ncfdvB37q1"
   },
   "outputs": [
    {
     "data": {
      "text/plain": [
       "(259779, 12)"
      ]
     },
     "execution_count": 980,
     "metadata": {},
     "output_type": "execute_result"
    }
   ],
   "source": [
    "data_1.shape"
   ]
  },
  {
   "cell_type": "markdown",
   "metadata": {},
   "source": [
    "#### Vérification des valeurs manquantes"
   ]
  },
  {
   "cell_type": "code",
   "execution_count": 981,
   "metadata": {
    "colab": {},
    "colab_type": "code",
    "id": "hT4V8eNr37rC"
   },
   "outputs": [
    {
     "data": {
      "text/plain": [
       "Region             0\n",
       "Depart             0\n",
       "Arond              0\n",
       "Ville              0\n",
       "Village_quart      0\n",
       "Longitude          0\n",
       "Latitude           0\n",
       "Result_collect     0\n",
       "Milieu_Red         0\n",
       "Code_spe           0\n",
       "Prodution_pecul    0\n",
       "code_agent         0\n",
       "dtype: int64"
      ]
     },
     "execution_count": 981,
     "metadata": {},
     "output_type": "execute_result"
    }
   ],
   "source": [
    "data_1.isna().sum()"
   ]
  },
  {
   "cell_type": "markdown",
   "metadata": {},
   "source": [
    "# Echantillonage, Séparation en Features et Target"
   ]
  },
  {
   "cell_type": "markdown",
   "metadata": {},
   "source": [
    "### Features"
   ]
  },
  {
   "cell_type": "code",
   "execution_count": 1030,
   "metadata": {
    "colab": {},
    "colab_type": "code",
    "id": "6vEY0ApC37rI"
   },
   "outputs": [],
   "source": [
    "X=data_1.drop(columns=['Result_collect']).astype('int32')"
   ]
  },
  {
   "cell_type": "markdown",
   "metadata": {},
   "source": [
    "### Target"
   ]
  },
  {
   "cell_type": "code",
   "execution_count": 1031,
   "metadata": {
    "colab": {},
    "colab_type": "code",
    "id": "JiQ8Y2fW37rU"
   },
   "outputs": [],
   "source": [
    "y=data1[['Result_collect']].astype('int32')"
   ]
  },
  {
   "cell_type": "markdown",
   "metadata": {},
   "source": [
    "# Splitting de notre échantillon en train et test"
   ]
  },
  {
   "cell_type": "code",
   "execution_count": 1032,
   "metadata": {
    "colab": {},
    "colab_type": "code",
    "id": "u7SDWx2o37rb"
   },
   "outputs": [],
   "source": [
    "from sklearn.model_selection import train_test_split\n",
    "X_train, X_test, y_train, y_test = train_test_split(X, y, test_size=0.3, random_state=123)"
   ]
  },
  {
   "cell_type": "markdown",
   "metadata": {},
   "source": [
    "### Dimensions des training et testing sets"
   ]
  },
  {
   "cell_type": "code",
   "execution_count": 1033,
   "metadata": {},
   "outputs": [
    {
     "data": {
      "text/plain": [
       "((181845, 11), (77934, 11), (181845, 1), (77934, 1))"
      ]
     },
     "execution_count": 1033,
     "metadata": {},
     "output_type": "execute_result"
    }
   ],
   "source": [
    "X_train.shape, X_test.shape, y_train.shape, y_test.shape"
   ]
  },
  {
   "cell_type": "markdown",
   "metadata": {},
   "source": [
    "# Structure du Réseau de Neurone"
   ]
  },
  {
   "cell_type": "code",
   "execution_count": 1037,
   "metadata": {
    "colab": {},
    "colab_type": "code",
    "id": "iMstVCbv37sO"
   },
   "outputs": [],
   "source": [
    "model = Sequential()\n",
    "model.add(Dense(29, input_dim=11, activation='relu'))\n",
    "model.add(Dense(19, activation='relu'))\n",
    "model.add(Dense(1, activation='softmax'))"
   ]
  },
  {
   "cell_type": "code",
   "execution_count": 1038,
   "metadata": {},
   "outputs": [],
   "source": [
    "model.compile(loss='binary_crossentropy', optimizer='adam', metrics=['accuracy'])"
   ]
  },
  {
   "cell_type": "markdown",
   "metadata": {},
   "source": [
    "### Entrainement du modèle"
   ]
  },
  {
   "cell_type": "code",
   "execution_count": 1039,
   "metadata": {},
   "outputs": [
    {
     "name": "stdout",
     "output_type": "stream",
     "text": [
      "Epoch 1/5\n",
      "181845/181845 [==============================] - 1s 5us/step - loss: -0.0351 - accuracy: 0.9997\n",
      "Epoch 2/5\n",
      "181845/181845 [==============================] - 1s 5us/step - loss: -0.0351 - accuracy: 0.9997\n",
      "Epoch 3/5\n",
      "181845/181845 [==============================] - 1s 5us/step - loss: -0.0351 - accuracy: 0.9997\n",
      "Epoch 4/5\n",
      "181845/181845 [==============================] - 1s 5us/step - loss: -0.0351 - accuracy: 0.9997\n",
      "Epoch 5/5\n",
      "181845/181845 [==============================] - 1s 5us/step - loss: -0.0351 - accuracy: 0.9997\n",
      "\n",
      "Temps passé à entraîner le modèle pour 5 epochs : 5.049 secondes\n"
     ]
    }
   ],
   "source": [
    "start_time = time.time()\n",
    "model.fit(X_train, y_train, epochs=5, batch_size=256, verbose = 1)\n",
    "temps_exec = time.time() - start_time\n",
    "print(\"\\nTemps passé à entraîner le modèle pour 5 epochs : %.3f secondes\" % temps_exec)"
   ]
  },
  {
   "cell_type": "markdown",
   "metadata": {},
   "source": [
    "### Prédiction"
   ]
  },
  {
   "cell_type": "code",
   "execution_count": 1040,
   "metadata": {},
   "outputs": [],
   "source": [
    "y_pred=pd.DataFrame(model.predict(X_test))"
   ]
  },
  {
   "cell_type": "markdown",
   "metadata": {},
   "source": [
    "## Vérification de la performance du modèle"
   ]
  },
  {
   "cell_type": "code",
   "execution_count": 1041,
   "metadata": {},
   "outputs": [
    {
     "name": "stdout",
     "output_type": "stream",
     "text": [
      "77934/77934 [==============================] - 0s 3us/step\n",
      "Le taux de réussite est de : 99.95%\n"
     ]
    }
   ],
   "source": [
    "scores = model.evaluate(X_test, y_test, batch_size = 256, verbose = 1)\n",
    "print(\"Le taux de réussite est de : %.2f%%\" % (scores[1] * 100))"
   ]
  },
  {
   "cell_type": "code",
   "execution_count": null,
   "metadata": {},
   "outputs": [],
   "source": []
  },
  {
   "cell_type": "markdown",
   "metadata": {},
   "source": [
    "# Second model"
   ]
  },
  {
   "cell_type": "markdown",
   "metadata": {},
   "source": [
    "### Remplacement des valeurs manquantes de la colonne 'Result_collect' par ses valeurs predictes"
   ]
  },
  {
   "cell_type": "code",
   "execution_count": 1042,
   "metadata": {},
   "outputs": [
    {
     "data": {
      "text/html": [
       "<div>\n",
       "<style scoped>\n",
       "    .dataframe tbody tr th:only-of-type {\n",
       "        vertical-align: middle;\n",
       "    }\n",
       "\n",
       "    .dataframe tbody tr th {\n",
       "        vertical-align: top;\n",
       "    }\n",
       "\n",
       "    .dataframe thead th {\n",
       "        text-align: right;\n",
       "    }\n",
       "</style>\n",
       "<table border=\"1\" class=\"dataframe\">\n",
       "  <thead>\n",
       "    <tr style=\"text-align: right;\">\n",
       "      <th></th>\n",
       "      <th>Result_collect</th>\n",
       "    </tr>\n",
       "  </thead>\n",
       "  <tbody>\n",
       "    <tr>\n",
       "      <td>0</td>\n",
       "      <td>1.0</td>\n",
       "    </tr>\n",
       "    <tr>\n",
       "      <td>1</td>\n",
       "      <td>1.0</td>\n",
       "    </tr>\n",
       "    <tr>\n",
       "      <td>2</td>\n",
       "      <td>1.0</td>\n",
       "    </tr>\n",
       "    <tr>\n",
       "      <td>3</td>\n",
       "      <td>1.0</td>\n",
       "    </tr>\n",
       "    <tr>\n",
       "      <td>4</td>\n",
       "      <td>1.0</td>\n",
       "    </tr>\n",
       "    <tr>\n",
       "      <td>...</td>\n",
       "      <td>...</td>\n",
       "    </tr>\n",
       "    <tr>\n",
       "      <td>260015</td>\n",
       "      <td>1.0</td>\n",
       "    </tr>\n",
       "    <tr>\n",
       "      <td>260016</td>\n",
       "      <td>1.0</td>\n",
       "    </tr>\n",
       "    <tr>\n",
       "      <td>260017</td>\n",
       "      <td>1.0</td>\n",
       "    </tr>\n",
       "    <tr>\n",
       "      <td>260018</td>\n",
       "      <td>1.0</td>\n",
       "    </tr>\n",
       "    <tr>\n",
       "      <td>260019</td>\n",
       "      <td>1.0</td>\n",
       "    </tr>\n",
       "  </tbody>\n",
       "</table>\n",
       "<p>260019 rows × 1 columns</p>\n",
       "</div>"
      ],
      "text/plain": [
       "        Result_collect\n",
       "0                  1.0\n",
       "1                  1.0\n",
       "2                  1.0\n",
       "3                  1.0\n",
       "4                  1.0\n",
       "...                ...\n",
       "260015             1.0\n",
       "260016             1.0\n",
       "260017             1.0\n",
       "260018             1.0\n",
       "260019             1.0\n",
       "\n",
       "[260019 rows x 1 columns]"
      ]
     },
     "execution_count": 1042,
     "metadata": {},
     "output_type": "execute_result"
    }
   ],
   "source": [
    "df[['Result_collect']].fillna(y_pred.mode())"
   ]
  },
  {
   "cell_type": "markdown",
   "metadata": {},
   "source": [
    "### Suppréssion de la colonne 'Result_collect' dans le dataset 'df' du depart"
   ]
  },
  {
   "cell_type": "code",
   "execution_count": 1043,
   "metadata": {},
   "outputs": [],
   "source": [
    "df_11=df.drop(columns=['Result_collect'])"
   ]
  },
  {
   "cell_type": "markdown",
   "metadata": {},
   "source": [
    "### Concaténation de la colonne 'Result_collect' sans valeurs manquantes avec 'df_11' puis création d'un nouveau dataset 'df_1'"
   ]
  },
  {
   "cell_type": "code",
   "execution_count": 1044,
   "metadata": {},
   "outputs": [],
   "source": [
    "df_1=pd.concat([df_11, df[['Result_collect']].fillna(1)],axis = 1)"
   ]
  },
  {
   "cell_type": "code",
   "execution_count": 1045,
   "metadata": {},
   "outputs": [
    {
     "data": {
      "text/html": [
       "<div>\n",
       "<style scoped>\n",
       "    .dataframe tbody tr th:only-of-type {\n",
       "        vertical-align: middle;\n",
       "    }\n",
       "\n",
       "    .dataframe tbody tr th {\n",
       "        vertical-align: top;\n",
       "    }\n",
       "\n",
       "    .dataframe thead th {\n",
       "        text-align: right;\n",
       "    }\n",
       "</style>\n",
       "<table border=\"1\" class=\"dataframe\">\n",
       "  <thead>\n",
       "    <tr style=\"text-align: right;\">\n",
       "      <th></th>\n",
       "      <th>Region</th>\n",
       "      <th>Depart</th>\n",
       "      <th>Arond</th>\n",
       "      <th>Ville</th>\n",
       "      <th>Village_quart</th>\n",
       "      <th>Longitude</th>\n",
       "      <th>Latitude</th>\n",
       "      <th>Milieu_Red</th>\n",
       "      <th>Code_spe</th>\n",
       "      <th>Prodution_pecul</th>\n",
       "      <th>Dest_principal</th>\n",
       "      <th>implicaion_femme</th>\n",
       "      <th>code_agent</th>\n",
       "      <th>Result_collect</th>\n",
       "    </tr>\n",
       "  </thead>\n",
       "  <tbody>\n",
       "    <tr>\n",
       "      <td>0</td>\n",
       "      <td>1.0</td>\n",
       "      <td>1.0</td>\n",
       "      <td>1.0</td>\n",
       "      <td>1.0</td>\n",
       "      <td>1.0</td>\n",
       "      <td>13.27014</td>\n",
       "      <td>6.46195</td>\n",
       "      <td>1.0</td>\n",
       "      <td>1.0</td>\n",
       "      <td>2.0</td>\n",
       "      <td>NaN</td>\n",
       "      <td>NaN</td>\n",
       "      <td>4.0</td>\n",
       "      <td>1.0</td>\n",
       "    </tr>\n",
       "    <tr>\n",
       "      <td>1</td>\n",
       "      <td>1.0</td>\n",
       "      <td>1.0</td>\n",
       "      <td>1.0</td>\n",
       "      <td>1.0</td>\n",
       "      <td>1.0</td>\n",
       "      <td>13.27014</td>\n",
       "      <td>6.46195</td>\n",
       "      <td>1.0</td>\n",
       "      <td>2.0</td>\n",
       "      <td>2.0</td>\n",
       "      <td>NaN</td>\n",
       "      <td>NaN</td>\n",
       "      <td>4.0</td>\n",
       "      <td>1.0</td>\n",
       "    </tr>\n",
       "    <tr>\n",
       "      <td>2</td>\n",
       "      <td>1.0</td>\n",
       "      <td>1.0</td>\n",
       "      <td>1.0</td>\n",
       "      <td>1.0</td>\n",
       "      <td>1.0</td>\n",
       "      <td>13.27014</td>\n",
       "      <td>6.46195</td>\n",
       "      <td>1.0</td>\n",
       "      <td>3.0</td>\n",
       "      <td>2.0</td>\n",
       "      <td>NaN</td>\n",
       "      <td>NaN</td>\n",
       "      <td>4.0</td>\n",
       "      <td>1.0</td>\n",
       "    </tr>\n",
       "    <tr>\n",
       "      <td>3</td>\n",
       "      <td>1.0</td>\n",
       "      <td>1.0</td>\n",
       "      <td>1.0</td>\n",
       "      <td>1.0</td>\n",
       "      <td>1.0</td>\n",
       "      <td>13.27014</td>\n",
       "      <td>6.46195</td>\n",
       "      <td>1.0</td>\n",
       "      <td>4.0</td>\n",
       "      <td>1.0</td>\n",
       "      <td>2.0</td>\n",
       "      <td>1.0</td>\n",
       "      <td>4.0</td>\n",
       "      <td>1.0</td>\n",
       "    </tr>\n",
       "    <tr>\n",
       "      <td>4</td>\n",
       "      <td>1.0</td>\n",
       "      <td>1.0</td>\n",
       "      <td>1.0</td>\n",
       "      <td>1.0</td>\n",
       "      <td>1.0</td>\n",
       "      <td>13.27014</td>\n",
       "      <td>6.46195</td>\n",
       "      <td>1.0</td>\n",
       "      <td>5.0</td>\n",
       "      <td>1.0</td>\n",
       "      <td>1.0</td>\n",
       "      <td>1.0</td>\n",
       "      <td>4.0</td>\n",
       "      <td>1.0</td>\n",
       "    </tr>\n",
       "  </tbody>\n",
       "</table>\n",
       "</div>"
      ],
      "text/plain": [
       "   Region  Depart  Arond  Ville  Village_quart  Longitude  Latitude  \\\n",
       "0     1.0     1.0    1.0    1.0            1.0   13.27014   6.46195   \n",
       "1     1.0     1.0    1.0    1.0            1.0   13.27014   6.46195   \n",
       "2     1.0     1.0    1.0    1.0            1.0   13.27014   6.46195   \n",
       "3     1.0     1.0    1.0    1.0            1.0   13.27014   6.46195   \n",
       "4     1.0     1.0    1.0    1.0            1.0   13.27014   6.46195   \n",
       "\n",
       "   Milieu_Red  Code_spe  Prodution_pecul  Dest_principal  implicaion_femme  \\\n",
       "0         1.0       1.0              2.0             NaN               NaN   \n",
       "1         1.0       2.0              2.0             NaN               NaN   \n",
       "2         1.0       3.0              2.0             NaN               NaN   \n",
       "3         1.0       4.0              1.0             2.0               1.0   \n",
       "4         1.0       5.0              1.0             1.0               1.0   \n",
       "\n",
       "   code_agent  Result_collect  \n",
       "0         4.0             1.0  \n",
       "1         4.0             1.0  \n",
       "2         4.0             1.0  \n",
       "3         4.0             1.0  \n",
       "4         4.0             1.0  "
      ]
     },
     "execution_count": 1045,
     "metadata": {},
     "output_type": "execute_result"
    }
   ],
   "source": [
    "df_1.head()"
   ]
  },
  {
   "cell_type": "markdown",
   "metadata": {},
   "source": [
    "## Vérification des valeurs manquantes dans 'df_1'"
   ]
  },
  {
   "cell_type": "code",
   "execution_count": 1046,
   "metadata": {},
   "outputs": [
    {
     "data": {
      "text/plain": [
       "Region                   0\n",
       "Depart                   0\n",
       "Arond                    0\n",
       "Ville                    0\n",
       "Village_quart            0\n",
       "Longitude                0\n",
       "Latitude                 0\n",
       "Milieu_Red               0\n",
       "Code_spe                 0\n",
       "Prodution_pecul          0\n",
       "Dest_principal      201330\n",
       "implicaion_femme    201331\n",
       "code_agent               0\n",
       "Result_collect           0\n",
       "dtype: int64"
      ]
     },
     "execution_count": 1046,
     "metadata": {},
     "output_type": "execute_result"
    }
   ],
   "source": [
    "df_1.isnull().sum()"
   ]
  },
  {
   "cell_type": "markdown",
   "metadata": {},
   "source": [
    "### Dimension de 'df_1'"
   ]
  },
  {
   "cell_type": "code",
   "execution_count": 1047,
   "metadata": {},
   "outputs": [
    {
     "data": {
      "text/plain": [
       "(260019, 14)"
      ]
     },
     "execution_count": 1047,
     "metadata": {},
     "output_type": "execute_result"
    }
   ],
   "source": [
    "df_1.shape"
   ]
  },
  {
   "cell_type": "markdown",
   "metadata": {},
   "source": [
    "### Copie de 'df_1'"
   ]
  },
  {
   "cell_type": "code",
   "execution_count": 1048,
   "metadata": {},
   "outputs": [],
   "source": [
    "df_f=df_1.copy"
   ]
  },
  {
   "cell_type": "markdown",
   "metadata": {},
   "source": [
    "### Suppréssion de la colonne 'implicaion_femme'"
   ]
  },
  {
   "cell_type": "code",
   "execution_count": 1049,
   "metadata": {},
   "outputs": [],
   "source": [
    "dataa=df_1.drop(columns=['implicaion_femme'])"
   ]
  },
  {
   "cell_type": "markdown",
   "metadata": {},
   "source": [
    "## Affichage du dataset dont la colonne 'Dest_principal' contient uniquement les valeurs manquantes"
   ]
  },
  {
   "cell_type": "code",
   "execution_count": 1050,
   "metadata": {},
   "outputs": [],
   "source": [
    "X_2=dataa[dataa['Dest_principal'].isnull()]"
   ]
  },
  {
   "cell_type": "markdown",
   "metadata": {},
   "source": [
    "## Affichage du dataset ayant aucune valeur manquante"
   ]
  },
  {
   "cell_type": "code",
   "execution_count": 1051,
   "metadata": {},
   "outputs": [],
   "source": [
    "data_2=dataa.dropna(subset=['Dest_principal'])"
   ]
  },
  {
   "cell_type": "markdown",
   "metadata": {},
   "source": [
    "#### Dimension"
   ]
  },
  {
   "cell_type": "code",
   "execution_count": 1052,
   "metadata": {},
   "outputs": [
    {
     "data": {
      "text/plain": [
       "(58689, 13)"
      ]
     },
     "execution_count": 1052,
     "metadata": {},
     "output_type": "execute_result"
    }
   ],
   "source": [
    "data_2.shape"
   ]
  },
  {
   "cell_type": "markdown",
   "metadata": {},
   "source": [
    "#### Vérification des valeurs manquantes"
   ]
  },
  {
   "cell_type": "code",
   "execution_count": 1053,
   "metadata": {},
   "outputs": [
    {
     "data": {
      "text/plain": [
       "Region             0\n",
       "Depart             0\n",
       "Arond              0\n",
       "Ville              0\n",
       "Village_quart      0\n",
       "Longitude          0\n",
       "Latitude           0\n",
       "Milieu_Red         0\n",
       "Code_spe           0\n",
       "Prodution_pecul    0\n",
       "Dest_principal     0\n",
       "code_agent         0\n",
       "Result_collect     0\n",
       "dtype: int64"
      ]
     },
     "execution_count": 1053,
     "metadata": {},
     "output_type": "execute_result"
    }
   ],
   "source": [
    "data_2.isna().sum()"
   ]
  },
  {
   "cell_type": "markdown",
   "metadata": {},
   "source": [
    "## Echantillonage, Séparation en Features et en target"
   ]
  },
  {
   "cell_type": "markdown",
   "metadata": {},
   "source": [
    "### Features"
   ]
  },
  {
   "cell_type": "code",
   "execution_count": 1054,
   "metadata": {},
   "outputs": [],
   "source": [
    "X=data_2.drop(columns=['Dest_principal']).astype('int32')"
   ]
  },
  {
   "cell_type": "markdown",
   "metadata": {},
   "source": [
    "### Target"
   ]
  },
  {
   "cell_type": "code",
   "execution_count": 1055,
   "metadata": {},
   "outputs": [],
   "source": [
    "y=data_2[['Dest_principal']].astype('int32')"
   ]
  },
  {
   "cell_type": "markdown",
   "metadata": {},
   "source": [
    "## Splitting de l'echantillon, en train et test sets"
   ]
  },
  {
   "cell_type": "code",
   "execution_count": 1056,
   "metadata": {},
   "outputs": [],
   "source": [
    "from sklearn.model_selection import train_test_split\n",
    "X_train, X_test, y_train, y_test = train_test_split(X, y, test_size=0.3, random_state=123)"
   ]
  },
  {
   "cell_type": "markdown",
   "metadata": {},
   "source": [
    "#### Dimension de nos training et testing sets"
   ]
  },
  {
   "cell_type": "code",
   "execution_count": 1057,
   "metadata": {},
   "outputs": [
    {
     "data": {
      "text/plain": [
       "((41082, 12), (17607, 12), (41082, 1), (17607, 1))"
      ]
     },
     "execution_count": 1057,
     "metadata": {},
     "output_type": "execute_result"
    }
   ],
   "source": [
    "X_train.shape, X_test.shape, y_train.shape, y_test.shape"
   ]
  },
  {
   "cell_type": "markdown",
   "metadata": {},
   "source": [
    "## Structure du reseau de neurone"
   ]
  },
  {
   "cell_type": "code",
   "execution_count": 1063,
   "metadata": {},
   "outputs": [],
   "source": [
    "model = Sequential()\n",
    "model.add(Dense(29, input_dim=12, activation='relu'))\n",
    "model.add(Dense(19, activation='relu'))\n",
    "model.add(Dense(1, activation='softmax'))"
   ]
  },
  {
   "cell_type": "code",
   "execution_count": 1064,
   "metadata": {},
   "outputs": [],
   "source": [
    "model.compile(loss='binary_crossentropy', optimizer='adam', metrics=['accuracy'])"
   ]
  },
  {
   "cell_type": "markdown",
   "metadata": {},
   "source": [
    "### Entrainement du modèle"
   ]
  },
  {
   "cell_type": "code",
   "execution_count": 1065,
   "metadata": {},
   "outputs": [
    {
     "name": "stdout",
     "output_type": "stream",
     "text": [
      "Epoch 1/5\n",
      "41082/41082 [==============================] - 0s 7us/step - loss: -17.7365 - accuracy: 0.6061\n",
      "Epoch 2/5\n",
      "41082/41082 [==============================] - 0s 5us/step - loss: -17.7365 - accuracy: 0.6061\n",
      "Epoch 3/5\n",
      "41082/41082 [==============================] - 0s 5us/step - loss: -17.7365 - accuracy: 0.6061\n",
      "Epoch 4/5\n",
      "41082/41082 [==============================] - 0s 5us/step - loss: -17.7365 - accuracy: 0.6061\n",
      "Epoch 5/5\n",
      "41082/41082 [==============================] - 0s 5us/step - loss: -17.7365 - accuracy: 0.6061\n",
      "\n",
      "Temps passé à entraîner le modèle pour 5 epochs : 1.531 secondes\n"
     ]
    }
   ],
   "source": [
    "start_time = time.time()\n",
    "model.fit(X_train, y_train, epochs=5, batch_size=256, verbose = 1)\n",
    "temps_exec = time.time() - start_time\n",
    "print(\"\\nTemps passé à entraîner le modèle pour 5 epochs : %.3f secondes\" % temps_exec)"
   ]
  },
  {
   "cell_type": "markdown",
   "metadata": {},
   "source": [
    "### Prédiction"
   ]
  },
  {
   "cell_type": "code",
   "execution_count": 1066,
   "metadata": {},
   "outputs": [],
   "source": [
    "y_pred=pd.DataFrame(model.predict(X_test))"
   ]
  },
  {
   "cell_type": "markdown",
   "metadata": {},
   "source": [
    "## Performance du modèle"
   ]
  },
  {
   "cell_type": "code",
   "execution_count": 1067,
   "metadata": {},
   "outputs": [
    {
     "name": "stdout",
     "output_type": "stream",
     "text": [
      "17607/17607 [==============================] - 0s 4us/step\n",
      "Le taux de réussite est de : 60.71%\n"
     ]
    }
   ],
   "source": [
    "scores = model.evaluate(X_test, y_test, batch_size = 256, verbose = 1)\n",
    "print(\"Le taux de réussite est de : %.2f%%\" % (scores[1] * 100))"
   ]
  },
  {
   "cell_type": "code",
   "execution_count": null,
   "metadata": {},
   "outputs": [],
   "source": []
  },
  {
   "cell_type": "markdown",
   "metadata": {},
   "source": [
    "# Third model"
   ]
  },
  {
   "cell_type": "markdown",
   "metadata": {},
   "source": [
    "### Remplacement des valeurs manquantes de la colonne 'Dest_principal' par ses valeurs predictes"
   ]
  },
  {
   "cell_type": "code",
   "execution_count": 1068,
   "metadata": {},
   "outputs": [
    {
     "data": {
      "text/html": [
       "<div>\n",
       "<style scoped>\n",
       "    .dataframe tbody tr th:only-of-type {\n",
       "        vertical-align: middle;\n",
       "    }\n",
       "\n",
       "    .dataframe tbody tr th {\n",
       "        vertical-align: top;\n",
       "    }\n",
       "\n",
       "    .dataframe thead th {\n",
       "        text-align: right;\n",
       "    }\n",
       "</style>\n",
       "<table border=\"1\" class=\"dataframe\">\n",
       "  <thead>\n",
       "    <tr style=\"text-align: right;\">\n",
       "      <th></th>\n",
       "      <th>0</th>\n",
       "    </tr>\n",
       "  </thead>\n",
       "  <tbody>\n",
       "    <tr>\n",
       "      <td>0</td>\n",
       "      <td>1.0</td>\n",
       "    </tr>\n",
       "  </tbody>\n",
       "</table>\n",
       "</div>"
      ],
      "text/plain": [
       "     0\n",
       "0  1.0"
      ]
     },
     "execution_count": 1068,
     "metadata": {},
     "output_type": "execute_result"
    }
   ],
   "source": [
    "y_pred.mode()"
   ]
  },
  {
   "cell_type": "code",
   "execution_count": 1069,
   "metadata": {},
   "outputs": [
    {
     "data": {
      "text/html": [
       "<div>\n",
       "<style scoped>\n",
       "    .dataframe tbody tr th:only-of-type {\n",
       "        vertical-align: middle;\n",
       "    }\n",
       "\n",
       "    .dataframe tbody tr th {\n",
       "        vertical-align: top;\n",
       "    }\n",
       "\n",
       "    .dataframe thead th {\n",
       "        text-align: right;\n",
       "    }\n",
       "</style>\n",
       "<table border=\"1\" class=\"dataframe\">\n",
       "  <thead>\n",
       "    <tr style=\"text-align: right;\">\n",
       "      <th></th>\n",
       "      <th>Dest_principal</th>\n",
       "    </tr>\n",
       "  </thead>\n",
       "  <tbody>\n",
       "    <tr>\n",
       "      <td>0</td>\n",
       "      <td>1.0</td>\n",
       "    </tr>\n",
       "    <tr>\n",
       "      <td>1</td>\n",
       "      <td>1.0</td>\n",
       "    </tr>\n",
       "    <tr>\n",
       "      <td>2</td>\n",
       "      <td>1.0</td>\n",
       "    </tr>\n",
       "    <tr>\n",
       "      <td>3</td>\n",
       "      <td>2.0</td>\n",
       "    </tr>\n",
       "    <tr>\n",
       "      <td>4</td>\n",
       "      <td>1.0</td>\n",
       "    </tr>\n",
       "    <tr>\n",
       "      <td>...</td>\n",
       "      <td>...</td>\n",
       "    </tr>\n",
       "    <tr>\n",
       "      <td>260015</td>\n",
       "      <td>1.0</td>\n",
       "    </tr>\n",
       "    <tr>\n",
       "      <td>260016</td>\n",
       "      <td>1.0</td>\n",
       "    </tr>\n",
       "    <tr>\n",
       "      <td>260017</td>\n",
       "      <td>1.0</td>\n",
       "    </tr>\n",
       "    <tr>\n",
       "      <td>260018</td>\n",
       "      <td>4.0</td>\n",
       "    </tr>\n",
       "    <tr>\n",
       "      <td>260019</td>\n",
       "      <td>1.0</td>\n",
       "    </tr>\n",
       "  </tbody>\n",
       "</table>\n",
       "<p>260019 rows × 1 columns</p>\n",
       "</div>"
      ],
      "text/plain": [
       "        Dest_principal\n",
       "0                  1.0\n",
       "1                  1.0\n",
       "2                  1.0\n",
       "3                  2.0\n",
       "4                  1.0\n",
       "...                ...\n",
       "260015             1.0\n",
       "260016             1.0\n",
       "260017             1.0\n",
       "260018             4.0\n",
       "260019             1.0\n",
       "\n",
       "[260019 rows x 1 columns]"
      ]
     },
     "execution_count": 1069,
     "metadata": {},
     "output_type": "execute_result"
    }
   ],
   "source": [
    "df_1[['Dest_principal']].fillna(1)"
   ]
  },
  {
   "cell_type": "markdown",
   "metadata": {},
   "source": [
    "### Suppréssion de la colonne 'Dest_principal' dans le dataset 'df_1'"
   ]
  },
  {
   "cell_type": "code",
   "execution_count": 1070,
   "metadata": {},
   "outputs": [],
   "source": [
    "df_111=df_1.drop(columns=['Dest_principal'])"
   ]
  },
  {
   "cell_type": "markdown",
   "metadata": {},
   "source": [
    "### Concaténation de la colonne 'Dest_principal' sans valeurs manquantes avec 'df_111' puis création d'un nouveau dataset 'df_2'"
   ]
  },
  {
   "cell_type": "code",
   "execution_count": 1071,
   "metadata": {},
   "outputs": [],
   "source": [
    "df_2=pd.concat([df_111, df_1[['Dest_principal']].fillna(1)],axis = 1)"
   ]
  },
  {
   "cell_type": "code",
   "execution_count": 1072,
   "metadata": {},
   "outputs": [
    {
     "data": {
      "text/html": [
       "<div>\n",
       "<style scoped>\n",
       "    .dataframe tbody tr th:only-of-type {\n",
       "        vertical-align: middle;\n",
       "    }\n",
       "\n",
       "    .dataframe tbody tr th {\n",
       "        vertical-align: top;\n",
       "    }\n",
       "\n",
       "    .dataframe thead th {\n",
       "        text-align: right;\n",
       "    }\n",
       "</style>\n",
       "<table border=\"1\" class=\"dataframe\">\n",
       "  <thead>\n",
       "    <tr style=\"text-align: right;\">\n",
       "      <th></th>\n",
       "      <th>Region</th>\n",
       "      <th>Depart</th>\n",
       "      <th>Arond</th>\n",
       "      <th>Ville</th>\n",
       "      <th>Village_quart</th>\n",
       "      <th>Longitude</th>\n",
       "      <th>Latitude</th>\n",
       "      <th>Milieu_Red</th>\n",
       "      <th>Code_spe</th>\n",
       "      <th>Prodution_pecul</th>\n",
       "      <th>implicaion_femme</th>\n",
       "      <th>code_agent</th>\n",
       "      <th>Result_collect</th>\n",
       "      <th>Dest_principal</th>\n",
       "    </tr>\n",
       "  </thead>\n",
       "  <tbody>\n",
       "    <tr>\n",
       "      <td>0</td>\n",
       "      <td>1.0</td>\n",
       "      <td>1.0</td>\n",
       "      <td>1.0</td>\n",
       "      <td>1.0</td>\n",
       "      <td>1.0</td>\n",
       "      <td>13.27014</td>\n",
       "      <td>6.46195</td>\n",
       "      <td>1.0</td>\n",
       "      <td>1.0</td>\n",
       "      <td>2.0</td>\n",
       "      <td>NaN</td>\n",
       "      <td>4.0</td>\n",
       "      <td>1.0</td>\n",
       "      <td>1.0</td>\n",
       "    </tr>\n",
       "    <tr>\n",
       "      <td>1</td>\n",
       "      <td>1.0</td>\n",
       "      <td>1.0</td>\n",
       "      <td>1.0</td>\n",
       "      <td>1.0</td>\n",
       "      <td>1.0</td>\n",
       "      <td>13.27014</td>\n",
       "      <td>6.46195</td>\n",
       "      <td>1.0</td>\n",
       "      <td>2.0</td>\n",
       "      <td>2.0</td>\n",
       "      <td>NaN</td>\n",
       "      <td>4.0</td>\n",
       "      <td>1.0</td>\n",
       "      <td>1.0</td>\n",
       "    </tr>\n",
       "    <tr>\n",
       "      <td>2</td>\n",
       "      <td>1.0</td>\n",
       "      <td>1.0</td>\n",
       "      <td>1.0</td>\n",
       "      <td>1.0</td>\n",
       "      <td>1.0</td>\n",
       "      <td>13.27014</td>\n",
       "      <td>6.46195</td>\n",
       "      <td>1.0</td>\n",
       "      <td>3.0</td>\n",
       "      <td>2.0</td>\n",
       "      <td>NaN</td>\n",
       "      <td>4.0</td>\n",
       "      <td>1.0</td>\n",
       "      <td>1.0</td>\n",
       "    </tr>\n",
       "    <tr>\n",
       "      <td>3</td>\n",
       "      <td>1.0</td>\n",
       "      <td>1.0</td>\n",
       "      <td>1.0</td>\n",
       "      <td>1.0</td>\n",
       "      <td>1.0</td>\n",
       "      <td>13.27014</td>\n",
       "      <td>6.46195</td>\n",
       "      <td>1.0</td>\n",
       "      <td>4.0</td>\n",
       "      <td>1.0</td>\n",
       "      <td>1.0</td>\n",
       "      <td>4.0</td>\n",
       "      <td>1.0</td>\n",
       "      <td>2.0</td>\n",
       "    </tr>\n",
       "    <tr>\n",
       "      <td>4</td>\n",
       "      <td>1.0</td>\n",
       "      <td>1.0</td>\n",
       "      <td>1.0</td>\n",
       "      <td>1.0</td>\n",
       "      <td>1.0</td>\n",
       "      <td>13.27014</td>\n",
       "      <td>6.46195</td>\n",
       "      <td>1.0</td>\n",
       "      <td>5.0</td>\n",
       "      <td>1.0</td>\n",
       "      <td>1.0</td>\n",
       "      <td>4.0</td>\n",
       "      <td>1.0</td>\n",
       "      <td>1.0</td>\n",
       "    </tr>\n",
       "  </tbody>\n",
       "</table>\n",
       "</div>"
      ],
      "text/plain": [
       "   Region  Depart  Arond  Ville  Village_quart  Longitude  Latitude  \\\n",
       "0     1.0     1.0    1.0    1.0            1.0   13.27014   6.46195   \n",
       "1     1.0     1.0    1.0    1.0            1.0   13.27014   6.46195   \n",
       "2     1.0     1.0    1.0    1.0            1.0   13.27014   6.46195   \n",
       "3     1.0     1.0    1.0    1.0            1.0   13.27014   6.46195   \n",
       "4     1.0     1.0    1.0    1.0            1.0   13.27014   6.46195   \n",
       "\n",
       "   Milieu_Red  Code_spe  Prodution_pecul  implicaion_femme  code_agent  \\\n",
       "0         1.0       1.0              2.0               NaN         4.0   \n",
       "1         1.0       2.0              2.0               NaN         4.0   \n",
       "2         1.0       3.0              2.0               NaN         4.0   \n",
       "3         1.0       4.0              1.0               1.0         4.0   \n",
       "4         1.0       5.0              1.0               1.0         4.0   \n",
       "\n",
       "   Result_collect  Dest_principal  \n",
       "0             1.0             1.0  \n",
       "1             1.0             1.0  \n",
       "2             1.0             1.0  \n",
       "3             1.0             2.0  \n",
       "4             1.0             1.0  "
      ]
     },
     "execution_count": 1072,
     "metadata": {},
     "output_type": "execute_result"
    }
   ],
   "source": [
    "df_2.head()"
   ]
  },
  {
   "cell_type": "markdown",
   "metadata": {},
   "source": [
    "### Vérification des valeurs manquantes dans 'df2'"
   ]
  },
  {
   "cell_type": "code",
   "execution_count": 1073,
   "metadata": {},
   "outputs": [
    {
     "data": {
      "text/plain": [
       "Region                   0\n",
       "Depart                   0\n",
       "Arond                    0\n",
       "Ville                    0\n",
       "Village_quart            0\n",
       "Longitude                0\n",
       "Latitude                 0\n",
       "Milieu_Red               0\n",
       "Code_spe                 0\n",
       "Prodution_pecul          0\n",
       "implicaion_femme    201331\n",
       "code_agent               0\n",
       "Result_collect           0\n",
       "Dest_principal           0\n",
       "dtype: int64"
      ]
     },
     "execution_count": 1073,
     "metadata": {},
     "output_type": "execute_result"
    }
   ],
   "source": [
    "df_2.isnull().sum()"
   ]
  },
  {
   "cell_type": "markdown",
   "metadata": {},
   "source": [
    "### Copie de df_2"
   ]
  },
  {
   "cell_type": "code",
   "execution_count": 1074,
   "metadata": {},
   "outputs": [],
   "source": [
    "df_ff=df_2.copy"
   ]
  },
  {
   "cell_type": "markdown",
   "metadata": {},
   "source": [
    "## Affichage du dataset dont la colonne 'implicaion_femme' contient uniquement les valeurs manquantes"
   ]
  },
  {
   "cell_type": "code",
   "execution_count": 1075,
   "metadata": {},
   "outputs": [],
   "source": [
    "X_3=df_2[df_2['implicaion_femme'].isnull()]"
   ]
  },
  {
   "cell_type": "markdown",
   "metadata": {},
   "source": [
    "## Affichage du dataset ayant aucune valeur manquante"
   ]
  },
  {
   "cell_type": "code",
   "execution_count": 1076,
   "metadata": {},
   "outputs": [],
   "source": [
    "data_3=df_2.dropna(subset=['implicaion_femme']) "
   ]
  },
  {
   "cell_type": "markdown",
   "metadata": {},
   "source": [
    "## Echantillonage, Séparation en Features et en target"
   ]
  },
  {
   "cell_type": "markdown",
   "metadata": {},
   "source": [
    "### Features"
   ]
  },
  {
   "cell_type": "code",
   "execution_count": 1077,
   "metadata": {},
   "outputs": [],
   "source": [
    "X=data_3.drop(columns=['implicaion_femme']).astype('int32')"
   ]
  },
  {
   "cell_type": "markdown",
   "metadata": {},
   "source": [
    "### Target"
   ]
  },
  {
   "cell_type": "code",
   "execution_count": 1078,
   "metadata": {},
   "outputs": [],
   "source": [
    "y=data_3[['implicaion_femme']].astype('int32')"
   ]
  },
  {
   "cell_type": "markdown",
   "metadata": {},
   "source": [
    "## Splitting de l'echantillon, en train et test sets"
   ]
  },
  {
   "cell_type": "code",
   "execution_count": 1079,
   "metadata": {},
   "outputs": [],
   "source": [
    "from sklearn.model_selection import train_test_split\n",
    "X_train, X_test, y_train, y_test = train_test_split(X, y, test_size=0.3, random_state=123)"
   ]
  },
  {
   "cell_type": "markdown",
   "metadata": {},
   "source": [
    "#### Dimension de nos training et testing sets"
   ]
  },
  {
   "cell_type": "code",
   "execution_count": 1080,
   "metadata": {},
   "outputs": [
    {
     "data": {
      "text/plain": [
       "((41081, 13), (17607, 13), (41081, 1), (17607, 1))"
      ]
     },
     "execution_count": 1080,
     "metadata": {},
     "output_type": "execute_result"
    }
   ],
   "source": [
    "X_train.shape, X_test.shape, y_train.shape, y_test.shape"
   ]
  },
  {
   "cell_type": "markdown",
   "metadata": {},
   "source": [
    "## Structure du réseau de neurone"
   ]
  },
  {
   "cell_type": "code",
   "execution_count": 1085,
   "metadata": {},
   "outputs": [],
   "source": [
    "model = Sequential()\n",
    "model.add(Dense(29, input_dim=13, activation='relu'))\n",
    "model.add(Dense(19, activation='relu'))\n",
    "model.add(Dense(1, activation='softmax'))"
   ]
  },
  {
   "cell_type": "code",
   "execution_count": 1086,
   "metadata": {},
   "outputs": [],
   "source": [
    "model.compile(loss='binary_crossentropy', optimizer='adam', metrics=['accuracy'])"
   ]
  },
  {
   "cell_type": "markdown",
   "metadata": {},
   "source": [
    "## Entrainement du modèle"
   ]
  },
  {
   "cell_type": "code",
   "execution_count": 1087,
   "metadata": {},
   "outputs": [
    {
     "name": "stdout",
     "output_type": "stream",
     "text": [
      "Epoch 1/5\n",
      "41081/41081 [==============================] - 0s 8us/step - loss: -2.1002 - accuracy: 0.4709\n",
      "Epoch 2/5\n",
      "41081/41081 [==============================] - 0s 5us/step - loss: -2.1002 - accuracy: 0.4709\n",
      "Epoch 3/5\n",
      "41081/41081 [==============================] - 0s 6us/step - loss: -2.1002 - accuracy: 0.4709\n",
      "Epoch 4/5\n",
      "41081/41081 [==============================] - 0s 6us/step - loss: -2.1002 - accuracy: 0.4709\n",
      "Epoch 5/5\n",
      "41081/41081 [==============================] - 0s 5us/step - loss: -2.1002 - accuracy: 0.4709\n",
      "\n",
      "Temps passé à entraîner le modèle pour 5 epochs : 2.268 secondes\n"
     ]
    }
   ],
   "source": [
    "start_time = time.time()\n",
    "model.fit(X_train, y_train, epochs=5, batch_size=256, verbose = 1)\n",
    "temps_exec = time.time() - start_time\n",
    "print(\"\\nTemps passé à entraîner le modèle pour 5 epochs : %.3f secondes\" % temps_exec)"
   ]
  },
  {
   "cell_type": "markdown",
   "metadata": {},
   "source": [
    "### Prédiction"
   ]
  },
  {
   "cell_type": "code",
   "execution_count": 1088,
   "metadata": {},
   "outputs": [],
   "source": [
    "y_pred=pd.DataFrame(model.predict(X_test))"
   ]
  },
  {
   "cell_type": "markdown",
   "metadata": {},
   "source": [
    "## Performance du modèle"
   ]
  },
  {
   "cell_type": "code",
   "execution_count": 1089,
   "metadata": {},
   "outputs": [
    {
     "name": "stdout",
     "output_type": "stream",
     "text": [
      "17607/17607 [==============================] - 0s 4us/step\n",
      "Le taux de réussite est de : 46.81%\n"
     ]
    }
   ],
   "source": [
    "scores = model.evaluate(X_test, y_test, batch_size = 256, verbose = 1)\n",
    "print(\"Le taux de réussite est de : %.2f%%\" % (scores[1] * 100))"
   ]
  },
  {
   "cell_type": "code",
   "execution_count": null,
   "metadata": {},
   "outputs": [],
   "source": []
  },
  {
   "cell_type": "markdown",
   "metadata": {},
   "source": [
    "$$\\Huge{\\textbf{FIN}}$$"
   ]
  },
  {
   "cell_type": "code",
   "execution_count": null,
   "metadata": {},
   "outputs": [],
   "source": []
  }
 ],
 "metadata": {
  "colab": {
   "name": "Ass Deep Learning.ipynb",
   "provenance": []
  },
  "kernelspec": {
   "display_name": "Python 3",
   "language": "python",
   "name": "python3"
  },
  "language_info": {
   "codemirror_mode": {
    "name": "ipython",
    "version": 3
   },
   "file_extension": ".py",
   "mimetype": "text/x-python",
   "name": "python",
   "nbconvert_exporter": "python",
   "pygments_lexer": "ipython3",
   "version": "3.7.3"
  }
 },
 "nbformat": 4,
 "nbformat_minor": 1
}
