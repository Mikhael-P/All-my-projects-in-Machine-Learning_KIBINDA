{
 "cells": [
  {
   "cell_type": "markdown",
   "metadata": {},
   "source": [
    "## Feature Selection: Forward and Backward Feature Elimination"
   ]
  },
  {
   "cell_type": "markdown",
   "metadata": {},
   "source": [
    "In this notebook, we will go through implementing Wrapper Models for feature Selection. We will work on a  Linear Regression problem."
   ]
  },
  {
   "cell_type": "code",
   "execution_count": null,
   "metadata": {},
   "outputs": [],
   "source": [
    "#### import packages\n",
    "import numpy as np\n",
    "import pandas as pd\n",
    "import matplotlib.pyplot as plt\n",
    "from sklearn.linear_model import LinearRegression\n",
    "from sklearn.preprocessing import StandardScaler, normalize\n",
    "from sklearn.model_selection import cross_val_score, train_test_split, KFold \n",
    "from sklearn.metrics import mean_squared_error"
   ]
  },
  {
   "cell_type": "markdown",
   "metadata": {},
   "source": [
    "### 1- Data "
   ]
  },
  {
   "cell_type": "code",
   "execution_count": 150,
   "metadata": {
    "scrolled": true
   },
   "outputs": [
    {
     "data": {
      "text/html": [
       "<div>\n",
       "<style scoped>\n",
       "    .dataframe tbody tr th:only-of-type {\n",
       "        vertical-align: middle;\n",
       "    }\n",
       "\n",
       "    .dataframe tbody tr th {\n",
       "        vertical-align: top;\n",
       "    }\n",
       "\n",
       "    .dataframe thead th {\n",
       "        text-align: right;\n",
       "    }\n",
       "</style>\n",
       "<table border=\"1\" class=\"dataframe\">\n",
       "  <thead>\n",
       "    <tr style=\"text-align: right;\">\n",
       "      <th></th>\n",
       "      <th>avgAnnCount</th>\n",
       "      <th>avgDeathsPerYear</th>\n",
       "      <th>TARGET_deathRate</th>\n",
       "      <th>incidenceRate</th>\n",
       "      <th>medIncome</th>\n",
       "      <th>popEst2015</th>\n",
       "      <th>povertyPercent</th>\n",
       "      <th>studyPerCap</th>\n",
       "      <th>MedianAge</th>\n",
       "      <th>MedianAgeMale</th>\n",
       "      <th>...</th>\n",
       "      <th>PctMarriedHouseholds-8</th>\n",
       "      <th>PctMarriedHouseholds-9</th>\n",
       "      <th>BirthRate-2</th>\n",
       "      <th>BirthRate-3</th>\n",
       "      <th>BirthRate-4</th>\n",
       "      <th>BirthRate-5</th>\n",
       "      <th>BirthRate-6</th>\n",
       "      <th>BirthRate-7</th>\n",
       "      <th>BirthRate-8</th>\n",
       "      <th>BirthRate-9</th>\n",
       "    </tr>\n",
       "  </thead>\n",
       "  <tbody>\n",
       "    <tr>\n",
       "      <th>0</th>\n",
       "      <td>1397.0</td>\n",
       "      <td>469</td>\n",
       "      <td>164.9</td>\n",
       "      <td>489.8</td>\n",
       "      <td>61898</td>\n",
       "      <td>260131</td>\n",
       "      <td>11.2</td>\n",
       "      <td>499.748204</td>\n",
       "      <td>39.3</td>\n",
       "      <td>36.9</td>\n",
       "      <td>...</td>\n",
       "      <td>6.091992e+13</td>\n",
       "      <td>3.219988e+15</td>\n",
       "      <td>37.440093</td>\n",
       "      <td>229.089604</td>\n",
       "      <td>1401.760576</td>\n",
       "      <td>8577.136107</td>\n",
       "      <td>52482.046553</td>\n",
       "      <td>321128.774915</td>\n",
       "      <td>1.964933e+06</td>\n",
       "      <td>1.202309e+07</td>\n",
       "    </tr>\n",
       "    <tr>\n",
       "      <th>1</th>\n",
       "      <td>173.0</td>\n",
       "      <td>70</td>\n",
       "      <td>161.3</td>\n",
       "      <td>411.6</td>\n",
       "      <td>48127</td>\n",
       "      <td>43269</td>\n",
       "      <td>18.6</td>\n",
       "      <td>23.111234</td>\n",
       "      <td>33.0</td>\n",
       "      <td>32.2</td>\n",
       "      <td>...</td>\n",
       "      <td>1.796146e+13</td>\n",
       "      <td>8.149565e+14</td>\n",
       "      <td>18.775717</td>\n",
       "      <td>81.356978</td>\n",
       "      <td>352.527560</td>\n",
       "      <td>1527.535610</td>\n",
       "      <td>6618.957797</td>\n",
       "      <td>28680.576760</td>\n",
       "      <td>1.242757e+05</td>\n",
       "      <td>5.384984e+05</td>\n",
       "    </tr>\n",
       "    <tr>\n",
       "      <th>2</th>\n",
       "      <td>102.0</td>\n",
       "      <td>50</td>\n",
       "      <td>174.7</td>\n",
       "      <td>349.7</td>\n",
       "      <td>49348</td>\n",
       "      <td>21026</td>\n",
       "      <td>14.6</td>\n",
       "      <td>47.560164</td>\n",
       "      <td>45.0</td>\n",
       "      <td>44.0</td>\n",
       "      <td>...</td>\n",
       "      <td>7.720681e+13</td>\n",
       "      <td>4.203515e+15</td>\n",
       "      <td>13.909079</td>\n",
       "      <td>51.873742</td>\n",
       "      <td>193.462489</td>\n",
       "      <td>721.515996</td>\n",
       "      <td>2690.885118</td>\n",
       "      <td>10035.623263</td>\n",
       "      <td>3.742773e+04</td>\n",
       "      <td>1.395863e+05</td>\n",
       "    </tr>\n",
       "    <tr>\n",
       "      <th>3</th>\n",
       "      <td>427.0</td>\n",
       "      <td>202</td>\n",
       "      <td>194.8</td>\n",
       "      <td>430.4</td>\n",
       "      <td>44243</td>\n",
       "      <td>75882</td>\n",
       "      <td>17.1</td>\n",
       "      <td>342.637253</td>\n",
       "      <td>42.8</td>\n",
       "      <td>42.2</td>\n",
       "      <td>...</td>\n",
       "      <td>4.592263e+13</td>\n",
       "      <td>2.343042e+15</td>\n",
       "      <td>21.195350</td>\n",
       "      <td>97.580016</td>\n",
       "      <td>449.242856</td>\n",
       "      <td>2068.242577</td>\n",
       "      <td>9521.859503</td>\n",
       "      <td>43837.125013</td>\n",
       "      <td>2.018191e+05</td>\n",
       "      <td>9.291432e+05</td>\n",
       "    </tr>\n",
       "    <tr>\n",
       "      <th>4</th>\n",
       "      <td>57.0</td>\n",
       "      <td>26</td>\n",
       "      <td>144.4</td>\n",
       "      <td>350.1</td>\n",
       "      <td>49955</td>\n",
       "      <td>10321</td>\n",
       "      <td>12.5</td>\n",
       "      <td>0.000000</td>\n",
       "      <td>48.3</td>\n",
       "      <td>47.8</td>\n",
       "      <td>...</td>\n",
       "      <td>7.259662e+13</td>\n",
       "      <td>3.922211e+15</td>\n",
       "      <td>46.194552</td>\n",
       "      <td>313.968540</td>\n",
       "      <td>2133.936595</td>\n",
       "      <td>14503.635908</td>\n",
       "      <td>98576.244063</td>\n",
       "      <td>669988.956897</td>\n",
       "      <td>4.553685e+06</td>\n",
       "      <td>3.094984e+07</td>\n",
       "    </tr>\n",
       "  </tbody>\n",
       "</table>\n",
       "<p>5 rows × 280 columns</p>\n",
       "</div>"
      ],
      "text/plain": [
       "   avgAnnCount  avgDeathsPerYear  TARGET_deathRate  incidenceRate  medIncome  \\\n",
       "0       1397.0               469             164.9          489.8      61898   \n",
       "1        173.0                70             161.3          411.6      48127   \n",
       "2        102.0                50             174.7          349.7      49348   \n",
       "3        427.0               202             194.8          430.4      44243   \n",
       "4         57.0                26             144.4          350.1      49955   \n",
       "\n",
       "   popEst2015  povertyPercent  studyPerCap  MedianAge  MedianAgeMale  ...  \\\n",
       "0      260131            11.2   499.748204       39.3           36.9  ...   \n",
       "1       43269            18.6    23.111234       33.0           32.2  ...   \n",
       "2       21026            14.6    47.560164       45.0           44.0  ...   \n",
       "3       75882            17.1   342.637253       42.8           42.2  ...   \n",
       "4       10321            12.5     0.000000       48.3           47.8  ...   \n",
       "\n",
       "   PctMarriedHouseholds-8  PctMarriedHouseholds-9  BirthRate-2  BirthRate-3  \\\n",
       "0            6.091992e+13            3.219988e+15    37.440093   229.089604   \n",
       "1            1.796146e+13            8.149565e+14    18.775717    81.356978   \n",
       "2            7.720681e+13            4.203515e+15    13.909079    51.873742   \n",
       "3            4.592263e+13            2.343042e+15    21.195350    97.580016   \n",
       "4            7.259662e+13            3.922211e+15    46.194552   313.968540   \n",
       "\n",
       "   BirthRate-4   BirthRate-5   BirthRate-6    BirthRate-7   BirthRate-8  \\\n",
       "0  1401.760576   8577.136107  52482.046553  321128.774915  1.964933e+06   \n",
       "1   352.527560   1527.535610   6618.957797   28680.576760  1.242757e+05   \n",
       "2   193.462489    721.515996   2690.885118   10035.623263  3.742773e+04   \n",
       "3   449.242856   2068.242577   9521.859503   43837.125013  2.018191e+05   \n",
       "4  2133.936595  14503.635908  98576.244063  669988.956897  4.553685e+06   \n",
       "\n",
       "    BirthRate-9  \n",
       "0  1.202309e+07  \n",
       "1  5.384984e+05  \n",
       "2  1.395863e+05  \n",
       "3  9.291432e+05  \n",
       "4  3.094984e+07  \n",
       "\n",
       "[5 rows x 280 columns]"
      ]
     },
     "execution_count": 150,
     "metadata": {},
     "output_type": "execute_result"
    }
   ],
   "source": [
    "data = pd.read_csv('cancer-mortality-rate.csv', index_col=0)\n",
    "data.head()"
   ]
  },
  {
   "cell_type": "code",
   "execution_count": 151,
   "metadata": {},
   "outputs": [
    {
     "data": {
      "text/plain": [
       "(3047, 280)"
      ]
     },
     "execution_count": 151,
     "metadata": {},
     "output_type": "execute_result"
    }
   ],
   "source": [
    "data.shape"
   ]
  },
  {
   "cell_type": "code",
   "execution_count": 152,
   "metadata": {},
   "outputs": [],
   "source": [
    "# cl = data.columns\n",
    "# for i in cl:\n",
    "#     if data[i].isna().sum()!=0:\n",
    "#         print(\"la colonne {} a {} nan values\".format(i,data[i].isna().sum()))"
   ]
  },
  {
   "cell_type": "markdown",
   "metadata": {},
   "source": [
    "### 2- Data Preprocessing"
   ]
  },
  {
   "cell_type": "code",
   "execution_count": 153,
   "metadata": {},
   "outputs": [
    {
     "name": "stdout",
     "output_type": "stream",
     "text": [
      "Col: PctSomeCol18_24, Number of nan value: 2285\n",
      "Col: PctEmployed16_Over, Number of nan value: 152\n",
      "Col: PctPrivateCoverageAlone, Number of nan value: 609\n",
      "Col: PctSomeCol18_24-2, Number of nan value: 2285\n",
      "Col: PctSomeCol18_24-3, Number of nan value: 2285\n",
      "Col: PctSomeCol18_24-4, Number of nan value: 2285\n",
      "Col: PctSomeCol18_24-5, Number of nan value: 2285\n",
      "Col: PctSomeCol18_24-6, Number of nan value: 2285\n",
      "Col: PctSomeCol18_24-7, Number of nan value: 2285\n",
      "Col: PctSomeCol18_24-8, Number of nan value: 2285\n",
      "Col: PctSomeCol18_24-9, Number of nan value: 2285\n",
      "Col: PctEmployed16_Over-2, Number of nan value: 152\n",
      "Col: PctEmployed16_Over-3, Number of nan value: 152\n",
      "Col: PctEmployed16_Over-4, Number of nan value: 152\n",
      "Col: PctEmployed16_Over-5, Number of nan value: 152\n",
      "Col: PctEmployed16_Over-6, Number of nan value: 152\n",
      "Col: PctEmployed16_Over-7, Number of nan value: 152\n",
      "Col: PctEmployed16_Over-8, Number of nan value: 152\n",
      "Col: PctEmployed16_Over-9, Number of nan value: 152\n",
      "Col: PctPrivateCoverageAlone-2, Number of nan value: 609\n",
      "Col: PctPrivateCoverageAlone-3, Number of nan value: 609\n",
      "Col: PctPrivateCoverageAlone-4, Number of nan value: 609\n",
      "Col: PctPrivateCoverageAlone-5, Number of nan value: 609\n",
      "Col: PctPrivateCoverageAlone-6, Number of nan value: 609\n",
      "Col: PctPrivateCoverageAlone-7, Number of nan value: 609\n",
      "Col: PctPrivateCoverageAlone-8, Number of nan value: 609\n",
      "Col: PctPrivateCoverageAlone-9, Number of nan value: 609\n"
     ]
    }
   ],
   "source": [
    "#Check Nan values\n",
    "for col in data.columns:\n",
    "    if data[col].isna().sum()!=0:\n",
    "        print(f\"Col: {col}, Number of nan value: {data[col].isna().sum()}\")"
   ]
  },
  {
   "cell_type": "code",
   "execution_count": 154,
   "metadata": {},
   "outputs": [
    {
     "name": "stderr",
     "output_type": "stream",
     "text": [
      "<ipython-input-154-c566dc43fe4c>:3: SettingWithCopyWarning: \n",
      "A value is trying to be set on a copy of a slice from a DataFrame\n",
      "\n",
      "See the caveats in the documentation: https://pandas.pydata.org/pandas-docs/stable/user_guide/indexing.html#returning-a-view-versus-a-copy\n",
      "  data[col][data[col].isna()] = data[col].mean()\n"
     ]
    }
   ],
   "source": [
    "for col in data.columns:\n",
    "    if data[col].isna().sum()!=0:\n",
    "        data[col][data[col].isna()] = data[col].mean()"
   ]
  },
  {
   "cell_type": "code",
   "execution_count": 155,
   "metadata": {},
   "outputs": [],
   "source": [
    "y = data['TARGET_deathRate']\n",
    "X = data.drop(columns=['TARGET_deathRate'])\n",
    "normalized_X = (X - X.mean()) / X.std()\n",
    "\n",
    "X_train, X_test, Y_train, Y_test = train_test_split(normalized_X, y, test_size = .2, random_state=123)"
   ]
  },
  {
   "cell_type": "markdown",
   "metadata": {},
   "source": [
    "### 3- Fit a LR model on all features"
   ]
  },
  {
   "cell_type": "code",
   "execution_count": 156,
   "metadata": {},
   "outputs": [
    {
     "name": "stdout",
     "output_type": "stream",
     "text": [
      "RMSE:  112255.8675650906\n"
     ]
    }
   ],
   "source": [
    "lr = LinearRegression()\n",
    "lr.fit(X_train, Y_train)\n",
    "y_pred = lr.predict(X_test)\n",
    "print('RMSE: ', np.sqrt(mean_squared_error(y_pred, Y_test)))"
   ]
  },
  {
   "cell_type": "code",
   "execution_count": 157,
   "metadata": {},
   "outputs": [
    {
     "name": "stdout",
     "output_type": "stream",
     "text": [
      "KFold(n_splits=5, random_state=42, shuffle=False)\n"
     ]
    },
    {
     "name": "stderr",
     "output_type": "stream",
     "text": [
      "/opt/anaconda3/lib/python3.8/site-packages/sklearn/model_selection/_split.py:293: FutureWarning: Setting a random_state has no effect since shuffle is False. This will raise an error in 0.24. You should leave random_state to its default (None), or set shuffle=True.\n",
      "  warnings.warn(\n"
     ]
    }
   ],
   "source": [
    "kf = KFold(n_splits=5, random_state= 42)\n",
    "print(kf)  \n",
    "\n",
    "# KFold training helper function\n",
    "def KFold_train(model, X, Y, kf):\n",
    "    scores = []\n",
    "    for train_index, val_index in kf.split(X): #we split the train to KFold cross validate\n",
    "        x_train, x_val = X[train_index], X[val_index]\n",
    "        y_train, y_val = Y[train_index], Y[val_index]\n",
    "        model.fit(x_train, y_train)\n",
    "        pred_y = model.predict(x_val)\n",
    "        scores.append(mean_squared_error(y_val, pred_y)**.5)\n",
    "    \n",
    "    return np.mean(np.array(scores))"
   ]
  },
  {
   "cell_type": "markdown",
   "metadata": {},
   "source": [
    "### Feature selection greedy methods"
   ]
  },
  {
   "cell_type": "code",
   "execution_count": 158,
   "metadata": {},
   "outputs": [
    {
     "data": {
      "text/plain": [
       "((2437, 279), (610, 279), (2437,), (610,))"
      ]
     },
     "execution_count": 158,
     "metadata": {},
     "output_type": "execute_result"
    }
   ],
   "source": [
    "X_train.shape, X_test.shape, Y_train.shape, Y_test.shape"
   ]
  },
  {
   "cell_type": "code",
   "execution_count": null,
   "metadata": {},
   "outputs": [],
   "source": []
  },
  {
   "cell_type": "markdown",
   "metadata": {},
   "source": [
    "## 4 -  Forward Search\n",
    "<img src='forward.png'>"
   ]
  },
  {
   "cell_type": "code",
   "execution_count": 159,
   "metadata": {
    "scrolled": false
   },
   "outputs": [],
   "source": [
    "def forward_search(model, K, X, Y):\n",
    "    \n",
    "    rmse_losses = []\n",
    "    best_losses = []\n",
    "    set_features = []\n",
    "    all_scores = []\n",
    "    \n",
    "    ### get all the features of the data\n",
    "    features =  list(X.columns)\n",
    "    i = 1 # this index handles the case of one feature where reshaping is needed (do not care about it)\n",
    "    while len(set_features) <= K:\n",
    "        rmse_losses = []\n",
    "\n",
    "        for feature in features:\n",
    "\n",
    "            # Extract X with the subset of features\n",
    "            new_feature = [feature] + set_features\n",
    "\n",
    "            # Extract X with the subset of new features\n",
    "            new_data = X[new_feature].values\n",
    "            \n",
    "            #split the new_data in train and validation(test_size = 20%)\n",
    "            x_train, x_val, y_train, y_val = train_test_split(new_data, Y.values, test_size = 0.2, random_state =123)\n",
    "\n",
    "            if i == 1:\n",
    "                x_train = x_train.reshape(-1, 1)\n",
    "                x_val = x_val.reshape(-1, 1)\n",
    "\n",
    "            #Cross validation using the KFold_train function\n",
    "            scores= KFold_train(model, x_train, y_train, kf)\n",
    "            \n",
    "            # Fit the model on the training set\n",
    "            model.fit(x_train,y_train) ## Replace with your code\n",
    "            \n",
    "            #Make Prediction on the validation set\n",
    "            ypred = model.predict(x_val) \n",
    "\n",
    "            #Calculate the RMSE on the validation set\n",
    "            rmse_loss = np.sqrt(mean_squared_error(ypred, y_val))\n",
    "\n",
    "            rmse_losses.append(rmse_loss)\n",
    "        \n",
    "        i += 1\n",
    "        #select feature that give the best RMSE\n",
    "        present_best_feature = features[np.argmin(rmse_losses)]# None\n",
    "        \n",
    "        #remove that present best feature from the initial set of input features, we will not include it again\n",
    "        features.remove(features[np.argmin(rmse_losses)]) ### replace with your code### #del features[np.argmin(rmse_losses)]\n",
    "        \n",
    "        \n",
    "        #add the present best feature to set_features\n",
    "        set_features.append(present_best_feature) ### replace with your code###\n",
    "        \n",
    "        all_scores.append(np.mean(scores))\n",
    "        best_losses.append(np.min(rmse_losses))\n",
    "        print('K=',len(set_features),':',set_features, ' || RMSE: ', np.min(rmse_losses) )\n",
    "    return set_features,all_scores,best_losses"
   ]
  },
  {
   "cell_type": "code",
   "execution_count": null,
   "metadata": {},
   "outputs": [],
   "source": []
  },
  {
   "cell_type": "code",
   "execution_count": 160,
   "metadata": {
    "scrolled": true
   },
   "outputs": [
    {
     "name": "stdout",
     "output_type": "stream",
     "text": [
      "K= 1 : ['PctBachDeg25_Over']  || RMSE:  22.662049885228207\n",
      "K= 2 : ['PctBachDeg25_Over', 'incidenceRate']  || RMSE:  19.953431283868007\n",
      "K= 3 : ['PctBachDeg25_Over', 'incidenceRate', 'povertyPercent-2']  || RMSE:  19.039811170721464\n",
      "K= 4 : ['PctBachDeg25_Over', 'incidenceRate', 'povertyPercent-2', 'PercentMarried-8']  || RMSE:  18.798883392570474\n",
      "K= 5 : ['PctBachDeg25_Over', 'incidenceRate', 'povertyPercent-2', 'PercentMarried-8', 'PctHS25_Over']  || RMSE:  18.57963992023238\n",
      "K= 6 : ['PctBachDeg25_Over', 'incidenceRate', 'povertyPercent-2', 'PercentMarried-8', 'PctHS25_Over', 'PctSomeCol18_24-9']  || RMSE:  18.331880650948897\n",
      "K= 7 : ['PctBachDeg25_Over', 'incidenceRate', 'povertyPercent-2', 'PercentMarried-8', 'PctHS25_Over', 'PctSomeCol18_24-9', 'MedianAgeFemale-5']  || RMSE:  18.256059364321825\n",
      "K= 8 : ['PctBachDeg25_Over', 'incidenceRate', 'povertyPercent-2', 'PercentMarried-8', 'PctHS25_Over', 'PctSomeCol18_24-9', 'MedianAgeFemale-5', 'PctOtherRace']  || RMSE:  18.141961180195473\n",
      "K= 9 : ['PctBachDeg25_Over', 'incidenceRate', 'povertyPercent-2', 'PercentMarried-8', 'PctHS25_Over', 'PctSomeCol18_24-9', 'MedianAgeFemale-5', 'PctOtherRace', 'PctOtherRace-2']  || RMSE:  18.0456324772012\n",
      "K= 10 : ['PctBachDeg25_Over', 'incidenceRate', 'povertyPercent-2', 'PercentMarried-8', 'PctHS25_Over', 'PctSomeCol18_24-9', 'MedianAgeFemale-5', 'PctOtherRace', 'PctOtherRace-2', 'PctWhite-7']  || RMSE:  17.96432459812644\n",
      "K= 11 : ['PctBachDeg25_Over', 'incidenceRate', 'povertyPercent-2', 'PercentMarried-8', 'PctHS25_Over', 'PctSomeCol18_24-9', 'MedianAgeFemale-5', 'PctOtherRace', 'PctOtherRace-2', 'PctWhite-7', 'BirthRate-2']  || RMSE:  17.880124186980993\n",
      "K= 12 : ['PctBachDeg25_Over', 'incidenceRate', 'povertyPercent-2', 'PercentMarried-8', 'PctHS25_Over', 'PctSomeCol18_24-9', 'MedianAgeFemale-5', 'PctOtherRace', 'PctOtherRace-2', 'PctWhite-7', 'BirthRate-2', 'PctBlack-2']  || RMSE:  17.814108152854278\n",
      "K= 13 : ['PctBachDeg25_Over', 'incidenceRate', 'povertyPercent-2', 'PercentMarried-8', 'PctHS25_Over', 'PctSomeCol18_24-9', 'MedianAgeFemale-5', 'PctOtherRace', 'PctOtherRace-2', 'PctWhite-7', 'BirthRate-2', 'PctBlack-2', 'PctOtherRace-7']  || RMSE:  17.74385002907328\n",
      "K= 14 : ['PctBachDeg25_Over', 'incidenceRate', 'povertyPercent-2', 'PercentMarried-8', 'PctHS25_Over', 'PctSomeCol18_24-9', 'MedianAgeFemale-5', 'PctOtherRace', 'PctOtherRace-2', 'PctWhite-7', 'BirthRate-2', 'PctBlack-2', 'PctOtherRace-7', 'PctUnemployed16_Over']  || RMSE:  17.69553005743482\n",
      "K= 15 : ['PctBachDeg25_Over', 'incidenceRate', 'povertyPercent-2', 'PercentMarried-8', 'PctHS25_Over', 'PctSomeCol18_24-9', 'MedianAgeFemale-5', 'PctOtherRace', 'PctOtherRace-2', 'PctWhite-7', 'BirthRate-2', 'PctBlack-2', 'PctOtherRace-7', 'PctUnemployed16_Over', 'popEst2015-6']  || RMSE:  17.6621092048854\n",
      "K= 16 : ['PctBachDeg25_Over', 'incidenceRate', 'povertyPercent-2', 'PercentMarried-8', 'PctHS25_Over', 'PctSomeCol18_24-9', 'MedianAgeFemale-5', 'PctOtherRace', 'PctOtherRace-2', 'PctWhite-7', 'BirthRate-2', 'PctBlack-2', 'PctOtherRace-7', 'PctUnemployed16_Over', 'popEst2015-6', 'PctPublicCoverage-7']  || RMSE:  17.628061280105477\n",
      "K= 17 : ['PctBachDeg25_Over', 'incidenceRate', 'povertyPercent-2', 'PercentMarried-8', 'PctHS25_Over', 'PctSomeCol18_24-9', 'MedianAgeFemale-5', 'PctOtherRace', 'PctOtherRace-2', 'PctWhite-7', 'BirthRate-2', 'PctBlack-2', 'PctOtherRace-7', 'PctUnemployed16_Over', 'popEst2015-6', 'PctPublicCoverage-7', 'PctHS25_Over-2']  || RMSE:  17.60220369452627\n"
     ]
    }
   ],
   "source": [
    "### Let us fix a value of K, in this case k = d**.5\n",
    "K = int(X.shape[1]**.5)\n",
    "lr = LinearRegression()\n",
    "best_features, scores, best_losses = forward_search(lr, K, X_train, Y_train)"
   ]
  },
  {
   "cell_type": "code",
   "execution_count": 161,
   "metadata": {},
   "outputs": [
    {
     "name": "stdout",
     "output_type": "stream",
     "text": [
      "Best Features from Forward Search:  ['PctBachDeg25_Over', 'incidenceRate', 'povertyPercent-2', 'PercentMarried-8', 'PctHS25_Over', 'PctSomeCol18_24-9', 'MedianAgeFemale-5', 'PctOtherRace', 'PctOtherRace-2', 'PctWhite-7', 'BirthRate-2', 'PctBlack-2', 'PctOtherRace-7', 'PctUnemployed16_Over', 'popEst2015-6', 'PctPublicCoverage-7', 'PctHS25_Over-2']\n"
     ]
    },
    {
     "data": {
      "text/plain": [
       "<matplotlib.legend.Legend at 0x7fee0fd10520>"
      ]
     },
     "execution_count": 161,
     "metadata": {},
     "output_type": "execute_result"
    },
    {
     "data": {
      "image/png": "[encoded data removed]",
      "text/plain": [
       "<Figure size 432x288 with 1 Axes>"
      ]
     },
     "metadata": {
      "needs_background": "light"
     },
     "output_type": "display_data"
    }
   ],
   "source": [
    "print('Best Features from Forward Search: ',best_features)\n",
    "plt.plot(best_losses, label='Loss on Validation')\n",
    "plt.plot(scores, label='Estimation on GE')\n",
    "plt.xlabel('K')\n",
    "plt.ylabel('RMSE Loss')\n",
    "plt.legend()"
   ]
  },
  {
   "cell_type": "code",
   "execution_count": 162,
   "metadata": {},
   "outputs": [
    {
     "name": "stdout",
     "output_type": "stream",
     "text": [
      "RMSE Test Loss:  32.6481332287578\n"
     ]
    }
   ],
   "source": [
    "### Make prediction on our Test Set with the new set of features\n",
    "test_pred = lr.predict(X_test[best_features])\n",
    "\n",
    "### Compute the RMSE\n",
    "rmse = np.sqrt(mean_squared_error(test_pred, Y_test))\n",
    "print('RMSE Test Loss: ', rmse)"
   ]
  },
  {
   "cell_type": "markdown",
   "metadata": {},
   "source": [
    "## 5-Backward Search\n",
    "\n",
    "Backward search\n",
    "starts off with F = {1, . . . , d} as the set of all features\n",
    "1. Train the model with all the features\n",
    "\n",
    "2. repeatedly delete features one at a time (evaluating single-feature deletions in a similar manner to how forward search evaluates single-feature additions) until F = ∅"
   ]
  },
  {
   "cell_type": "code",
   "execution_count": 167,
   "metadata": {
    "scrolled": true
   },
   "outputs": [],
   "source": [
    "def backward_search(model, X, Y, K):\n",
    "    \n",
    "    ### get the features of the data\n",
    "    features = X.columns.tolist()\n",
    "    \n",
    "    rmse_losses = []\n",
    "    best_losses = []\n",
    "    best_features = []\n",
    "    subset_feature = features\n",
    "    all_scores = []\n",
    "    \n",
    "    while len(subset_feature) > K:\n",
    "        all_poss_features = []\n",
    "        rmse_losses = []\n",
    "        for feature in features:\n",
    "            subset_feature = features.copy()\n",
    "            subset_feature.remove(feature)\n",
    "\n",
    "            # Extract X with the subset of new features\n",
    "            new_data = X[subset_feature].values\n",
    "            \n",
    "            #split the new_data in train and validation(test_size = 20%)\n",
    "            x_train, x_val, y_train, y_val = train_test_split(new_data, Y.values, test_size = 0.2, random_state = 123)\n",
    "\n",
    "            y_train = y_train.reshape(-1, 1)\n",
    "            y_val = y_val.reshape(-1, 1)\n",
    "\n",
    "            #Cross validation using the KFold_train function\n",
    "            scores= KFold_train(model, x_train, y_train, kf)\n",
    "            \n",
    "             # Fit the model on the training set\n",
    "            model.fit(x_train,y_train) ## Replace with your code\n",
    "            \n",
    "            #Make Prediction on the validation set\n",
    "            ypred = model.predict(x_val) \n",
    "\n",
    "            #Calculate the RMSE on the validation set\n",
    "            rmse_loss = np.sqrt(mean_squared_error(ypred, y_val))\n",
    "\n",
    "            rmse_losses.append(rmse_loss)\n",
    "            all_poss_features.append(subset_feature)\n",
    "    \n",
    "        #Remove the feature f_i that, when eliminated, gives the best RMSE so far.\n",
    "        #ie if F-{f_i} gives the best RMSE so far, f_i will not be considered again on next iterations\n",
    "        feature_to_eliminate = features[np.argmin(rmse_losses)]\n",
    "        \n",
    "        #remove that feature from the initial set of input features\n",
    "        features.remove(features[np.argmin(rmse_losses)]) ### replace with your code###\n",
    "          \n",
    "        best_features.append(all_poss_features[np.argmin(rmse_losses)])\n",
    "        all_scores.append(np.mean(scores))\n",
    "        best_losses.append(np.min(rmse_losses))\n",
    "    return best_features, best_losses"
   ]
  },
  {
   "cell_type": "code",
   "execution_count": null,
   "metadata": {},
   "outputs": [],
   "source": [
    "K = 250\n",
    "lr = LinearRegression()\n",
    "best_features, best_losses = backward_search(lr, X_train, Y_train, K)"
   ]
  },
  {
   "cell_type": "code",
   "execution_count": null,
   "metadata": {},
   "outputs": [],
   "source": [
    "print('Best Features from Backward Search: ', best_features)\n",
    "plt.plot(best_losses, label='Loss on Validation')\n",
    "plt.plot(scores, label='Estimation on G.E.')\n",
    "plt.xlabel('K')\n",
    "plt.label('RMSE Loss')\n",
    "plt.legend()"
   ]
  },
  {
   "cell_type": "code",
   "execution_count": null,
   "metadata": {},
   "outputs": [],
   "source": [
    "### Make prediction on our Test Set with the new set of features\n",
    "test_pred = lr.predict()\n",
    "\n",
    "### Compute the RMSE\n",
    "rmse = None\n",
    "print('RMSE Test Loss: ', rmse)"
   ]
  },
  {
   "cell_type": "markdown",
   "metadata": {},
   "source": [
    "<b>Missing Value Ratio</b> is a filter method for Feature Selection that drops all the features that have a number of missing values greater than a certain threshold. \n",
    "Can you implement it using this previous dataset?"
   ]
  },
  {
   "cell_type": "code",
   "execution_count": null,
   "metadata": {},
   "outputs": [],
   "source": []
  }
 ],
 "metadata": {
  "kernelspec": {
   "display_name": "Python 3",
   "language": "python",
   "name": "python3"
  },
  "language_info": {
   "codemirror_mode": {
    "name": "ipython",
    "version": 3
   },
   "file_extension": ".py",
   "mimetype": "text/x-python",
   "name": "python",
   "nbconvert_exporter": "python",
   "pygments_lexer": "ipython3",
   "version": "3.8.5"
  }
 },
 "nbformat": 4,
 "nbformat_minor": 4
}
